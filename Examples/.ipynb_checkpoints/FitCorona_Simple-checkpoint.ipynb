{
 "cells": [
  {
   "cell_type": "code",
   "execution_count": 1,
   "metadata": {},
   "outputs": [
    {
     "name": "stdout",
     "output_type": "stream",
     "text": [
      "C:\\Users\\pi96doc\\Documents\\Programming\\PythonScripts\\StateModeling\n"
     ]
    }
   ],
   "source": [
    "cd .."
   ]
  },
  {
   "cell_type": "code",
   "execution_count": 2,
   "metadata": {},
   "outputs": [
    {
     "data": {
      "text/html": [
       "\n",
       "    <div class=\"bk-root\">\n",
       "        <a href=\"https://bokeh.org\" target=\"_blank\" class=\"bk-logo bk-logo-small bk-logo-notebook\"></a>\n",
       "        <span id=\"1001\">Loading BokehJS ...</span>\n",
       "    </div>"
      ]
     },
     "metadata": {},
     "output_type": "display_data"
    },
    {
     "data": {
      "application/javascript": [
       "\n",
       "(function(root) {\n",
       "  function now() {\n",
       "    return new Date();\n",
       "  }\n",
       "\n",
       "  var force = true;\n",
       "\n",
       "  if (typeof root._bokeh_onload_callbacks === \"undefined\" || force === true) {\n",
       "    root._bokeh_onload_callbacks = [];\n",
       "    root._bokeh_is_loading = undefined;\n",
       "  }\n",
       "\n",
       "  var JS_MIME_TYPE = 'application/javascript';\n",
       "  var HTML_MIME_TYPE = 'text/html';\n",
       "  var EXEC_MIME_TYPE = 'application/vnd.bokehjs_exec.v0+json';\n",
       "  var CLASS_NAME = 'output_bokeh rendered_html';\n",
       "\n",
       "  /**\n",
       "   * Render data to the DOM node\n",
       "   */\n",
       "  function render(props, node) {\n",
       "    var script = document.createElement(\"script\");\n",
       "    node.appendChild(script);\n",
       "  }\n",
       "\n",
       "  /**\n",
       "   * Handle when an output is cleared or removed\n",
       "   */\n",
       "  function handleClearOutput(event, handle) {\n",
       "    var cell = handle.cell;\n",
       "\n",
       "    var id = cell.output_area._bokeh_element_id;\n",
       "    var server_id = cell.output_area._bokeh_server_id;\n",
       "    // Clean up Bokeh references\n",
       "    if (id != null && id in Bokeh.index) {\n",
       "      Bokeh.index[id].model.document.clear();\n",
       "      delete Bokeh.index[id];\n",
       "    }\n",
       "\n",
       "    if (server_id !== undefined) {\n",
       "      // Clean up Bokeh references\n",
       "      var cmd = \"from bokeh.io.state import curstate; print(curstate().uuid_to_server['\" + server_id + \"'].get_sessions()[0].document.roots[0]._id)\";\n",
       "      cell.notebook.kernel.execute(cmd, {\n",
       "        iopub: {\n",
       "          output: function(msg) {\n",
       "            var id = msg.content.text.trim();\n",
       "            if (id in Bokeh.index) {\n",
       "              Bokeh.index[id].model.document.clear();\n",
       "              delete Bokeh.index[id];\n",
       "            }\n",
       "          }\n",
       "        }\n",
       "      });\n",
       "      // Destroy server and session\n",
       "      var cmd = \"import bokeh.io.notebook as ion; ion.destroy_server('\" + server_id + \"')\";\n",
       "      cell.notebook.kernel.execute(cmd);\n",
       "    }\n",
       "  }\n",
       "\n",
       "  /**\n",
       "   * Handle when a new output is added\n",
       "   */\n",
       "  function handleAddOutput(event, handle) {\n",
       "    var output_area = handle.output_area;\n",
       "    var output = handle.output;\n",
       "\n",
       "    // limit handleAddOutput to display_data with EXEC_MIME_TYPE content only\n",
       "    if ((output.output_type != \"display_data\") || (!output.data.hasOwnProperty(EXEC_MIME_TYPE))) {\n",
       "      return\n",
       "    }\n",
       "\n",
       "    var toinsert = output_area.element.find(\".\" + CLASS_NAME.split(' ')[0]);\n",
       "\n",
       "    if (output.metadata[EXEC_MIME_TYPE][\"id\"] !== undefined) {\n",
       "      toinsert[toinsert.length - 1].firstChild.textContent = output.data[JS_MIME_TYPE];\n",
       "      // store reference to embed id on output_area\n",
       "      output_area._bokeh_element_id = output.metadata[EXEC_MIME_TYPE][\"id\"];\n",
       "    }\n",
       "    if (output.metadata[EXEC_MIME_TYPE][\"server_id\"] !== undefined) {\n",
       "      var bk_div = document.createElement(\"div\");\n",
       "      bk_div.innerHTML = output.data[HTML_MIME_TYPE];\n",
       "      var script_attrs = bk_div.children[0].attributes;\n",
       "      for (var i = 0; i < script_attrs.length; i++) {\n",
       "        toinsert[toinsert.length - 1].firstChild.setAttribute(script_attrs[i].name, script_attrs[i].value);\n",
       "        toinsert[toinsert.length - 1].firstChild.textContent = bk_div.children[0].textContent\n",
       "      }\n",
       "      // store reference to server id on output_area\n",
       "      output_area._bokeh_server_id = output.metadata[EXEC_MIME_TYPE][\"server_id\"];\n",
       "    }\n",
       "  }\n",
       "\n",
       "  function register_renderer(events, OutputArea) {\n",
       "\n",
       "    function append_mime(data, metadata, element) {\n",
       "      // create a DOM node to render to\n",
       "      var toinsert = this.create_output_subarea(\n",
       "        metadata,\n",
       "        CLASS_NAME,\n",
       "        EXEC_MIME_TYPE\n",
       "      );\n",
       "      this.keyboard_manager.register_events(toinsert);\n",
       "      // Render to node\n",
       "      var props = {data: data, metadata: metadata[EXEC_MIME_TYPE]};\n",
       "      render(props, toinsert[toinsert.length - 1]);\n",
       "      element.append(toinsert);\n",
       "      return toinsert\n",
       "    }\n",
       "\n",
       "    /* Handle when an output is cleared or removed */\n",
       "    events.on('clear_output.CodeCell', handleClearOutput);\n",
       "    events.on('delete.Cell', handleClearOutput);\n",
       "\n",
       "    /* Handle when a new output is added */\n",
       "    events.on('output_added.OutputArea', handleAddOutput);\n",
       "\n",
       "    /**\n",
       "     * Register the mime type and append_mime function with output_area\n",
       "     */\n",
       "    OutputArea.prototype.register_mime_type(EXEC_MIME_TYPE, append_mime, {\n",
       "      /* Is output safe? */\n",
       "      safe: true,\n",
       "      /* Index of renderer in `output_area.display_order` */\n",
       "      index: 0\n",
       "    });\n",
       "  }\n",
       "\n",
       "  // register the mime type if in Jupyter Notebook environment and previously unregistered\n",
       "  if (root.Jupyter !== undefined) {\n",
       "    var events = require('base/js/events');\n",
       "    var OutputArea = require('notebook/js/outputarea').OutputArea;\n",
       "\n",
       "    if (OutputArea.prototype.mime_types().indexOf(EXEC_MIME_TYPE) == -1) {\n",
       "      register_renderer(events, OutputArea);\n",
       "    }\n",
       "  }\n",
       "\n",
       "  \n",
       "  if (typeof (root._bokeh_timeout) === \"undefined\" || force === true) {\n",
       "    root._bokeh_timeout = Date.now() + 5000;\n",
       "    root._bokeh_failed_load = false;\n",
       "  }\n",
       "\n",
       "  var NB_LOAD_WARNING = {'data': {'text/html':\n",
       "     \"<div style='background-color: #fdd'>\\n\"+\n",
       "     \"<p>\\n\"+\n",
       "     \"BokehJS does not appear to have successfully loaded. If loading BokehJS from CDN, this \\n\"+\n",
       "     \"may be due to a slow or bad network connection. Possible fixes:\\n\"+\n",
       "     \"</p>\\n\"+\n",
       "     \"<ul>\\n\"+\n",
       "     \"<li>re-rerun `output_notebook()` to attempt to load from CDN again, or</li>\\n\"+\n",
       "     \"<li>use INLINE resources instead, as so:</li>\\n\"+\n",
       "     \"</ul>\\n\"+\n",
       "     \"<code>\\n\"+\n",
       "     \"from bokeh.resources import INLINE\\n\"+\n",
       "     \"output_notebook(resources=INLINE)\\n\"+\n",
       "     \"</code>\\n\"+\n",
       "     \"</div>\"}};\n",
       "\n",
       "  function display_loaded() {\n",
       "    var el = document.getElementById(\"1001\");\n",
       "    if (el != null) {\n",
       "      el.textContent = \"BokehJS is loading...\";\n",
       "    }\n",
       "    if (root.Bokeh !== undefined) {\n",
       "      if (el != null) {\n",
       "        el.textContent = \"BokehJS \" + root.Bokeh.version + \" successfully loaded.\";\n",
       "      }\n",
       "    } else if (Date.now() < root._bokeh_timeout) {\n",
       "      setTimeout(display_loaded, 100)\n",
       "    }\n",
       "  }\n",
       "\n",
       "\n",
       "  function run_callbacks() {\n",
       "    try {\n",
       "      root._bokeh_onload_callbacks.forEach(function(callback) {\n",
       "        if (callback != null)\n",
       "          callback();\n",
       "      });\n",
       "    } finally {\n",
       "      delete root._bokeh_onload_callbacks\n",
       "    }\n",
       "    console.debug(\"Bokeh: all callbacks have finished\");\n",
       "  }\n",
       "\n",
       "  function load_libs(css_urls, js_urls, callback) {\n",
       "    if (css_urls == null) css_urls = [];\n",
       "    if (js_urls == null) js_urls = [];\n",
       "\n",
       "    root._bokeh_onload_callbacks.push(callback);\n",
       "    if (root._bokeh_is_loading > 0) {\n",
       "      console.debug(\"Bokeh: BokehJS is being loaded, scheduling callback at\", now());\n",
       "      return null;\n",
       "    }\n",
       "    if (js_urls == null || js_urls.length === 0) {\n",
       "      run_callbacks();\n",
       "      return null;\n",
       "    }\n",
       "    console.debug(\"Bokeh: BokehJS not loaded, scheduling load and callback at\", now());\n",
       "    root._bokeh_is_loading = css_urls.length + js_urls.length;\n",
       "\n",
       "    function on_load() {\n",
       "      root._bokeh_is_loading--;\n",
       "      if (root._bokeh_is_loading === 0) {\n",
       "        console.debug(\"Bokeh: all BokehJS libraries/stylesheets loaded\");\n",
       "        run_callbacks()\n",
       "      }\n",
       "    }\n",
       "\n",
       "    function on_error() {\n",
       "      console.error(\"failed to load \" + url);\n",
       "    }\n",
       "\n",
       "    for (var i = 0; i < css_urls.length; i++) {\n",
       "      var url = css_urls[i];\n",
       "      const element = document.createElement(\"link\");\n",
       "      element.onload = on_load;\n",
       "      element.onerror = on_error;\n",
       "      element.rel = \"stylesheet\";\n",
       "      element.type = \"text/css\";\n",
       "      element.href = url;\n",
       "      console.debug(\"Bokeh: injecting link tag for BokehJS stylesheet: \", url);\n",
       "      document.body.appendChild(element);\n",
       "    }\n",
       "\n",
       "    const hashes = {\"https://cdn.bokeh.org/bokeh/release/bokeh-2.0.2.min.js\": \"ufR9RFnRs6lniiaFvtJziE0YeidtAgBRH6ux2oUItHw5WTvE1zuk9uzhUU/FJXDp\", \"https://cdn.bokeh.org/bokeh/release/bokeh-widgets-2.0.2.min.js\": \"8QM/PGWBT+IssZuRcDcjzwIh1mkOmJSoNMmyYDZbCfXJg3Ap1lEvdVgFuSAwhb/J\", \"https://cdn.bokeh.org/bokeh/release/bokeh-tables-2.0.2.min.js\": \"Jm8cH3Rg0P6UeZhVY5cLy1WzKajUT9KImCY+76hEqrcJt59/d8GPvFHjCkYgnSIn\", \"https://cdn.bokeh.org/bokeh/release/bokeh-gl-2.0.2.min.js\": \"Ozhzj+SI7ywm74aOI/UajcWz+C0NjsPunEVyVIrxzYkB+jA+2tUw8x5xJCbVtK5I\"};\n",
       "\n",
       "    for (var i = 0; i < js_urls.length; i++) {\n",
       "      var url = js_urls[i];\n",
       "      var element = document.createElement('script');\n",
       "      element.onload = on_load;\n",
       "      element.onerror = on_error;\n",
       "      element.async = false;\n",
       "      element.src = url;\n",
       "      if (url in hashes) {\n",
       "        element.crossOrigin = \"anonymous\";\n",
       "        element.integrity = \"sha384-\" + hashes[url];\n",
       "      }\n",
       "      console.debug(\"Bokeh: injecting script tag for BokehJS library: \", url);\n",
       "      document.head.appendChild(element);\n",
       "    }\n",
       "  };\n",
       "\n",
       "  function inject_raw_css(css) {\n",
       "    const element = document.createElement(\"style\");\n",
       "    element.appendChild(document.createTextNode(css));\n",
       "    document.body.appendChild(element);\n",
       "  }\n",
       "\n",
       "  \n",
       "  var js_urls = [\"https://cdn.bokeh.org/bokeh/release/bokeh-2.0.2.min.js\", \"https://cdn.bokeh.org/bokeh/release/bokeh-widgets-2.0.2.min.js\", \"https://cdn.bokeh.org/bokeh/release/bokeh-tables-2.0.2.min.js\", \"https://cdn.bokeh.org/bokeh/release/bokeh-gl-2.0.2.min.js\"];\n",
       "  var css_urls = [];\n",
       "  \n",
       "\n",
       "  var inline_js = [\n",
       "    function(Bokeh) {\n",
       "      Bokeh.set_log_level(\"info\");\n",
       "    },\n",
       "    function(Bokeh) {\n",
       "    \n",
       "    \n",
       "    }\n",
       "  ];\n",
       "\n",
       "  function run_inline_js() {\n",
       "    \n",
       "    if (root.Bokeh !== undefined || force === true) {\n",
       "      \n",
       "    for (var i = 0; i < inline_js.length; i++) {\n",
       "      inline_js[i].call(root, root.Bokeh);\n",
       "    }\n",
       "    if (force === true) {\n",
       "        display_loaded();\n",
       "      }} else if (Date.now() < root._bokeh_timeout) {\n",
       "      setTimeout(run_inline_js, 100);\n",
       "    } else if (!root._bokeh_failed_load) {\n",
       "      console.log(\"Bokeh: BokehJS failed to load within specified timeout.\");\n",
       "      root._bokeh_failed_load = true;\n",
       "    } else if (force !== true) {\n",
       "      var cell = $(document.getElementById(\"1001\")).parents('.cell').data().cell;\n",
       "      cell.output_area.append_execute_result(NB_LOAD_WARNING)\n",
       "    }\n",
       "\n",
       "  }\n",
       "\n",
       "  if (root._bokeh_is_loading === 0) {\n",
       "    console.debug(\"Bokeh: BokehJS loaded, going straight to plotting\");\n",
       "    run_inline_js();\n",
       "  } else {\n",
       "    load_libs(css_urls, js_urls, function() {\n",
       "      console.debug(\"Bokeh: BokehJS plotting callback run at\", now());\n",
       "      run_inline_js();\n",
       "    });\n",
       "  }\n",
       "}(window));"
      ],
      "application/vnd.bokehjs_load.v0+json": "\n(function(root) {\n  function now() {\n    return new Date();\n  }\n\n  var force = true;\n\n  if (typeof root._bokeh_onload_callbacks === \"undefined\" || force === true) {\n    root._bokeh_onload_callbacks = [];\n    root._bokeh_is_loading = undefined;\n  }\n\n  \n\n  \n  if (typeof (root._bokeh_timeout) === \"undefined\" || force === true) {\n    root._bokeh_timeout = Date.now() + 5000;\n    root._bokeh_failed_load = false;\n  }\n\n  var NB_LOAD_WARNING = {'data': {'text/html':\n     \"<div style='background-color: #fdd'>\\n\"+\n     \"<p>\\n\"+\n     \"BokehJS does not appear to have successfully loaded. If loading BokehJS from CDN, this \\n\"+\n     \"may be due to a slow or bad network connection. Possible fixes:\\n\"+\n     \"</p>\\n\"+\n     \"<ul>\\n\"+\n     \"<li>re-rerun `output_notebook()` to attempt to load from CDN again, or</li>\\n\"+\n     \"<li>use INLINE resources instead, as so:</li>\\n\"+\n     \"</ul>\\n\"+\n     \"<code>\\n\"+\n     \"from bokeh.resources import INLINE\\n\"+\n     \"output_notebook(resources=INLINE)\\n\"+\n     \"</code>\\n\"+\n     \"</div>\"}};\n\n  function display_loaded() {\n    var el = document.getElementById(\"1001\");\n    if (el != null) {\n      el.textContent = \"BokehJS is loading...\";\n    }\n    if (root.Bokeh !== undefined) {\n      if (el != null) {\n        el.textContent = \"BokehJS \" + root.Bokeh.version + \" successfully loaded.\";\n      }\n    } else if (Date.now() < root._bokeh_timeout) {\n      setTimeout(display_loaded, 100)\n    }\n  }\n\n\n  function run_callbacks() {\n    try {\n      root._bokeh_onload_callbacks.forEach(function(callback) {\n        if (callback != null)\n          callback();\n      });\n    } finally {\n      delete root._bokeh_onload_callbacks\n    }\n    console.debug(\"Bokeh: all callbacks have finished\");\n  }\n\n  function load_libs(css_urls, js_urls, callback) {\n    if (css_urls == null) css_urls = [];\n    if (js_urls == null) js_urls = [];\n\n    root._bokeh_onload_callbacks.push(callback);\n    if (root._bokeh_is_loading > 0) {\n      console.debug(\"Bokeh: BokehJS is being loaded, scheduling callback at\", now());\n      return null;\n    }\n    if (js_urls == null || js_urls.length === 0) {\n      run_callbacks();\n      return null;\n    }\n    console.debug(\"Bokeh: BokehJS not loaded, scheduling load and callback at\", now());\n    root._bokeh_is_loading = css_urls.length + js_urls.length;\n\n    function on_load() {\n      root._bokeh_is_loading--;\n      if (root._bokeh_is_loading === 0) {\n        console.debug(\"Bokeh: all BokehJS libraries/stylesheets loaded\");\n        run_callbacks()\n      }\n    }\n\n    function on_error() {\n      console.error(\"failed to load \" + url);\n    }\n\n    for (var i = 0; i < css_urls.length; i++) {\n      var url = css_urls[i];\n      const element = document.createElement(\"link\");\n      element.onload = on_load;\n      element.onerror = on_error;\n      element.rel = \"stylesheet\";\n      element.type = \"text/css\";\n      element.href = url;\n      console.debug(\"Bokeh: injecting link tag for BokehJS stylesheet: \", url);\n      document.body.appendChild(element);\n    }\n\n    const hashes = {\"https://cdn.bokeh.org/bokeh/release/bokeh-2.0.2.min.js\": \"ufR9RFnRs6lniiaFvtJziE0YeidtAgBRH6ux2oUItHw5WTvE1zuk9uzhUU/FJXDp\", \"https://cdn.bokeh.org/bokeh/release/bokeh-widgets-2.0.2.min.js\": \"8QM/PGWBT+IssZuRcDcjzwIh1mkOmJSoNMmyYDZbCfXJg3Ap1lEvdVgFuSAwhb/J\", \"https://cdn.bokeh.org/bokeh/release/bokeh-tables-2.0.2.min.js\": \"Jm8cH3Rg0P6UeZhVY5cLy1WzKajUT9KImCY+76hEqrcJt59/d8GPvFHjCkYgnSIn\", \"https://cdn.bokeh.org/bokeh/release/bokeh-gl-2.0.2.min.js\": \"Ozhzj+SI7ywm74aOI/UajcWz+C0NjsPunEVyVIrxzYkB+jA+2tUw8x5xJCbVtK5I\"};\n\n    for (var i = 0; i < js_urls.length; i++) {\n      var url = js_urls[i];\n      var element = document.createElement('script');\n      element.onload = on_load;\n      element.onerror = on_error;\n      element.async = false;\n      element.src = url;\n      if (url in hashes) {\n        element.crossOrigin = \"anonymous\";\n        element.integrity = \"sha384-\" + hashes[url];\n      }\n      console.debug(\"Bokeh: injecting script tag for BokehJS library: \", url);\n      document.head.appendChild(element);\n    }\n  };\n\n  function inject_raw_css(css) {\n    const element = document.createElement(\"style\");\n    element.appendChild(document.createTextNode(css));\n    document.body.appendChild(element);\n  }\n\n  \n  var js_urls = [\"https://cdn.bokeh.org/bokeh/release/bokeh-2.0.2.min.js\", \"https://cdn.bokeh.org/bokeh/release/bokeh-widgets-2.0.2.min.js\", \"https://cdn.bokeh.org/bokeh/release/bokeh-tables-2.0.2.min.js\", \"https://cdn.bokeh.org/bokeh/release/bokeh-gl-2.0.2.min.js\"];\n  var css_urls = [];\n  \n\n  var inline_js = [\n    function(Bokeh) {\n      Bokeh.set_log_level(\"info\");\n    },\n    function(Bokeh) {\n    \n    \n    }\n  ];\n\n  function run_inline_js() {\n    \n    if (root.Bokeh !== undefined || force === true) {\n      \n    for (var i = 0; i < inline_js.length; i++) {\n      inline_js[i].call(root, root.Bokeh);\n    }\n    if (force === true) {\n        display_loaded();\n      }} else if (Date.now() < root._bokeh_timeout) {\n      setTimeout(run_inline_js, 100);\n    } else if (!root._bokeh_failed_load) {\n      console.log(\"Bokeh: BokehJS failed to load within specified timeout.\");\n      root._bokeh_failed_load = true;\n    } else if (force !== true) {\n      var cell = $(document.getElementById(\"1001\")).parents('.cell').data().cell;\n      cell.output_area.append_execute_result(NB_LOAD_WARNING)\n    }\n\n  }\n\n  if (root._bokeh_is_loading === 0) {\n    console.debug(\"Bokeh: BokehJS loaded, going straight to plotting\");\n    run_inline_js();\n  } else {\n    load_libs(css_urls, js_urls, function() {\n      console.debug(\"Bokeh: BokehJS plotting callback run at\", now());\n      run_inline_js();\n    });\n  }\n}(window));"
     },
     "metadata": {},
     "output_type": "display_data"
    },
    {
     "name": "stdout",
     "output_type": "stream",
     "text": [
      "Missed Cases: 476.0, Hospitalized: 111.0, Cured: 864.0, deaths: 3.0\n"
     ]
    }
   ],
   "source": [
    "# %matplotlib notebook\n",
    "# %matplotlib inline\n",
    "#import mpld3\n",
    "#mpld3.enable_notebook()\n",
    "\n",
    "import StateModeling as stm\n",
    "import numpy as np\n",
    "import matplotlib.pyplot as plt\n",
    "import tensorflow as tf\n",
    "from Corona.LoadData import loadData, preprocessData\n",
    "from Corona.CoronaModel import CoronaDelayModel, plotTotalCases\n",
    "from bokeh.io import push_notebook, show, output_notebook\n",
    "\n",
    "import ipywidgets as widgets\n",
    "from ipywidgets import interact, interact_manual\n",
    "# import cufflinks as cf\n",
    "\n",
    "output_notebook()\n",
    "\n",
    "if False:\n",
    "    AllMeasured = loadData(useThuringia = False, pullData=False)\n",
    "    AllMeasured = preprocessData(AllMeasured, ReduceDistricts=None, SumDistricts=True, SumAges=True, SumGender=True)\n",
    "    lossWeights = {'cases':100000.0,'deaths': 1000000.0}\n",
    "    deathPath = r\"C:\\Users\\pi96doc\\Documents\\Programming\\PythonScripts\\FromWeb\\COVID-19-DE\\time_series\\time-series_19-covid-Deaths.csv\"\n",
    "    # deaths = \n",
    "else:\n",
    "    AllMeasured = loadData(r\"COVID-19 Linelist 2020_05_13.xlsx\", useThuringia = True, pullData=False) # lastDate='09.05.2020'\n",
    "    # ExampleRegions = ['SK Jena'] # 'SK Gera',\n",
    "    ExampleRegions = ['SK Jena', 'LK Greiz', 'SK Gera'] # 'SK Gera',\n",
    "    AllMeasured = preprocessData(AllMeasured, ReduceDistricts=ExampleRegions, SumDistricts=False, SumAges=True, SumGender=True)\n",
    "    # AllMeasured = preprocessData(AllMeasured, ReduceDistricts=None, SumDistricts=True, SumAges=True, SumGender=True)\n",
    "    lossWeights = {'cases':0.1,'hospitalization':0.1,'deaths': 0.1}\n",
    "\n",
    "M = CoronaDelayModel(AllMeasured, Tmax = AllMeasured['Cases'].shape[0], lossWeight=lossWeights)\n"
   ]
  },
  {
   "cell_type": "code",
   "execution_count": 3,
   "metadata": {
    "scrolled": false
   },
   "outputs": [
    {
     "data": {
      "application/vnd.jupyter.widget-view+json": {
       "model_id": "39dc37bcf038498880b0c157b7e5e77e",
       "version_major": 2,
       "version_minor": 0
      },
      "text/plain": [
       "HBox(children=(Box(children=(Dropdown(description='time', options=(('0', 0), ('1', 1), ('2', 2), ('3', 3), ('4…"
      ]
     },
     "metadata": {},
     "output_type": "display_data"
    },
    {
     "data": {
      "application/vnd.jupyter.widget-view+json": {
       "model_id": "b833f885f977465fbe53687e931dccd2",
       "version_major": 2,
       "version_minor": 0
      },
      "text/plain": [
       "HBox(children=(HBox(children=(Checkbox(value=True, description='death_rate', indent=False, layout=Layout(displ…"
      ]
     },
     "metadata": {},
     "output_type": "display_data"
    },
    {
     "data": {
      "application/vnd.jupyter.widget-view+json": {
       "model_id": "0c62f652fbac40ec8192c3a7887211c5",
       "version_major": 2,
       "version_minor": 0
      },
      "text/plain": [
       "HBox(children=(HBox(children=(Checkbox(value=True, description='detect_t0', indent=False, layout=Layout(displa…"
      ]
     },
     "metadata": {},
     "output_type": "display_data"
    },
    {
     "data": {
      "application/vnd.jupyter.widget-view+json": {
       "model_id": "255fed9efbee4661aef52d06777c5e3d",
       "version_major": 2,
       "version_minor": 0
      },
      "text/plain": [
       "HBox(children=(HBox(children=(Checkbox(value=True, description='infect_first', indent=False, layout=Layout(dis…"
      ]
     },
     "metadata": {},
     "output_type": "display_data"
    },
    {
     "data": {
      "application/vnd.jupyter.widget-view+json": {
       "model_id": "e5e91b493ef643ac9952c25d0702a341",
       "version_major": 2,
       "version_minor": 0
      },
      "text/plain": [
       "HBox(children=(HBox(children=(Checkbox(value=True, description='hospital', indent=False, layout=Layout(display…"
      ]
     },
     "metadata": {},
     "output_type": "display_data"
    },
    {
     "data": {
      "application/vnd.jupyter.widget-view+json": {
       "model_id": "c14b5b3f749444ffa5950f2163e4eaa0",
       "version_major": 2,
       "version_minor": 0
      },
      "text/plain": [
       "HBox(children=(Button(description='Plot', style=ButtonStyle()), Checkbox(value=False, description='cumul.', in…"
      ]
     },
     "metadata": {},
     "output_type": "display_data"
    },
    {
     "data": {
      "application/vnd.jupyter.widget-view+json": {
       "model_id": "3de7b35cfa344030a3ef7990f3ae0ebc",
       "version_major": 2,
       "version_minor": 0
      },
      "text/plain": [
       "HBox(children=(Box(children=(Dropdown(options=(('L-BFGS', 0), ('SGD', 1), ('nesterov', 2), ('adam', 3), ('adad…"
      ]
     },
     "metadata": {},
     "output_type": "display_data"
    },
    {
     "name": "stdout",
     "output_type": "stream",
     "text": [
      "\n",
      "Loss is: 1.69121\n"
     ]
    },
    {
     "data": {
      "text/html": [
       "\n",
       "\n",
       "\n",
       "\n",
       "\n",
       "\n",
       "  <div class=\"bk-root\" id=\"28d8bcb4-3289-47ac-9fb6-695d04b969c8\" data-root-id=\"1002\"></div>\n"
      ]
     },
     "metadata": {},
     "output_type": "display_data"
    },
    {
     "data": {
      "application/javascript": [
       "(function(root) {\n",
       "  function embed_document(root) {\n",
       "    \n",
       "  var docs_json = {\"744c3d6e-9e9a-4d73-932d-049ce55e5ce4\":{\"roots\":{\"references\":[{\"attributes\":{\"background_fill_color\":\"#efefef\",\"below\":[{\"id\":\"1013\"}],\"center\":[{\"id\":\"1016\"},{\"id\":\"1020\"},{\"id\":\"1068\"}],\"left\":[{\"id\":\"1017\"}],\"name\":\"_figure_cases\",\"plot_height\":400,\"plot_width\":900,\"renderers\":[{\"id\":\"1040\"},{\"id\":\"1045\"},{\"id\":\"1074\"},{\"id\":\"1079\"},{\"id\":\"1109\"},{\"id\":\"1114\"},{\"id\":\"1146\"},{\"id\":\"1178\"},{\"id\":\"1212\"}],\"title\":{\"id\":\"1003\"},\"toolbar\":{\"id\":\"1029\"},\"x_range\":{\"id\":\"1005\"},\"x_scale\":{\"id\":\"1009\"},\"y_range\":{\"id\":\"1007\"},\"y_scale\":{\"id\":\"1011\"}},\"id\":\"1002\",\"subtype\":\"Figure\",\"type\":\"Plot\"},{\"attributes\":{\"source\":{\"id\":\"1142\"}},\"id\":\"1147\",\"type\":\"CDSView\"},{\"attributes\":{\"months\":[0,4,8]},\"id\":\"1065\",\"type\":\"MonthsTicker\"},{\"attributes\":{},\"id\":\"1018\",\"type\":\"BasicTicker\"},{\"attributes\":{\"label\":{\"value\":\"Fit_cases_SK Jena\"},\"renderers\":[{\"id\":\"1146\"}]},\"id\":\"1173\",\"type\":\"LegendItem\"},{\"attributes\":{\"months\":[0,6]},\"id\":\"1066\",\"type\":\"MonthsTicker\"},{\"attributes\":{\"axis\":{\"id\":\"1017\"},\"dimension\":1,\"ticker\":null},\"id\":\"1020\",\"type\":\"Grid\"},{\"attributes\":{\"data_source\":{\"id\":\"1142\"},\"glyph\":{\"id\":\"1144\"},\"hover_glyph\":null,\"muted_glyph\":null,\"name\":\"_Fit_cases_SK Jena\",\"nonselection_glyph\":{\"id\":\"1145\"},\"selection_glyph\":null,\"view\":{\"id\":\"1147\"}},\"id\":\"1146\",\"type\":\"GlyphRenderer\"},{\"attributes\":{},\"id\":\"1067\",\"type\":\"YearsTicker\"},{\"attributes\":{},\"id\":\"1021\",\"type\":\"PanTool\"},{\"attributes\":{\"click_policy\":\"hide\",\"items\":[{\"id\":\"1069\"},{\"id\":\"1104\"},{\"id\":\"1141\"},{\"id\":\"1173\"},{\"id\":\"1207\"},{\"id\":\"1243\"}]},\"id\":\"1068\",\"type\":\"Legend\"},{\"attributes\":{\"base\":60,\"mantissas\":[1,2,5,10,15,20,30],\"max_interval\":1800000.0,\"min_interval\":1000.0,\"num_minor_ticks\":0},\"id\":\"1057\",\"type\":\"AdaptiveTicker\"},{\"attributes\":{\"label\":{\"value\":\"measured_cases_SK Jena\"},\"renderers\":[{\"id\":\"1045\"}]},\"id\":\"1069\",\"type\":\"LegendItem\"},{\"attributes\":{\"data\":{\"x\":{\"__ndarray__\":\"AACA6w8Ed0IAAEBRYgR3QgAAALe0BHdCAADAHAcFd0IAAICCWQV3QgAAQOirBXdCAAAATv4Fd0IAAMCzUAZ3QgAAgBmjBndCAABAf/UGd0IAAADlRwd3QgAAwEqaB3dCAACAsOwHd0IAAEAWPwh3QgAAAHyRCHdCAADA4eMId0IAAIBHNgl3QgAAQK2ICXdCAAAAE9sJd0IAAMB4LQp3QgAAgN5/CndCAABARNIKd0IAAACqJAt3QgAAwA93C3dCAACAdckLd0IAAEDbGwx3QgAAAEFuDHdCAADApsAMd0IAAIAMEw13QgAAQHJlDXdCAAAA2LcNd0IAAMA9Cg53QgAAgKNcDndCAABACa8Od0IAAABvAQ93QgAAwNRTD3dCAACAOqYPd0IAAECg+A93QgAAAAZLEHdCAADAa50Qd0IAAIDR7xB3QgAAQDdCEXdCAAAAnZQRd0IAAMAC5xF3QgAAgGg5EndCAABAzosSd0IAAAA03hJ3QgAAwJkwE3dCAACA/4ITd0IAAEBl1RN3QgAAAMsnFHdCAADAMHoUd0IAAICWzBR3QgAAQPweFXdCAAAAYnEVd0IAAMDHwxV3QgAAgC0WFndCAABAk2gWd0IAAAD5uhZ3QgAAwF4NF3dCAACAxF8Xd0IAAEAqshd3QgAAAJAEGHdCAADA9VYYd0IAAIBbqRh3QgAAQMH7GHdCAAAAJ04Zd0IAAMCMoBl3QgAAgPLyGXdCAABAWEUad0IAAAC+lxp3QgAAwCPqGndCAACAiTwbd0IAAEDvjht3QgAAAFXhG3dCAADAujMcd0IAAIAghhx3QgAAQIbYHHdCAAAA7Codd0IAAMBRfR13QgAAgLfPHXdCAABAHSIed0IAAACDdB53QgAAwOjGHndCAACAThkfd0IAAEC0ax93QgAAABq+H3dCAADAfxAgd0IAAIDlYiB3QgAAQEu1IHdC\",\"dtype\":\"float64\",\"shape\":[90]},\"y\":{\"__ndarray__\":\"AAAAAAAAAAAAAAAAh2qSEIJGIhhDVQQf0dIeJSpOjCp4lzYvP1wvM/naeTbJ3QU5habfOg79Hjz2tOY8mSRfPREIsz2QagE+DZArPirYUj4H3XM+piuHPqA9kj68kpw+nS+nPuOBsj74m74+jX3LPmUz2T6c0+c+r3L3PmEQBD+19gw/a3UWP/qWID+TZis/2e82P/g+Qz/6YFA/4mNeP5JWbT/pSH0/3iWHP384kD/f5Zk/JjikPx46rz8+97o/unvHP4PU1D9cD+M/3zryP0UzAUBm0QlAjAATQPHJHEBfNydAMVMyQFsoPkB0wkpAuy1YQBh3ZkAzrHVAtO2CQO6Ji0C6spRAeXCeQPDLqEBSzrNARIG/QNTuy0CFIdlARiTnQHoC9kD04wJBYUALQdQcFEHFfx1B2m8nQd7zMUG+Ej1BeNNIQRs9VUG+VmJBbCdwQRe2fkHGBIdBMBSPQWuMl0FocKBB\",\"dtype\":\"float32\",\"shape\":[90]}},\"selected\":{\"id\":\"1193\"},\"selection_policy\":{\"id\":\"1194\"}},\"id\":\"1142\",\"type\":\"ColumnDataSource\"},{\"attributes\":{},\"id\":\"1022\",\"type\":\"WheelZoomTool\"},{\"attributes\":{\"data\":{\"x\":{\"__ndarray__\":\"AACA6w8Ed0IAAEBRYgR3QgAAALe0BHdCAADAHAcFd0IAAICCWQV3QgAAQOirBXdCAAAATv4Fd0IAAMCzUAZ3QgAAgBmjBndCAABAf/UGd0IAAADlRwd3QgAAwEqaB3dCAACAsOwHd0IAAEAWPwh3QgAAAHyRCHdCAADA4eMId0IAAIBHNgl3QgAAQK2ICXdCAAAAE9sJd0IAAMB4LQp3QgAAgN5/CndCAABARNIKd0IAAACqJAt3QgAAwA93C3dCAACAdckLd0IAAEDbGwx3QgAAAEFuDHdCAADApsAMd0IAAIAMEw13QgAAQHJlDXdCAAAA2LcNd0IAAMA9Cg53QgAAgKNcDndCAABACa8Od0IAAABvAQ93QgAAwNRTD3dCAACAOqYPd0IAAECg+A93QgAAAAZLEHdCAADAa50Qd0IAAIDR7xB3QgAAQDdCEXdCAAAAnZQRd0IAAMAC5xF3QgAAgGg5EndCAABAzosSd0IAAAA03hJ3QgAAwJkwE3dCAACA/4ITd0IAAEBl1RN3QgAAAMsnFHdCAADAMHoUd0IAAICWzBR3QgAAQPweFXdCAAAAYnEVd0IAAMDHwxV3QgAAgC0WFndCAABAk2gWd0IAAAD5uhZ3QgAAwF4NF3dCAACAxF8Xd0IAAEAqshd3QgAAAJAEGHdCAADA9VYYd0IAAIBbqRh3QgAAQMH7GHdCAAAAJ04Zd0IAAMCMoBl3QgAAgPLyGXdCAABAWEUad0IAAAC+lxp3QgAAwCPqGndCAACAiTwbd0IAAEDvjht3QgAAAFXhG3dCAADAujMcd0IAAIAghhx3QgAAQIbYHHdCAAAA7Codd0IAAMBRfR13QgAAgLfPHXdCAABAHSIed0IAAACDdB53QgAAwOjGHndCAACAThkfd0IAAEC0ax93QgAAABq+H3dCAADAfxAgd0IAAIDlYiB3QgAAQEu1IHdC\",\"dtype\":\"float64\",\"shape\":[90]},\"y\":{\"__ndarray__\":\"AAAAAAAAAAAAAAAAAAAAAAAAAAAAAAAAAAAAAAAAAAAAAAAAAAAAAAAAAAAAAAAAAAAAAAAAgD8AAAAAAAAAAAAAAAAAAIA/AAAAQAAAAAAAAAAAAAAAAAAAAAAAAABAAACAPwAAgD8AAKBAAABgQQAAEEEAAEBAAAAQQQAAgEEAAEBBAABAQQAAoEAAAOBAAADAQAAAgEAAAKBAAACAPwAAgEAAAABAAABAQAAAgEAAAAAAAAAAAAAAgD8AAIA/AACAPwAAAEAAAAAAAACAPwAAAAAAAIA/AAAAAAAAAAAAAAAAAAAAAAAAAAAAAAAAAAAAAAAAAAAAAAAAAAAAAAAAAAAAAIA/AAAAAAAAAAAAAIA/AAAAAAAAAAAAAAAAAAAAAAAAAAAAAAAAAAAAAAAAAAAAAAAAAAAAAAAAAAAAAAAAAAAAAAAAAAAAAAAAAAAAAAAAAAAAAAAAAAAAAAAAAAAAAAAA\",\"dtype\":\"float32\",\"shape\":[90]}},\"selected\":{\"id\":\"1054\"},\"selection_policy\":{\"id\":\"1055\"}},\"id\":\"1036\",\"type\":\"ColumnDataSource\"},{\"attributes\":{\"text\":\"Thuringia_cases\"},\"id\":\"1003\",\"type\":\"Title\"},{\"attributes\":{\"line_alpha\":0.1,\"line_color\":\"#1b9e77\",\"line_width\":1.5,\"x\":{\"field\":\"x\"},\"y\":{\"field\":\"y\"}},\"id\":\"1145\",\"type\":\"Line\"},{\"attributes\":{},\"id\":\"1193\",\"type\":\"Selection\"},{\"attributes\":{\"overlay\":{\"id\":\"1028\"}},\"id\":\"1023\",\"type\":\"BoxZoomTool\"},{\"attributes\":{\"line_alpha\":0.8,\"line_color\":\"#d95f02\",\"line_width\":1.5,\"x\":{\"field\":\"x\"},\"y\":{\"field\":\"y\"}},\"id\":\"1176\",\"type\":\"Line\"},{\"attributes\":{\"data_source\":{\"id\":\"1174\"},\"glyph\":{\"id\":\"1176\"},\"hover_glyph\":null,\"muted_glyph\":null,\"name\":\"_Fit_cases_LK Greiz\",\"nonselection_glyph\":{\"id\":\"1177\"},\"selection_glyph\":null,\"view\":{\"id\":\"1179\"}},\"id\":\"1178\",\"type\":\"GlyphRenderer\"},{\"attributes\":{},\"id\":\"1024\",\"type\":\"ResetTool\"},{\"attributes\":{\"source\":{\"id\":\"1070\"}},\"id\":\"1075\",\"type\":\"CDSView\"},{\"attributes\":{\"source\":{\"id\":\"1174\"}},\"id\":\"1179\",\"type\":\"CDSView\"},{\"attributes\":{},\"id\":\"1025\",\"type\":\"SaveTool\"},{\"attributes\":{\"fill_alpha\":{\"value\":0.1},\"fill_color\":{\"value\":\"#d95f02\"},\"line_alpha\":{\"value\":0.1},\"line_color\":{\"value\":\"#d95f02\"},\"line_width\":{\"value\":1.5},\"x\":{\"field\":\"x\"},\"y\":{\"field\":\"y\"}},\"id\":\"1073\",\"type\":\"Circle\"},{\"attributes\":{},\"id\":\"1005\",\"type\":\"DataRange1d\"},{\"attributes\":{\"overlay\":{\"id\":\"1027\"}},\"id\":\"1026\",\"type\":\"BoxSelectTool\"},{\"attributes\":{\"line_alpha\":0.8,\"line_color\":\"#1b9e77\",\"line_width\":1.5,\"x\":{\"field\":\"x\"},\"y\":{\"field\":\"y\"}},\"id\":\"1144\",\"type\":\"Line\"},{\"attributes\":{\"data_source\":{\"id\":\"1070\"},\"glyph\":{\"id\":\"1072\"},\"hover_glyph\":null,\"muted_glyph\":null,\"name\":\"_measured_cases_LK Greiz\",\"nonselection_glyph\":{\"id\":\"1073\"},\"selection_glyph\":null,\"view\":{\"id\":\"1075\"}},\"id\":\"1074\",\"type\":\"GlyphRenderer\"},{\"attributes\":{\"line_alpha\":0.1,\"line_color\":\"#d95f02\",\"line_width\":1.5,\"x\":{\"field\":\"x\"},\"y\":{\"field\":\"y\"}},\"id\":\"1177\",\"type\":\"Line\"},{\"attributes\":{\"fill_alpha\":{\"value\":0.9},\"fill_color\":{\"value\":\"#d95f02\"},\"line_alpha\":{\"value\":0.9},\"line_color\":{\"value\":\"#d95f02\"},\"line_width\":{\"value\":1.5},\"x\":{\"field\":\"x\"},\"y\":{\"field\":\"y\"}},\"id\":\"1072\",\"type\":\"Circle\"},{\"attributes\":{},\"id\":\"1194\",\"type\":\"UnionRenderers\"},{\"attributes\":{\"bottom_units\":\"screen\",\"fill_alpha\":0.5,\"fill_color\":\"lightgrey\",\"left_units\":\"screen\",\"level\":\"overlay\",\"line_alpha\":1.0,\"line_color\":\"black\",\"line_dash\":[4,4],\"line_width\":2,\"render_mode\":\"css\",\"right_units\":\"screen\",\"top_units\":\"screen\"},\"id\":\"1028\",\"type\":\"BoxAnnotation\"},{\"attributes\":{\"label\":{\"value\":\"Fit_cases_LK Greiz\"},\"renderers\":[{\"id\":\"1178\"}]},\"id\":\"1207\",\"type\":\"LegendItem\"},{\"attributes\":{\"bottom_units\":\"screen\",\"fill_alpha\":0.5,\"fill_color\":\"lightgrey\",\"left_units\":\"screen\",\"level\":\"overlay\",\"line_alpha\":1.0,\"line_color\":\"black\",\"line_dash\":[4,4],\"line_width\":2,\"render_mode\":\"css\",\"right_units\":\"screen\",\"top_units\":\"screen\"},\"id\":\"1027\",\"type\":\"BoxAnnotation\"},{\"attributes\":{\"source\":{\"id\":\"1070\"}},\"id\":\"1080\",\"type\":\"CDSView\"},{\"attributes\":{\"data\":{\"x\":{\"__ndarray__\":\"AACA6w8Ed0IAAEBRYgR3QgAAALe0BHdCAADAHAcFd0IAAICCWQV3QgAAQOirBXdCAAAATv4Fd0IAAMCzUAZ3QgAAgBmjBndCAABAf/UGd0IAAADlRwd3QgAAwEqaB3dCAACAsOwHd0IAAEAWPwh3QgAAAHyRCHdCAADA4eMId0IAAIBHNgl3QgAAQK2ICXdCAAAAE9sJd0IAAMB4LQp3QgAAgN5/CndCAABARNIKd0IAAACqJAt3QgAAwA93C3dCAACAdckLd0IAAEDbGwx3QgAAAEFuDHdCAADApsAMd0IAAIAMEw13QgAAQHJlDXdCAAAA2LcNd0IAAMA9Cg53QgAAgKNcDndCAABACa8Od0IAAABvAQ93QgAAwNRTD3dCAACAOqYPd0IAAECg+A93QgAAAAZLEHdCAADAa50Qd0IAAIDR7xB3QgAAQDdCEXdCAAAAnZQRd0IAAMAC5xF3QgAAgGg5EndCAABAzosSd0IAAAA03hJ3QgAAwJkwE3dCAACA/4ITd0IAAEBl1RN3QgAAAMsnFHdCAADAMHoUd0IAAICWzBR3QgAAQPweFXdCAAAAYnEVd0IAAMDHwxV3QgAAgC0WFndCAABAk2gWd0IAAAD5uhZ3QgAAwF4NF3dCAACAxF8Xd0IAAEAqshd3QgAAAJAEGHdCAADA9VYYd0IAAIBbqRh3QgAAQMH7GHdCAAAAJ04Zd0IAAMCMoBl3QgAAgPLyGXdCAABAWEUad0IAAAC+lxp3QgAAwCPqGndCAACAiTwbd0IAAEDvjht3QgAAAFXhG3dCAADAujMcd0IAAIAghhx3QgAAQIbYHHdCAAAA7Codd0IAAMBRfR13QgAAgLfPHXdCAABAHSIed0IAAACDdB53QgAAwOjGHndCAACAThkfd0IAAEC0ax93QgAAABq+H3dCAADAfxAgd0IAAIDlYiB3QgAAQEu1IHdC\",\"dtype\":\"float64\",\"shape\":[90]},\"y\":{\"__ndarray__\":\"AAAAAAAAAAAAAAAAAAAAAAAAAAAAAAAAAAAAAAAAAAAAAAAAR3p3EE0kCRiJrN8eezkGJSImbSq5TxovOjMUMzooUzb8Q+I4zQK9OixdBjxz+cI8ApU8PXxNlz1xvto9mv0QPjQwMj7cF04+TnhkPmQudz6gUoQ+tUqNPhXclj5UFqE+L/mrPmePtz6068M+YR/RPho43z4BQ+4+eE/+Ppm3Bz+L2hA/ZpoaP3YBJT/EGjA/HPI7PxyUSD8qDlY/gW5kP0zEcz/RD4I/2siKP1wWlD8MAp4/NZaoP8zdsz9t5L8/dLbMP/Ng2j/U8eg/0nf4P0WBBEA+UQ1AmrQWQJu0IEAJWytAPrI2QCbFQkBHn09AxExdQG7aa0CxVXtAWuaFQCanjkAE9ZdAGNihQOJYrEBHgLdAgVfDQC7oz0BGPN1AGV7rQE5Y+kDqGgVB9oANQQhkFkH2yR9Br7gpQSo2NEFeSD9B\",\"dtype\":\"float32\",\"shape\":[90]}},\"selected\":{\"id\":\"1261\"},\"selection_policy\":{\"id\":\"1262\"}},\"id\":\"1208\",\"type\":\"ColumnDataSource\"},{\"attributes\":{},\"id\":\"1090\",\"type\":\"Selection\"},{\"attributes\":{\"active_drag\":\"auto\",\"active_inspect\":\"auto\",\"active_multi\":null,\"active_scroll\":\"auto\",\"active_tap\":\"auto\",\"tools\":[{\"id\":\"1021\"},{\"id\":\"1022\"},{\"id\":\"1023\"},{\"id\":\"1024\"},{\"id\":\"1025\"},{\"id\":\"1026\"}]},\"id\":\"1029\",\"type\":\"Toolbar\"},{\"attributes\":{\"data\":{\"x\":{\"__ndarray__\":\"AACA6w8Ed0IAAEBRYgR3QgAAALe0BHdCAADAHAcFd0IAAICCWQV3QgAAQOirBXdCAAAATv4Fd0IAAMCzUAZ3QgAAgBmjBndCAABAf/UGd0IAAADlRwd3QgAAwEqaB3dCAACAsOwHd0IAAEAWPwh3QgAAAHyRCHdCAADA4eMId0IAAIBHNgl3QgAAQK2ICXdCAAAAE9sJd0IAAMB4LQp3QgAAgN5/CndCAABARNIKd0IAAACqJAt3QgAAwA93C3dCAACAdckLd0IAAEDbGwx3QgAAAEFuDHdCAADApsAMd0IAAIAMEw13QgAAQHJlDXdCAAAA2LcNd0IAAMA9Cg53QgAAgKNcDndCAABACa8Od0IAAABvAQ93QgAAwNRTD3dCAACAOqYPd0IAAECg+A93QgAAAAZLEHdCAADAa50Qd0IAAIDR7xB3QgAAQDdCEXdCAAAAnZQRd0IAAMAC5xF3QgAAgGg5EndCAABAzosSd0IAAAA03hJ3QgAAwJkwE3dCAACA/4ITd0IAAEBl1RN3QgAAAMsnFHdCAADAMHoUd0IAAICWzBR3QgAAQPweFXdCAAAAYnEVd0IAAMDHwxV3QgAAgC0WFndCAABAk2gWd0IAAAD5uhZ3QgAAwF4NF3dCAACAxF8Xd0IAAEAqshd3QgAAAJAEGHdCAADA9VYYd0IAAIBbqRh3QgAAQMH7GHdCAAAAJ04Zd0IAAMCMoBl3QgAAgPLyGXdCAABAWEUad0IAAAC+lxp3QgAAwCPqGndCAACAiTwbd0IAAEDvjht3QgAAAFXhG3dCAADAujMcd0IAAIAghhx3QgAAQIbYHHdCAAAA7Codd0IAAMBRfR13QgAAgLfPHXdCAABAHSIed0IAAACDdB53QgAAwOjGHndCAACAThkfd0IAAEC0ax93QgAAABq+H3dCAADAfxAgd0IAAIDlYiB3QgAAQEu1IHdC\",\"dtype\":\"float64\",\"shape\":[90]},\"y\":{\"__ndarray__\":\"AAAAAAAAAAAAAAAAAAAAAAAAAAAAAAAAAAAAAAAAAAAAAAAAAAAAAAAAAAAAAAAAAACAPwAAAAAAAAAAAAAAAAAAAAAAAIA/AAAAAAAAgD8AAAAAAAAAAAAAgD8AAABAAAAAQAAAQEAAAABAAACAPwAAoEAAAEBAAACgQAAAUEEAACBBAAAgQQAAIEEAAGBBAADgQAAAEEEAAGBBAAAQQQAA4EAAADBBAAAwQQAA4EAAAABAAABgQQAAAEAAAKBAAAAAQQAAIEEAAOBAAABAQQAAoEAAAOBAAADAQAAAEEEAAABBAACAQAAA4EAAAFBBAAAwQQAAwEAAABBBAAAAQQAA4EAAABBBAABwQQAAYEEAAOBAAADgQAAA4EAAADBBAAAgQQAAwEAAABBBAADgQAAAIEEAAOBAAABAQAAAAEAAAOBAAAAAQAAAgEAAAABBAADAQAAAwEAAAEBAAAAAAAAAAAAAAAAA\",\"dtype\":\"float32\",\"shape\":[90]}},\"selected\":{\"id\":\"1090\"},\"selection_policy\":{\"id\":\"1091\"}},\"id\":\"1070\",\"type\":\"ColumnDataSource\"},{\"attributes\":{\"fill_alpha\":{\"value\":0.1},\"fill_color\":{\"value\":\"#d95f02\"},\"line_alpha\":{\"value\":0.1},\"line_color\":{\"value\":\"#d95f02\"},\"top\":{\"field\":\"y\"},\"width\":{\"value\":51840000.0},\"x\":{\"field\":\"x\"}},\"id\":\"1078\",\"type\":\"VBar\"},{\"attributes\":{\"fill_alpha\":{\"value\":0.6},\"fill_color\":{\"value\":\"#d95f02\"},\"line_alpha\":{\"value\":0.6},\"line_color\":{\"value\":\"#d95f02\"},\"top\":{\"field\":\"y\"},\"width\":{\"value\":51840000.0},\"x\":{\"field\":\"x\"}},\"id\":\"1077\",\"type\":\"VBar\"},{\"attributes\":{\"source\":{\"id\":\"1036\"}},\"id\":\"1041\",\"type\":\"CDSView\"},{\"attributes\":{\"data_source\":{\"id\":\"1070\"},\"glyph\":{\"id\":\"1077\"},\"hover_glyph\":null,\"muted_glyph\":null,\"name\":\"_measured_cases_LK Greiz\",\"nonselection_glyph\":{\"id\":\"1078\"},\"selection_glyph\":null,\"view\":{\"id\":\"1080\"}},\"id\":\"1079\",\"type\":\"GlyphRenderer\"},{\"attributes\":{},\"id\":\"1229\",\"type\":\"Selection\"},{\"attributes\":{\"line_alpha\":0.8,\"line_color\":\"#7570b3\",\"line_width\":1.5,\"x\":{\"field\":\"x\"},\"y\":{\"field\":\"y\"}},\"id\":\"1210\",\"type\":\"Line\"},{\"attributes\":{\"fill_alpha\":{\"value\":0.1},\"fill_color\":{\"value\":\"#1b9e77\"},\"line_alpha\":{\"value\":0.1},\"line_color\":{\"value\":\"#1b9e77\"},\"line_width\":{\"value\":1.5},\"x\":{\"field\":\"x\"},\"y\":{\"field\":\"y\"}},\"id\":\"1039\",\"type\":\"Circle\"},{\"attributes\":{\"data_source\":{\"id\":\"1036\"},\"glyph\":{\"id\":\"1038\"},\"hover_glyph\":null,\"muted_glyph\":null,\"name\":\"_measured_cases_SK Jena\",\"nonselection_glyph\":{\"id\":\"1039\"},\"selection_glyph\":null,\"view\":{\"id\":\"1041\"}},\"id\":\"1040\",\"type\":\"GlyphRenderer\"},{\"attributes\":{\"data_source\":{\"id\":\"1208\"},\"glyph\":{\"id\":\"1210\"},\"hover_glyph\":null,\"muted_glyph\":null,\"name\":\"_Fit_cases_SK Gera\",\"nonselection_glyph\":{\"id\":\"1211\"},\"selection_glyph\":null,\"view\":{\"id\":\"1213\"}},\"id\":\"1212\",\"type\":\"GlyphRenderer\"},{\"attributes\":{\"source\":{\"id\":\"1208\"}},\"id\":\"1213\",\"type\":\"CDSView\"},{\"attributes\":{},\"id\":\"1091\",\"type\":\"UnionRenderers\"},{\"attributes\":{\"fill_alpha\":{\"value\":0.9},\"fill_color\":{\"value\":\"#1b9e77\"},\"line_alpha\":{\"value\":0.9},\"line_color\":{\"value\":\"#1b9e77\"},\"line_width\":{\"value\":1.5},\"x\":{\"field\":\"x\"},\"y\":{\"field\":\"y\"}},\"id\":\"1038\",\"type\":\"Circle\"},{\"attributes\":{\"label\":{\"value\":\"measured_cases_LK Greiz\"},\"renderers\":[{\"id\":\"1079\"}]},\"id\":\"1104\",\"type\":\"LegendItem\"},{\"attributes\":{\"data\":{\"x\":{\"__ndarray__\":\"AACA6w8Ed0IAAEBRYgR3QgAAALe0BHdCAADAHAcFd0IAAICCWQV3QgAAQOirBXdCAAAATv4Fd0IAAMCzUAZ3QgAAgBmjBndCAABAf/UGd0IAAADlRwd3QgAAwEqaB3dCAACAsOwHd0IAAEAWPwh3QgAAAHyRCHdCAADA4eMId0IAAIBHNgl3QgAAQK2ICXdCAAAAE9sJd0IAAMB4LQp3QgAAgN5/CndCAABARNIKd0IAAACqJAt3QgAAwA93C3dCAACAdckLd0IAAEDbGwx3QgAAAEFuDHdCAADApsAMd0IAAIAMEw13QgAAQHJlDXdCAAAA2LcNd0IAAMA9Cg53QgAAgKNcDndCAABACa8Od0IAAABvAQ93QgAAwNRTD3dCAACAOqYPd0IAAECg+A93QgAAAAZLEHdCAADAa50Qd0IAAIDR7xB3QgAAQDdCEXdCAAAAnZQRd0IAAMAC5xF3QgAAgGg5EndCAABAzosSd0IAAAA03hJ3QgAAwJkwE3dCAACA/4ITd0IAAEBl1RN3QgAAAMsnFHdCAADAMHoUd0IAAICWzBR3QgAAQPweFXdCAAAAYnEVd0IAAMDHwxV3QgAAgC0WFndCAABAk2gWd0IAAAD5uhZ3QgAAwF4NF3dCAACAxF8Xd0IAAEAqshd3QgAAAJAEGHdCAADA9VYYd0IAAIBbqRh3QgAAQMH7GHdCAAAAJ04Zd0IAAMCMoBl3QgAAgPLyGXdCAABAWEUad0IAAAC+lxp3QgAAwCPqGndCAACAiTwbd0IAAEDvjht3QgAAAFXhG3dCAADAujMcd0IAAIAghhx3QgAAQIbYHHdCAAAA7Codd0IAAMBRfR13QgAAgLfPHXdCAABAHSIed0IAAACDdB53QgAAwOjGHndCAACAThkfd0IAAEC0ax93QgAAABq+H3dCAADAfxAgd0IAAIDlYiB3QgAAQEu1IHdC\",\"dtype\":\"float64\",\"shape\":[90]},\"y\":{\"__ndarray__\":\"AAAAAAAAAABIAYEQefoOGHsx6R7d7wsl4j13KvTgIC/ggRozzCRcNirl6zgXDsU6ExUMPLhFyzyem0Q9772dPasN5D1KKRc+lMU5PkPdVj6BMW4+udmAPkr0iT4YTpM+t0edPmLxpz7YSrM+T1+/PkhCzD7PBdo+HbjoPudm+D4ekQQ/RH4NP8EEFz/WLiE/QAcsP3qZNz/W8UM/ex1RP10qXz9WJ24/NyR+P+OYhz/2sJA/02OaP5q7pD8Hw68/g4W7PywPyD/hbNU/R6zjP9/b8j+AhQFA+CQKQPZUE0CdHh1AkIsnQAmmMkDPeD5AQQ9LQGt1WEDxt2ZAKeR1QA0Eg0BAmYtAa7mUQKlsnkB1u6hAsq6zQJtPv0Dap8tAbcHYQMCm5kCNYvVA+X8CQSzFCkG6hhNBnsocQfWWJkHm8TBBquE7QYFsR0GcmFNBHWxgQQbtbUEYIXxB84aFQUlcjUHukpVB\",\"dtype\":\"float32\",\"shape\":[90]}},\"selected\":{\"id\":\"1229\"},\"selection_policy\":{\"id\":\"1230\"}},\"id\":\"1174\",\"type\":\"ColumnDataSource\"},{\"attributes\":{\"line_alpha\":0.1,\"line_color\":\"#7570b3\",\"line_width\":1.5,\"x\":{\"field\":\"x\"},\"y\":{\"field\":\"y\"}},\"id\":\"1211\",\"type\":\"Line\"},{\"attributes\":{\"source\":{\"id\":\"1036\"}},\"id\":\"1046\",\"type\":\"CDSView\"},{\"attributes\":{\"data\":{\"x\":{\"__ndarray__\":\"AACA6w8Ed0IAAEBRYgR3QgAAALe0BHdCAADAHAcFd0IAAICCWQV3QgAAQOirBXdCAAAATv4Fd0IAAMCzUAZ3QgAAgBmjBndCAABAf/UGd0IAAADlRwd3QgAAwEqaB3dCAACAsOwHd0IAAEAWPwh3QgAAAHyRCHdCAADA4eMId0IAAIBHNgl3QgAAQK2ICXdCAAAAE9sJd0IAAMB4LQp3QgAAgN5/CndCAABARNIKd0IAAACqJAt3QgAAwA93C3dCAACAdckLd0IAAEDbGwx3QgAAAEFuDHdCAADApsAMd0IAAIAMEw13QgAAQHJlDXdCAAAA2LcNd0IAAMA9Cg53QgAAgKNcDndCAABACa8Od0IAAABvAQ93QgAAwNRTD3dCAACAOqYPd0IAAECg+A93QgAAAAZLEHdCAADAa50Qd0IAAIDR7xB3QgAAQDdCEXdCAAAAnZQRd0IAAMAC5xF3QgAAgGg5EndCAABAzosSd0IAAAA03hJ3QgAAwJkwE3dCAACA/4ITd0IAAEBl1RN3QgAAAMsnFHdCAADAMHoUd0IAAICWzBR3QgAAQPweFXdCAAAAYnEVd0IAAMDHwxV3QgAAgC0WFndCAABAk2gWd0IAAAD5uhZ3QgAAwF4NF3dCAACAxF8Xd0IAAEAqshd3QgAAAJAEGHdCAADA9VYYd0IAAIBbqRh3QgAAQMH7GHdCAAAAJ04Zd0IAAMCMoBl3QgAAgPLyGXdCAABAWEUad0IAAAC+lxp3QgAAwCPqGndCAACAiTwbd0IAAEDvjht3QgAAAFXhG3dCAADAujMcd0IAAIAghhx3QgAAQIbYHHdCAAAA7Codd0IAAMBRfR13QgAAgLfPHXdCAABAHSIed0IAAACDdB53QgAAwOjGHndCAACAThkfd0IAAEC0ax93QgAAABq+H3dCAADAfxAgd0IAAIDlYiB3QgAAQEu1IHdC\",\"dtype\":\"float64\",\"shape\":[90]},\"y\":{\"__ndarray__\":\"AAAAAAAAAAAAAAAAAAAAAAAAAAAAAAAAAAAAAAAAAAAAAAAAAAAAAAAAAAAAAAAAAAAAAAAAAAAAAAAAAAAAAAAAAAAAAAAAAAAAAAAAgD8AAAAAAAAAAAAAAAAAAAAAAAAAAAAAAAAAAAAAAAAAAAAAAAAAAIA/AAAAQAAAQEAAAAAAAAAAQAAAAAAAAABAAACAPwAAgD8AAIBAAACAPwAAAEAAAEBAAABAQAAAAAAAAIA/AAAAQAAAAEAAAEBAAACAPwAAAAAAAIBAAAAAAAAAgEAAAEBAAADAQAAAAEAAAKBAAAAAQAAAoEAAAMBAAAAAQAAAoEAAAKBAAABAQAAAgEAAAEBAAABAQAAAgD8AAABAAACgQAAAQEAAAIA/AAAAAAAAgEAAAIA/AADgQAAAgD8AAABAAAAAAAAAgD8AAABAAAAAQAAAAEAAAAAAAAAAQAAAAAAAAAAAAAAAAAAAAAAAAAAA\",\"dtype\":\"float32\",\"shape\":[90]}},\"selected\":{\"id\":\"1127\"},\"selection_policy\":{\"id\":\"1128\"}},\"id\":\"1105\",\"type\":\"ColumnDataSource\"},{\"attributes\":{},\"id\":\"1048\",\"type\":\"BasicTickFormatter\"},{\"attributes\":{},\"id\":\"1230\",\"type\":\"UnionRenderers\"},{\"attributes\":{\"label\":{\"value\":\"Fit_cases_SK Gera\"},\"renderers\":[{\"id\":\"1212\"}]},\"id\":\"1243\",\"type\":\"LegendItem\"},{\"attributes\":{\"fill_alpha\":{\"value\":0.1},\"fill_color\":{\"value\":\"#1b9e77\"},\"line_alpha\":{\"value\":0.1},\"line_color\":{\"value\":\"#1b9e77\"},\"top\":{\"field\":\"y\"},\"width\":{\"value\":51840000.0},\"x\":{\"field\":\"x\"}},\"id\":\"1044\",\"type\":\"VBar\"},{\"attributes\":{\"fill_alpha\":{\"value\":0.6},\"fill_color\":{\"value\":\"#1b9e77\"},\"line_alpha\":{\"value\":0.6},\"line_color\":{\"value\":\"#1b9e77\"},\"top\":{\"field\":\"y\"},\"width\":{\"value\":51840000.0},\"x\":{\"field\":\"x\"}},\"id\":\"1043\",\"type\":\"VBar\"},{\"attributes\":{\"source\":{\"id\":\"1105\"}},\"id\":\"1110\",\"type\":\"CDSView\"},{\"attributes\":{},\"id\":\"1261\",\"type\":\"Selection\"},{\"attributes\":{\"data_source\":{\"id\":\"1036\"},\"glyph\":{\"id\":\"1043\"},\"hover_glyph\":null,\"muted_glyph\":null,\"name\":\"_measured_cases_SK Jena\",\"nonselection_glyph\":{\"id\":\"1044\"},\"selection_glyph\":null,\"view\":{\"id\":\"1046\"}},\"id\":\"1045\",\"type\":\"GlyphRenderer\"},{\"attributes\":{\"fill_alpha\":{\"value\":0.1},\"fill_color\":{\"value\":\"#7570b3\"},\"line_alpha\":{\"value\":0.1},\"line_color\":{\"value\":\"#7570b3\"},\"line_width\":{\"value\":1.5},\"x\":{\"field\":\"x\"},\"y\":{\"field\":\"y\"}},\"id\":\"1108\",\"type\":\"Circle\"},{\"attributes\":{},\"id\":\"1262\",\"type\":\"UnionRenderers\"},{\"attributes\":{\"data_source\":{\"id\":\"1105\"},\"glyph\":{\"id\":\"1107\"},\"hover_glyph\":null,\"muted_glyph\":null,\"name\":\"_measured_cases_SK Gera\",\"nonselection_glyph\":{\"id\":\"1108\"},\"selection_glyph\":null,\"view\":{\"id\":\"1110\"}},\"id\":\"1109\",\"type\":\"GlyphRenderer\"},{\"attributes\":{},\"id\":\"1050\",\"type\":\"DatetimeTickFormatter\"},{\"attributes\":{\"fill_alpha\":{\"value\":0.9},\"fill_color\":{\"value\":\"#7570b3\"},\"line_alpha\":{\"value\":0.9},\"line_color\":{\"value\":\"#7570b3\"},\"line_width\":{\"value\":1.5},\"x\":{\"field\":\"x\"},\"y\":{\"field\":\"y\"}},\"id\":\"1107\",\"type\":\"Circle\"},{\"attributes\":{},\"id\":\"1054\",\"type\":\"Selection\"},{\"attributes\":{},\"id\":\"1055\",\"type\":\"UnionRenderers\"},{\"attributes\":{\"source\":{\"id\":\"1105\"}},\"id\":\"1115\",\"type\":\"CDSView\"},{\"attributes\":{},\"id\":\"1127\",\"type\":\"Selection\"},{\"attributes\":{\"mantissas\":[1,2,5],\"max_interval\":500.0,\"num_minor_ticks\":0},\"id\":\"1056\",\"type\":\"AdaptiveTicker\"},{\"attributes\":{\"base\":24,\"mantissas\":[1,2,4,6,8,12],\"max_interval\":43200000.0,\"min_interval\":3600000.0,\"num_minor_ticks\":0},\"id\":\"1058\",\"type\":\"AdaptiveTicker\"},{\"attributes\":{\"fill_alpha\":{\"value\":0.1},\"fill_color\":{\"value\":\"#7570b3\"},\"line_alpha\":{\"value\":0.1},\"line_color\":{\"value\":\"#7570b3\"},\"top\":{\"field\":\"y\"},\"width\":{\"value\":51840000.0},\"x\":{\"field\":\"x\"}},\"id\":\"1113\",\"type\":\"VBar\"},{\"attributes\":{},\"id\":\"1007\",\"type\":\"DataRange1d\"},{\"attributes\":{\"fill_alpha\":{\"value\":0.6},\"fill_color\":{\"value\":\"#7570b3\"},\"line_alpha\":{\"value\":0.6},\"line_color\":{\"value\":\"#7570b3\"},\"top\":{\"field\":\"y\"},\"width\":{\"value\":51840000.0},\"x\":{\"field\":\"x\"}},\"id\":\"1112\",\"type\":\"VBar\"},{\"attributes\":{\"days\":[1,2,3,4,5,6,7,8,9,10,11,12,13,14,15,16,17,18,19,20,21,22,23,24,25,26,27,28,29,30,31]},\"id\":\"1059\",\"type\":\"DaysTicker\"},{\"attributes\":{},\"id\":\"1009\",\"type\":\"LinearScale\"},{\"attributes\":{\"data_source\":{\"id\":\"1105\"},\"glyph\":{\"id\":\"1112\"},\"hover_glyph\":null,\"muted_glyph\":null,\"name\":\"_measured_cases_SK Gera\",\"nonselection_glyph\":{\"id\":\"1113\"},\"selection_glyph\":null,\"view\":{\"id\":\"1115\"}},\"id\":\"1114\",\"type\":\"GlyphRenderer\"},{\"attributes\":{\"days\":[1,4,7,10,13,16,19,22,25,28]},\"id\":\"1060\",\"type\":\"DaysTicker\"},{\"attributes\":{},\"id\":\"1011\",\"type\":\"LinearScale\"},{\"attributes\":{\"days\":[1,8,15,22]},\"id\":\"1061\",\"type\":\"DaysTicker\"},{\"attributes\":{\"axis_label\":\"time\",\"formatter\":{\"id\":\"1050\"},\"major_label_orientation\":0.7853981633974483,\"ticker\":{\"id\":\"1014\"}},\"id\":\"1013\",\"type\":\"DatetimeAxis\"},{\"attributes\":{},\"id\":\"1128\",\"type\":\"UnionRenderers\"},{\"attributes\":{\"days\":[1,15]},\"id\":\"1062\",\"type\":\"DaysTicker\"},{\"attributes\":{\"num_minor_ticks\":5,\"tickers\":[{\"id\":\"1056\"},{\"id\":\"1057\"},{\"id\":\"1058\"},{\"id\":\"1059\"},{\"id\":\"1060\"},{\"id\":\"1061\"},{\"id\":\"1062\"},{\"id\":\"1063\"},{\"id\":\"1064\"},{\"id\":\"1065\"},{\"id\":\"1066\"},{\"id\":\"1067\"}]},\"id\":\"1014\",\"type\":\"DatetimeTicker\"},{\"attributes\":{\"label\":{\"value\":\"measured_cases_SK Gera\"},\"renderers\":[{\"id\":\"1114\"}]},\"id\":\"1141\",\"type\":\"LegendItem\"},{\"attributes\":{\"months\":[0,1,2,3,4,5,6,7,8,9,10,11]},\"id\":\"1063\",\"type\":\"MonthsTicker\"},{\"attributes\":{\"axis\":{\"id\":\"1013\"},\"ticker\":null},\"id\":\"1016\",\"type\":\"Grid\"},{\"attributes\":{\"months\":[0,2,4,6,8,10]},\"id\":\"1064\",\"type\":\"MonthsTicker\"},{\"attributes\":{\"axis_label\":\"Population\",\"formatter\":{\"id\":\"1048\"},\"ticker\":{\"id\":\"1018\"}},\"id\":\"1017\",\"type\":\"LinearAxis\"}],\"root_ids\":[\"1002\"]},\"title\":\"Bokeh Application\",\"version\":\"2.0.2\"}};\n",
       "  var render_items = [{\"docid\":\"744c3d6e-9e9a-4d73-932d-049ce55e5ce4\",\"notebook_comms_target\":\"1275\",\"root_ids\":[\"1002\"],\"roots\":{\"1002\":\"28d8bcb4-3289-47ac-9fb6-695d04b969c8\"}}];\n",
       "  root.Bokeh.embed.embed_items_notebook(docs_json, render_items);\n",
       "\n",
       "  }\n",
       "  if (root.Bokeh !== undefined) {\n",
       "    embed_document(root);\n",
       "  } else {\n",
       "    var attempts = 0;\n",
       "    var timer = setInterval(function(root) {\n",
       "      if (root.Bokeh !== undefined) {\n",
       "        clearInterval(timer);\n",
       "        embed_document(root);\n",
       "      } else {\n",
       "        attempts++;\n",
       "        if (attempts > 100) {\n",
       "          clearInterval(timer);\n",
       "          console.log(\"Bokeh: ERROR: Unable to run BokehJS code because BokehJS library is missing\");\n",
       "        }\n",
       "      }\n",
       "    }, 10, root)\n",
       "  }\n",
       "})(window);"
      ],
      "application/vnd.bokehjs_exec.v0+json": ""
     },
     "metadata": {
      "application/vnd.bokehjs_exec.v0+json": {
       "id": "1002"
      }
     },
     "output_type": "display_data"
    },
    {
     "data": {
      "text/html": [
       "\n",
       "\n",
       "\n",
       "\n",
       "\n",
       "\n",
       "  <div class=\"bk-root\" id=\"e749df4b-d539-49b5-9ea2-d16352ca3ffe\" data-root-id=\"1462\"></div>\n"
      ]
     },
     "metadata": {},
     "output_type": "display_data"
    },
    {
     "data": {
      "application/javascript": [
       "(function(root) {\n",
       "  function embed_document(root) {\n",
       "    \n",
       "  var docs_json = {\"69723363-6a26-46f3-af83-d267802aaba5\":{\"roots\":{\"references\":[{\"attributes\":{\"background_fill_color\":\"#efefef\",\"below\":[{\"id\":\"1473\"}],\"center\":[{\"id\":\"1476\"},{\"id\":\"1480\"},{\"id\":\"1528\"}],\"left\":[{\"id\":\"1477\"}],\"name\":\"_figure_hospitalization\",\"plot_height\":400,\"plot_width\":900,\"renderers\":[{\"id\":\"1500\"},{\"id\":\"1505\"},{\"id\":\"1534\"},{\"id\":\"1539\"},{\"id\":\"1569\"},{\"id\":\"1574\"},{\"id\":\"1606\"},{\"id\":\"1638\"},{\"id\":\"1672\"}],\"title\":{\"id\":\"1463\"},\"toolbar\":{\"id\":\"1489\"},\"x_range\":{\"id\":\"1465\"},\"x_scale\":{\"id\":\"1469\"},\"y_range\":{\"id\":\"1467\"},\"y_scale\":{\"id\":\"1471\"}},\"id\":\"1462\",\"subtype\":\"Figure\",\"type\":\"Plot\"},{\"attributes\":{\"axis\":{\"id\":\"1473\"},\"ticker\":null},\"id\":\"1476\",\"type\":\"Grid\"},{\"attributes\":{},\"id\":\"1588\",\"type\":\"UnionRenderers\"},{\"attributes\":{\"days\":[1,2,3,4,5,6,7,8,9,10,11,12,13,14,15,16,17,18,19,20,21,22,23,24,25,26,27,28,29,30,31]},\"id\":\"1519\",\"type\":\"DaysTicker\"},{\"attributes\":{},\"id\":\"1478\",\"type\":\"BasicTicker\"},{\"attributes\":{\"label\":{\"value\":\"Fit_hospitalization_SK Jena\"},\"renderers\":[{\"id\":\"1606\"}]},\"id\":\"1633\",\"type\":\"LegendItem\"},{\"attributes\":{\"days\":[1,4,7,10,13,16,19,22,25,28]},\"id\":\"1520\",\"type\":\"DaysTicker\"},{\"attributes\":{\"axis_label\":\"Population\",\"formatter\":{\"id\":\"1508\"},\"ticker\":{\"id\":\"1478\"}},\"id\":\"1477\",\"type\":\"LinearAxis\"},{\"attributes\":{\"line_alpha\":0.8,\"line_color\":\"#1b9e77\",\"line_width\":1.5,\"x\":{\"field\":\"x\"},\"y\":{\"field\":\"y\"}},\"id\":\"1604\",\"type\":\"Line\"},{\"attributes\":{\"data_source\":{\"id\":\"1602\"},\"glyph\":{\"id\":\"1604\"},\"hover_glyph\":null,\"muted_glyph\":null,\"name\":\"_Fit_hospitalization_SK Jena\",\"nonselection_glyph\":{\"id\":\"1605\"},\"selection_glyph\":null,\"view\":{\"id\":\"1607\"}},\"id\":\"1606\",\"type\":\"GlyphRenderer\"},{\"attributes\":{\"days\":[1,8,15,22]},\"id\":\"1521\",\"type\":\"DaysTicker\"},{\"attributes\":{\"axis\":{\"id\":\"1477\"},\"dimension\":1,\"ticker\":null},\"id\":\"1480\",\"type\":\"Grid\"},{\"attributes\":{\"source\":{\"id\":\"1602\"}},\"id\":\"1607\",\"type\":\"CDSView\"},{\"attributes\":{\"days\":[1,15]},\"id\":\"1522\",\"type\":\"DaysTicker\"},{\"attributes\":{},\"id\":\"1481\",\"type\":\"PanTool\"},{\"attributes\":{\"months\":[0,1,2,3,4,5,6,7,8,9,10,11]},\"id\":\"1523\",\"type\":\"MonthsTicker\"},{\"attributes\":{\"data\":{\"x\":{\"__ndarray__\":\"AACA6w8Ed0IAAEBRYgR3QgAAALe0BHdCAADAHAcFd0IAAICCWQV3QgAAQOirBXdCAAAATv4Fd0IAAMCzUAZ3QgAAgBmjBndCAABAf/UGd0IAAADlRwd3QgAAwEqaB3dCAACAsOwHd0IAAEAWPwh3QgAAAHyRCHdCAADA4eMId0IAAIBHNgl3QgAAQK2ICXdCAAAAE9sJd0IAAMB4LQp3QgAAgN5/CndCAABARNIKd0IAAACqJAt3QgAAwA93C3dCAACAdckLd0IAAEDbGwx3QgAAAEFuDHdCAADApsAMd0IAAIAMEw13QgAAQHJlDXdCAAAA2LcNd0IAAMA9Cg53QgAAgKNcDndCAABACa8Od0IAAABvAQ93QgAAwNRTD3dCAACAOqYPd0IAAECg+A93QgAAAAZLEHdCAADAa50Qd0IAAIDR7xB3QgAAQDdCEXdCAAAAnZQRd0IAAMAC5xF3QgAAgGg5EndCAABAzosSd0IAAAA03hJ3QgAAwJkwE3dCAACA/4ITd0IAAEBl1RN3QgAAAMsnFHdCAADAMHoUd0IAAICWzBR3QgAAQPweFXdCAAAAYnEVd0IAAMDHwxV3QgAAgC0WFndCAABAk2gWd0IAAAD5uhZ3QgAAwF4NF3dCAACAxF8Xd0IAAEAqshd3QgAAAJAEGHdCAADA9VYYd0IAAIBbqRh3QgAAQMH7GHdCAAAAJ04Zd0IAAMCMoBl3QgAAgPLyGXdCAABAWEUad0IAAAC+lxp3QgAAwCPqGndCAACAiTwbd0IAAEDvjht3QgAAAFXhG3dCAADAujMcd0IAAIAghhx3QgAAQIbYHHdCAAAA7Codd0IAAMBRfR13QgAAgLfPHXdCAABAHSIed0IAAACDdB53QgAAwOjGHndCAACAThkfd0IAAEC0ax93QgAAABq+H3dCAADAfxAgd0IAAIDlYiB3QgAAQEu1IHdC\",\"dtype\":\"float64\",\"shape\":[90]},\"y\":{\"__ndarray__\":\"AAAAAAAAAAAAAAAAAAAAAAAAAAAAAAAAAAAAAAAAAAAAAAAAAAAAAAAAAAAAAAAAAAAAAAAAAAAAAAAAAAAAAAAAAAAAAAAAAAAAAAAAAAAAAAAAAAAAAAAAAAAAAAAAAAAAAAAAAAAAAAAAAAAAAAAAAAAAAIA/AACAPwAAAAAAAAAAAACAPwAAAAAAAIA/AACAPwAAgD8AAABAAABAQAAAgD8AAIA/AAAAQAAAQEAAAEBAAAAAAAAAoEAAAEBAAAAAQAAAwEAAAAAAAACAPwAAAEAAAAAAAAAAAAAAgD8AAABAAAAAAAAAgD8AAABAAAAAAAAAgEAAAEBAAABAQAAAAAAAAEBAAACAQAAAAEAAAEBAAABAQAAAAEAAAIA/AACAPwAAAEAAABBBAACgQAAAgD8AAKBAAAAAQAAAAAAAAIA/AACAQAAAgD8AAAAAAAAAQAAAgD8AAIA/AACgQAAAAAAAAAAA\",\"dtype\":\"float32\",\"shape\":[90]}},\"selected\":{\"id\":\"1550\"},\"selection_policy\":{\"id\":\"1551\"}},\"id\":\"1530\",\"type\":\"ColumnDataSource\"},{\"attributes\":{\"line_alpha\":0.1,\"line_color\":\"#1b9e77\",\"line_width\":1.5,\"x\":{\"field\":\"x\"},\"y\":{\"field\":\"y\"}},\"id\":\"1605\",\"type\":\"Line\"},{\"attributes\":{\"months\":[0,2,4,6,8,10]},\"id\":\"1524\",\"type\":\"MonthsTicker\"},{\"attributes\":{},\"id\":\"1527\",\"type\":\"YearsTicker\"},{\"attributes\":{\"click_policy\":\"hide\",\"items\":[{\"id\":\"1529\"},{\"id\":\"1564\"},{\"id\":\"1601\"},{\"id\":\"1633\"},{\"id\":\"1667\"},{\"id\":\"1703\"}]},\"id\":\"1528\",\"type\":\"Legend\"},{\"attributes\":{},\"id\":\"1482\",\"type\":\"WheelZoomTool\"},{\"attributes\":{\"label\":{\"value\":\"measured_hospitalization_SK Jena\"},\"renderers\":[{\"id\":\"1505\"}]},\"id\":\"1529\",\"type\":\"LegendItem\"},{\"attributes\":{\"overlay\":{\"id\":\"1488\"}},\"id\":\"1483\",\"type\":\"BoxZoomTool\"},{\"attributes\":{},\"id\":\"1484\",\"type\":\"ResetTool\"},{\"attributes\":{\"data\":{\"x\":{\"__ndarray__\":\"AACA6w8Ed0IAAEBRYgR3QgAAALe0BHdCAADAHAcFd0IAAICCWQV3QgAAQOirBXdCAAAATv4Fd0IAAMCzUAZ3QgAAgBmjBndCAABAf/UGd0IAAADlRwd3QgAAwEqaB3dCAACAsOwHd0IAAEAWPwh3QgAAAHyRCHdCAADA4eMId0IAAIBHNgl3QgAAQK2ICXdCAAAAE9sJd0IAAMB4LQp3QgAAgN5/CndCAABARNIKd0IAAACqJAt3QgAAwA93C3dCAACAdckLd0IAAEDbGwx3QgAAAEFuDHdCAADApsAMd0IAAIAMEw13QgAAQHJlDXdCAAAA2LcNd0IAAMA9Cg53QgAAgKNcDndCAABACa8Od0IAAABvAQ93QgAAwNRTD3dCAACAOqYPd0IAAECg+A93QgAAAAZLEHdCAADAa50Qd0IAAIDR7xB3QgAAQDdCEXdCAAAAnZQRd0IAAMAC5xF3QgAAgGg5EndCAABAzosSd0IAAAA03hJ3QgAAwJkwE3dCAACA/4ITd0IAAEBl1RN3QgAAAMsnFHdCAADAMHoUd0IAAICWzBR3QgAAQPweFXdCAAAAYnEVd0IAAMDHwxV3QgAAgC0WFndCAABAk2gWd0IAAAD5uhZ3QgAAwF4NF3dCAACAxF8Xd0IAAEAqshd3QgAAAJAEGHdCAADA9VYYd0IAAIBbqRh3QgAAQMH7GHdCAAAAJ04Zd0IAAMCMoBl3QgAAgPLyGXdCAABAWEUad0IAAAC+lxp3QgAAwCPqGndCAACAiTwbd0IAAEDvjht3QgAAAFXhG3dCAADAujMcd0IAAIAghhx3QgAAQIbYHHdCAAAA7Codd0IAAMBRfR13QgAAgLfPHXdCAABAHSIed0IAAACDdB53QgAAwOjGHndCAACAThkfd0IAAEC0ax93QgAAABq+H3dCAADAfxAgd0IAAIDlYiB3QgAAQEu1IHdC\",\"dtype\":\"float64\",\"shape\":[90]},\"y\":{\"__ndarray__\":\"AAAAAAAAAABeQZsP3hEsFyVRDB4lZSgkT7yUKSh5QS4MlDkysMKDNUzrCzi7XeQ53IcZO1t+xzsQ1SU8YIJrPCokojwhtto8uY0PPXVnNz2rBmU93luMPQNKqT2+Mck9jt7rPZ+KCD7hTBw+whcxPhvORj4UV10+NKF0PhJShj6QsJI+ZnGfPluerD5PRbo+p3fIPphJ1z530eY+Bif3PoQxBD9sTw0/GvoWP5Y+IT8SKiw/zsk3P3UpRD81UVE/JlNfP5NNbj+ITX4/aK2HP3HDkD+Mc5o/ZsikP4vMrz/mirs/Tw/IP5Jm1T9CnuM/rsTyP3d0AUB9DQpA4jUTQJ32HEAjWSdAc2cyQBMsPkAdskpARwVYQNcxZkC/RHVAxqWCQDwqi0AzN5RAcNSdQBQKqECS4LJAs2C+QJiTykC1gtdAwzflQNO880AZjgFBNbAJQR1KEkFJYRtBOfskQXUdL0GKzTlB\",\"dtype\":\"float32\",\"shape\":[90]}},\"selected\":{\"id\":\"1689\"},\"selection_policy\":{\"id\":\"1690\"}},\"id\":\"1634\",\"type\":\"ColumnDataSource\"},{\"attributes\":{},\"id\":\"1653\",\"type\":\"Selection\"},{\"attributes\":{},\"id\":\"1485\",\"type\":\"SaveTool\"},{\"attributes\":{\"line_alpha\":0.8,\"line_color\":\"#d95f02\",\"line_width\":1.5,\"x\":{\"field\":\"x\"},\"y\":{\"field\":\"y\"}},\"id\":\"1636\",\"type\":\"Line\"},{\"attributes\":{\"data_source\":{\"id\":\"1634\"},\"glyph\":{\"id\":\"1636\"},\"hover_glyph\":null,\"muted_glyph\":null,\"name\":\"_Fit_hospitalization_LK Greiz\",\"nonselection_glyph\":{\"id\":\"1637\"},\"selection_glyph\":null,\"view\":{\"id\":\"1639\"}},\"id\":\"1638\",\"type\":\"GlyphRenderer\"},{\"attributes\":{\"overlay\":{\"id\":\"1487\"}},\"id\":\"1486\",\"type\":\"BoxSelectTool\"},{\"attributes\":{\"source\":{\"id\":\"1530\"}},\"id\":\"1535\",\"type\":\"CDSView\"},{\"attributes\":{\"source\":{\"id\":\"1634\"}},\"id\":\"1639\",\"type\":\"CDSView\"},{\"attributes\":{\"fill_alpha\":{\"value\":0.1},\"fill_color\":{\"value\":\"#d95f02\"},\"line_alpha\":{\"value\":0.1},\"line_color\":{\"value\":\"#d95f02\"},\"line_width\":{\"value\":1.5},\"x\":{\"field\":\"x\"},\"y\":{\"field\":\"y\"}},\"id\":\"1533\",\"type\":\"Circle\"},{\"attributes\":{\"bottom_units\":\"screen\",\"fill_alpha\":0.5,\"fill_color\":\"lightgrey\",\"left_units\":\"screen\",\"level\":\"overlay\",\"line_alpha\":1.0,\"line_color\":\"black\",\"line_dash\":[4,4],\"line_width\":2,\"render_mode\":\"css\",\"right_units\":\"screen\",\"top_units\":\"screen\"},\"id\":\"1488\",\"type\":\"BoxAnnotation\"},{\"attributes\":{\"bottom_units\":\"screen\",\"fill_alpha\":0.5,\"fill_color\":\"lightgrey\",\"left_units\":\"screen\",\"level\":\"overlay\",\"line_alpha\":1.0,\"line_color\":\"black\",\"line_dash\":[4,4],\"line_width\":2,\"render_mode\":\"css\",\"right_units\":\"screen\",\"top_units\":\"screen\"},\"id\":\"1487\",\"type\":\"BoxAnnotation\"},{\"attributes\":{\"data_source\":{\"id\":\"1530\"},\"glyph\":{\"id\":\"1532\"},\"hover_glyph\":null,\"muted_glyph\":null,\"name\":\"_measured_hospitalization_LK Greiz\",\"nonselection_glyph\":{\"id\":\"1533\"},\"selection_glyph\":null,\"view\":{\"id\":\"1535\"}},\"id\":\"1534\",\"type\":\"GlyphRenderer\"},{\"attributes\":{\"line_alpha\":0.1,\"line_color\":\"#d95f02\",\"line_width\":1.5,\"x\":{\"field\":\"x\"},\"y\":{\"field\":\"y\"}},\"id\":\"1637\",\"type\":\"Line\"},{\"attributes\":{\"active_drag\":\"auto\",\"active_inspect\":\"auto\",\"active_multi\":null,\"active_scroll\":\"auto\",\"active_tap\":\"auto\",\"tools\":[{\"id\":\"1481\"},{\"id\":\"1482\"},{\"id\":\"1483\"},{\"id\":\"1484\"},{\"id\":\"1485\"},{\"id\":\"1486\"}]},\"id\":\"1489\",\"type\":\"Toolbar\"},{\"attributes\":{\"fill_alpha\":{\"value\":0.9},\"fill_color\":{\"value\":\"#d95f02\"},\"line_alpha\":{\"value\":0.9},\"line_color\":{\"value\":\"#d95f02\"},\"line_width\":{\"value\":1.5},\"x\":{\"field\":\"x\"},\"y\":{\"field\":\"y\"}},\"id\":\"1532\",\"type\":\"Circle\"},{\"attributes\":{},\"id\":\"1654\",\"type\":\"UnionRenderers\"},{\"attributes\":{\"label\":{\"value\":\"Fit_hospitalization_LK Greiz\"},\"renderers\":[{\"id\":\"1638\"}]},\"id\":\"1667\",\"type\":\"LegendItem\"},{\"attributes\":{\"fill_alpha\":{\"value\":0.1},\"fill_color\":{\"value\":\"#1b9e77\"},\"line_alpha\":{\"value\":0.1},\"line_color\":{\"value\":\"#1b9e77\"},\"line_width\":{\"value\":1.5},\"x\":{\"field\":\"x\"},\"y\":{\"field\":\"y\"}},\"id\":\"1499\",\"type\":\"Circle\"},{\"attributes\":{\"source\":{\"id\":\"1530\"}},\"id\":\"1540\",\"type\":\"CDSView\"},{\"attributes\":{\"source\":{\"id\":\"1496\"}},\"id\":\"1501\",\"type\":\"CDSView\"},{\"attributes\":{\"data\":{\"x\":{\"__ndarray__\":\"AACA6w8Ed0IAAEBRYgR3QgAAALe0BHdCAADAHAcFd0IAAICCWQV3QgAAQOirBXdCAAAATv4Fd0IAAMCzUAZ3QgAAgBmjBndCAABAf/UGd0IAAADlRwd3QgAAwEqaB3dCAACAsOwHd0IAAEAWPwh3QgAAAHyRCHdCAADA4eMId0IAAIBHNgl3QgAAQK2ICXdCAAAAE9sJd0IAAMB4LQp3QgAAgN5/CndCAABARNIKd0IAAACqJAt3QgAAwA93C3dCAACAdckLd0IAAEDbGwx3QgAAAEFuDHdCAADApsAMd0IAAIAMEw13QgAAQHJlDXdCAAAA2LcNd0IAAMA9Cg53QgAAgKNcDndCAABACa8Od0IAAABvAQ93QgAAwNRTD3dCAACAOqYPd0IAAECg+A93QgAAAAZLEHdCAADAa50Qd0IAAIDR7xB3QgAAQDdCEXdCAAAAnZQRd0IAAMAC5xF3QgAAgGg5EndCAABAzosSd0IAAAA03hJ3QgAAwJkwE3dCAACA/4ITd0IAAEBl1RN3QgAAAMsnFHdCAADAMHoUd0IAAICWzBR3QgAAQPweFXdCAAAAYnEVd0IAAMDHwxV3QgAAgC0WFndCAABAk2gWd0IAAAD5uhZ3QgAAwF4NF3dCAACAxF8Xd0IAAEAqshd3QgAAAJAEGHdCAADA9VYYd0IAAIBbqRh3QgAAQMH7GHdCAAAAJ04Zd0IAAMCMoBl3QgAAgPLyGXdCAABAWEUad0IAAAC+lxp3QgAAwCPqGndCAACAiTwbd0IAAEDvjht3QgAAAFXhG3dCAADAujMcd0IAAIAghhx3QgAAQIbYHHdCAAAA7Codd0IAAMBRfR13QgAAgLfPHXdCAABAHSIed0IAAACDdB53QgAAwOjGHndCAACAThkfd0IAAEC0ax93QgAAABq+H3dCAADAfxAgd0IAAIDlYiB3QgAAQEu1IHdC\",\"dtype\":\"float64\",\"shape\":[90]},\"y\":{\"__ndarray__\":\"AAAAAAAAAAAAAAAAAAAAAAAAAAAAAAAAAAAAAAAAAAAAAAAA5+qUD64LJRfKlgYeXYUhJPqpjilNkzkusgAyMoDDfDUZNQY4PgvbOWxDEzuVWb87ERAfPDrlYTy7hZs8hsjRPIuxCT3V6i89R61bPROhhj3jYKI9MvvAPaY94j239wI+fesVPhTdKT6GsD4+/k1UPrukaj5f1oA+mrOMPifvmD5rkqU+s6qyPrBIwD6/f84+TmXdPioQ7T4SmP0+qYoHP1HQED9/qRo/3yIlPx9JMD90Jzw/u8VIP0g1Vj8sk2Q/6utzP4Ajgj+U2oo/cCWUP1IOnj9Vn6g/9OKzP43kvz9lsMw/gVPaP5jb6D8mV/g/v2oEQHAzDUA/jhZAPYQgQAAfK0ClaDZAz2tCQLYzT0AmzFxAhkFrQNagekDde4VAPSqOQAFjl0DyLaFALJOrQB+btkCFTsJAdrbOQETc20CYyelA\",\"dtype\":\"float32\",\"shape\":[90]}},\"selected\":{\"id\":\"1752\"},\"selection_policy\":{\"id\":\"1753\"}},\"id\":\"1668\",\"type\":\"ColumnDataSource\"},{\"attributes\":{},\"id\":\"1550\",\"type\":\"Selection\"},{\"attributes\":{\"months\":[0,6]},\"id\":\"1526\",\"type\":\"MonthsTicker\"},{\"attributes\":{\"fill_alpha\":{\"value\":0.9},\"fill_color\":{\"value\":\"#1b9e77\"},\"line_alpha\":{\"value\":0.9},\"line_color\":{\"value\":\"#1b9e77\"},\"line_width\":{\"value\":1.5},\"x\":{\"field\":\"x\"},\"y\":{\"field\":\"y\"}},\"id\":\"1498\",\"type\":\"Circle\"},{\"attributes\":{\"fill_alpha\":{\"value\":0.1},\"fill_color\":{\"value\":\"#d95f02\"},\"line_alpha\":{\"value\":0.1},\"line_color\":{\"value\":\"#d95f02\"},\"top\":{\"field\":\"y\"},\"width\":{\"value\":51840000.0},\"x\":{\"field\":\"x\"}},\"id\":\"1538\",\"type\":\"VBar\"},{\"attributes\":{\"fill_alpha\":{\"value\":0.6},\"fill_color\":{\"value\":\"#d95f02\"},\"line_alpha\":{\"value\":0.6},\"line_color\":{\"value\":\"#d95f02\"},\"top\":{\"field\":\"y\"},\"width\":{\"value\":51840000.0},\"x\":{\"field\":\"x\"}},\"id\":\"1537\",\"type\":\"VBar\"},{\"attributes\":{\"data_source\":{\"id\":\"1496\"},\"glyph\":{\"id\":\"1498\"},\"hover_glyph\":null,\"muted_glyph\":null,\"name\":\"_measured_hospitalization_SK Jena\",\"nonselection_glyph\":{\"id\":\"1499\"},\"selection_glyph\":null,\"view\":{\"id\":\"1501\"}},\"id\":\"1500\",\"type\":\"GlyphRenderer\"},{\"attributes\":{\"data_source\":{\"id\":\"1530\"},\"glyph\":{\"id\":\"1537\"},\"hover_glyph\":null,\"muted_glyph\":null,\"name\":\"_measured_hospitalization_LK Greiz\",\"nonselection_glyph\":{\"id\":\"1538\"},\"selection_glyph\":null,\"view\":{\"id\":\"1540\"}},\"id\":\"1539\",\"type\":\"GlyphRenderer\"},{\"attributes\":{},\"id\":\"1689\",\"type\":\"Selection\"},{\"attributes\":{\"line_alpha\":0.8,\"line_color\":\"#7570b3\",\"line_width\":1.5,\"x\":{\"field\":\"x\"},\"y\":{\"field\":\"y\"}},\"id\":\"1670\",\"type\":\"Line\"},{\"attributes\":{\"num_minor_ticks\":5,\"tickers\":[{\"id\":\"1516\"},{\"id\":\"1517\"},{\"id\":\"1518\"},{\"id\":\"1519\"},{\"id\":\"1520\"},{\"id\":\"1521\"},{\"id\":\"1522\"},{\"id\":\"1523\"},{\"id\":\"1524\"},{\"id\":\"1525\"},{\"id\":\"1526\"},{\"id\":\"1527\"}]},\"id\":\"1474\",\"type\":\"DatetimeTicker\"},{\"attributes\":{\"data_source\":{\"id\":\"1668\"},\"glyph\":{\"id\":\"1670\"},\"hover_glyph\":null,\"muted_glyph\":null,\"name\":\"_Fit_hospitalization_SK Gera\",\"nonselection_glyph\":{\"id\":\"1671\"},\"selection_glyph\":null,\"view\":{\"id\":\"1673\"}},\"id\":\"1672\",\"type\":\"GlyphRenderer\"},{\"attributes\":{\"source\":{\"id\":\"1668\"}},\"id\":\"1673\",\"type\":\"CDSView\"},{\"attributes\":{},\"id\":\"1551\",\"type\":\"UnionRenderers\"},{\"attributes\":{\"base\":24,\"mantissas\":[1,2,4,6,8,12],\"max_interval\":43200000.0,\"min_interval\":3600000.0,\"num_minor_ticks\":0},\"id\":\"1518\",\"type\":\"AdaptiveTicker\"},{\"attributes\":{\"label\":{\"value\":\"measured_hospitalization_LK Greiz\"},\"renderers\":[{\"id\":\"1539\"}]},\"id\":\"1564\",\"type\":\"LegendItem\"},{\"attributes\":{\"base\":60,\"mantissas\":[1,2,5,10,15,20,30],\"max_interval\":1800000.0,\"min_interval\":1000.0,\"num_minor_ticks\":0},\"id\":\"1517\",\"type\":\"AdaptiveTicker\"},{\"attributes\":{\"line_alpha\":0.1,\"line_color\":\"#7570b3\",\"line_width\":1.5,\"x\":{\"field\":\"x\"},\"y\":{\"field\":\"y\"}},\"id\":\"1671\",\"type\":\"Line\"},{\"attributes\":{\"data\":{\"x\":{\"__ndarray__\":\"AACA6w8Ed0IAAEBRYgR3QgAAALe0BHdCAADAHAcFd0IAAICCWQV3QgAAQOirBXdCAAAATv4Fd0IAAMCzUAZ3QgAAgBmjBndCAABAf/UGd0IAAADlRwd3QgAAwEqaB3dCAACAsOwHd0IAAEAWPwh3QgAAAHyRCHdCAADA4eMId0IAAIBHNgl3QgAAQK2ICXdCAAAAE9sJd0IAAMB4LQp3QgAAgN5/CndCAABARNIKd0IAAACqJAt3QgAAwA93C3dCAACAdckLd0IAAEDbGwx3QgAAAEFuDHdCAADApsAMd0IAAIAMEw13QgAAQHJlDXdCAAAA2LcNd0IAAMA9Cg53QgAAgKNcDndCAABACa8Od0IAAABvAQ93QgAAwNRTD3dCAACAOqYPd0IAAECg+A93QgAAAAZLEHdCAADAa50Qd0IAAIDR7xB3QgAAQDdCEXdCAAAAnZQRd0IAAMAC5xF3QgAAgGg5EndCAABAzosSd0IAAAA03hJ3QgAAwJkwE3dCAACA/4ITd0IAAEBl1RN3QgAAAMsnFHdCAADAMHoUd0IAAICWzBR3QgAAQPweFXdCAAAAYnEVd0IAAMDHwxV3QgAAgC0WFndCAABAk2gWd0IAAAD5uhZ3QgAAwF4NF3dCAACAxF8Xd0IAAEAqshd3QgAAAJAEGHdCAADA9VYYd0IAAIBbqRh3QgAAQMH7GHdCAAAAJ04Zd0IAAMCMoBl3QgAAgPLyGXdCAABAWEUad0IAAAC+lxp3QgAAwCPqGndCAACAiTwbd0IAAEDvjht3QgAAAFXhG3dCAADAujMcd0IAAIAghhx3QgAAQIbYHHdCAAAA7Codd0IAAMBRfR13QgAAgLfPHXdCAABAHSIed0IAAACDdB53QgAAwOjGHndCAACAThkfd0IAAEC0ax93QgAAABq+H3dCAADAfxAgd0IAAIDlYiB3QgAAQEu1IHdC\",\"dtype\":\"float64\",\"shape\":[90]},\"y\":{\"__ndarray__\":\"AAAAAAAAAAAAAAAAAAAAAAAAAAAAAAAAAAAAAAAAAAAAAAAAAAAAAAAAAAAAAAAAAAAAAAAAAAAAAAAAAAAAAAAAAAAAAAAAAAAAAAAAAAAAAAAAAAAAAAAAAAAAAAAAAAAAAAAAAAAAAAAAAAAAAAAAAAAAAAAAAAAAAAAAAAAAAAAAAAAAAAAAAAAAAAAAAAAAAAAAAAAAAAAAAAAAAAAAAAAAAAAAAACAPwAAgD8AAAAAAAAAAAAAAAAAAAAAAACAPwAAAAAAAIA/AAAAAAAAAAAAAIA/AAAAAAAAgD8AAIA/AACAPwAAQEAAAIA/AAAAQAAAgD8AAIA/AACAPwAAAAAAAIA/AACAPwAAgD8AAAAAAACAPwAAgD8AAIA/AACAPwAAAAAAAAAAAACAPwAAAAAAAAAAAAAAAAAAAAAAAIA/AAAAQAAAAAAAAABAAAAAQAAAAAAAAAAAAAAAAAAAAAAAAAAA\",\"dtype\":\"float32\",\"shape\":[90]}},\"selected\":{\"id\":\"1587\"},\"selection_policy\":{\"id\":\"1588\"}},\"id\":\"1565\",\"type\":\"ColumnDataSource\"},{\"attributes\":{},\"id\":\"1690\",\"type\":\"UnionRenderers\"},{\"attributes\":{\"label\":{\"value\":\"Fit_hospitalization_SK Gera\"},\"renderers\":[{\"id\":\"1672\"}]},\"id\":\"1703\",\"type\":\"LegendItem\"},{\"attributes\":{\"fill_alpha\":{\"value\":0.1},\"fill_color\":{\"value\":\"#1b9e77\"},\"line_alpha\":{\"value\":0.1},\"line_color\":{\"value\":\"#1b9e77\"},\"top\":{\"field\":\"y\"},\"width\":{\"value\":51840000.0},\"x\":{\"field\":\"x\"}},\"id\":\"1504\",\"type\":\"VBar\"},{\"attributes\":{\"fill_alpha\":{\"value\":0.6},\"fill_color\":{\"value\":\"#1b9e77\"},\"line_alpha\":{\"value\":0.6},\"line_color\":{\"value\":\"#1b9e77\"},\"top\":{\"field\":\"y\"},\"width\":{\"value\":51840000.0},\"x\":{\"field\":\"x\"}},\"id\":\"1503\",\"type\":\"VBar\"},{\"attributes\":{\"source\":{\"id\":\"1565\"}},\"id\":\"1570\",\"type\":\"CDSView\"},{\"attributes\":{},\"id\":\"1752\",\"type\":\"Selection\"},{\"attributes\":{\"label\":{\"value\":\"measured_hospitalization_SK Gera\"},\"renderers\":[{\"id\":\"1574\"}]},\"id\":\"1601\",\"type\":\"LegendItem\"},{\"attributes\":{},\"id\":\"1510\",\"type\":\"DatetimeTickFormatter\"},{\"attributes\":{\"fill_alpha\":{\"value\":0.1},\"fill_color\":{\"value\":\"#7570b3\"},\"line_alpha\":{\"value\":0.1},\"line_color\":{\"value\":\"#7570b3\"},\"line_width\":{\"value\":1.5},\"x\":{\"field\":\"x\"},\"y\":{\"field\":\"y\"}},\"id\":\"1568\",\"type\":\"Circle\"},{\"attributes\":{},\"id\":\"1514\",\"type\":\"Selection\"},{\"attributes\":{\"data_source\":{\"id\":\"1496\"},\"glyph\":{\"id\":\"1503\"},\"hover_glyph\":null,\"muted_glyph\":null,\"name\":\"_measured_hospitalization_SK Jena\",\"nonselection_glyph\":{\"id\":\"1504\"},\"selection_glyph\":null,\"view\":{\"id\":\"1506\"}},\"id\":\"1505\",\"type\":\"GlyphRenderer\"},{\"attributes\":{\"data_source\":{\"id\":\"1565\"},\"glyph\":{\"id\":\"1567\"},\"hover_glyph\":null,\"muted_glyph\":null,\"name\":\"_measured_hospitalization_SK Gera\",\"nonselection_glyph\":{\"id\":\"1568\"},\"selection_glyph\":null,\"view\":{\"id\":\"1570\"}},\"id\":\"1569\",\"type\":\"GlyphRenderer\"},{\"attributes\":{},\"id\":\"1753\",\"type\":\"UnionRenderers\"},{\"attributes\":{\"fill_alpha\":{\"value\":0.9},\"fill_color\":{\"value\":\"#7570b3\"},\"line_alpha\":{\"value\":0.9},\"line_color\":{\"value\":\"#7570b3\"},\"line_width\":{\"value\":1.5},\"x\":{\"field\":\"x\"},\"y\":{\"field\":\"y\"}},\"id\":\"1567\",\"type\":\"Circle\"},{\"attributes\":{\"source\":{\"id\":\"1496\"}},\"id\":\"1506\",\"type\":\"CDSView\"},{\"attributes\":{\"source\":{\"id\":\"1565\"}},\"id\":\"1575\",\"type\":\"CDSView\"},{\"attributes\":{\"mantissas\":[1,2,5],\"max_interval\":500.0,\"num_minor_ticks\":0},\"id\":\"1516\",\"type\":\"AdaptiveTicker\"},{\"attributes\":{\"fill_alpha\":{\"value\":0.1},\"fill_color\":{\"value\":\"#7570b3\"},\"line_alpha\":{\"value\":0.1},\"line_color\":{\"value\":\"#7570b3\"},\"top\":{\"field\":\"y\"},\"width\":{\"value\":51840000.0},\"x\":{\"field\":\"x\"}},\"id\":\"1573\",\"type\":\"VBar\"},{\"attributes\":{\"fill_alpha\":{\"value\":0.6},\"fill_color\":{\"value\":\"#7570b3\"},\"line_alpha\":{\"value\":0.6},\"line_color\":{\"value\":\"#7570b3\"},\"top\":{\"field\":\"y\"},\"width\":{\"value\":51840000.0},\"x\":{\"field\":\"x\"}},\"id\":\"1572\",\"type\":\"VBar\"},{\"attributes\":{},\"id\":\"1508\",\"type\":\"BasicTickFormatter\"},{\"attributes\":{\"data_source\":{\"id\":\"1565\"},\"glyph\":{\"id\":\"1572\"},\"hover_glyph\":null,\"muted_glyph\":null,\"name\":\"_measured_hospitalization_SK Gera\",\"nonselection_glyph\":{\"id\":\"1573\"},\"selection_glyph\":null,\"view\":{\"id\":\"1575\"}},\"id\":\"1574\",\"type\":\"GlyphRenderer\"},{\"attributes\":{},\"id\":\"1515\",\"type\":\"UnionRenderers\"},{\"attributes\":{},\"id\":\"1587\",\"type\":\"Selection\"},{\"attributes\":{},\"id\":\"1465\",\"type\":\"DataRange1d\"},{\"attributes\":{},\"id\":\"1469\",\"type\":\"LinearScale\"},{\"attributes\":{\"axis_label\":\"time\",\"formatter\":{\"id\":\"1510\"},\"major_label_orientation\":0.7853981633974483,\"ticker\":{\"id\":\"1474\"}},\"id\":\"1473\",\"type\":\"DatetimeAxis\"},{\"attributes\":{},\"id\":\"1467\",\"type\":\"DataRange1d\"},{\"attributes\":{\"data\":{\"x\":{\"__ndarray__\":\"AACA6w8Ed0IAAEBRYgR3QgAAALe0BHdCAADAHAcFd0IAAICCWQV3QgAAQOirBXdCAAAATv4Fd0IAAMCzUAZ3QgAAgBmjBndCAABAf/UGd0IAAADlRwd3QgAAwEqaB3dCAACAsOwHd0IAAEAWPwh3QgAAAHyRCHdCAADA4eMId0IAAIBHNgl3QgAAQK2ICXdCAAAAE9sJd0IAAMB4LQp3QgAAgN5/CndCAABARNIKd0IAAACqJAt3QgAAwA93C3dCAACAdckLd0IAAEDbGwx3QgAAAEFuDHdCAADApsAMd0IAAIAMEw13QgAAQHJlDXdCAAAA2LcNd0IAAMA9Cg53QgAAgKNcDndCAABACa8Od0IAAABvAQ93QgAAwNRTD3dCAACAOqYPd0IAAECg+A93QgAAAAZLEHdCAADAa50Qd0IAAIDR7xB3QgAAQDdCEXdCAAAAnZQRd0IAAMAC5xF3QgAAgGg5EndCAABAzosSd0IAAAA03hJ3QgAAwJkwE3dCAACA/4ITd0IAAEBl1RN3QgAAAMsnFHdCAADAMHoUd0IAAICWzBR3QgAAQPweFXdCAAAAYnEVd0IAAMDHwxV3QgAAgC0WFndCAABAk2gWd0IAAAD5uhZ3QgAAwF4NF3dCAACAxF8Xd0IAAEAqshd3QgAAAJAEGHdCAADA9VYYd0IAAIBbqRh3QgAAQMH7GHdCAAAAJ04Zd0IAAMCMoBl3QgAAgPLyGXdCAABAWEUad0IAAAC+lxp3QgAAwCPqGndCAACAiTwbd0IAAEDvjht3QgAAAFXhG3dCAADAujMcd0IAAIAghhx3QgAAQIbYHHdCAAAA7Codd0IAAMBRfR13QgAAgLfPHXdCAABAHSIed0IAAACDdB53QgAAwOjGHndCAACAThkfd0IAAEC0ax93QgAAABq+H3dCAADAfxAgd0IAAIDlYiB3QgAAQEu1IHdC\",\"dtype\":\"float64\",\"shape\":[90]},\"y\":{\"__ndarray__\":\"AAAAAAAAAAAAAAAAlzWwDwtLQxc7QR8eWh8/JEXPqCnZlVsu9Z9SMiOLlTWjzR44AJgBOn9ALjsKa+I7vDY8PLilhTxMBrg8zjr4PKHtIj09KFA93feBPWVNnz0bI8A9MFnkPQjaBT5C+Bo+M2UxPnv+SD4Ao2E+kzZ7PrDSij73cpg+03ymPkv2tD566sM+IWnTPviF4z73V/Q+NvwCPyxBDD/pCBY/zmEgP3paKz+3ATc/fmZDP9mXUD8Co14/SZFtPzF3fT+QO4c/8k+QPyn9mT8gTaQ/9UuvP8QFuz+Fhsc/n9rUP4MP4z+0M/I/UCsBQD7ECUA37RJATK8cQBkUJ0DMJTJAIO89QG17SkCk1ldAYw1mQO0sdUCboYJAdy+LQLxHlEB58p1AJDioQI8hs0Dxt75A4wTLQF4S2EC/6uVAu5j0QLMTAkEQUQpBUAoTQW9FHEGHCCZBx1kwQXE/O0HRv0ZB\",\"dtype\":\"float32\",\"shape\":[90]}},\"selected\":{\"id\":\"1653\"},\"selection_policy\":{\"id\":\"1654\"}},\"id\":\"1602\",\"type\":\"ColumnDataSource\"},{\"attributes\":{\"months\":[0,4,8]},\"id\":\"1525\",\"type\":\"MonthsTicker\"},{\"attributes\":{},\"id\":\"1471\",\"type\":\"LinearScale\"},{\"attributes\":{\"text\":\"Thuringia_hospitalization\"},\"id\":\"1463\",\"type\":\"Title\"},{\"attributes\":{\"data\":{\"x\":{\"__ndarray__\":\"AACA6w8Ed0IAAEBRYgR3QgAAALe0BHdCAADAHAcFd0IAAICCWQV3QgAAQOirBXdCAAAATv4Fd0IAAMCzUAZ3QgAAgBmjBndCAABAf/UGd0IAAADlRwd3QgAAwEqaB3dCAACAsOwHd0IAAEAWPwh3QgAAAHyRCHdCAADA4eMId0IAAIBHNgl3QgAAQK2ICXdCAAAAE9sJd0IAAMB4LQp3QgAAgN5/CndCAABARNIKd0IAAACqJAt3QgAAwA93C3dCAACAdckLd0IAAEDbGwx3QgAAAEFuDHdCAADApsAMd0IAAIAMEw13QgAAQHJlDXdCAAAA2LcNd0IAAMA9Cg53QgAAgKNcDndCAABACa8Od0IAAABvAQ93QgAAwNRTD3dCAACAOqYPd0IAAECg+A93QgAAAAZLEHdCAADAa50Qd0IAAIDR7xB3QgAAQDdCEXdCAAAAnZQRd0IAAMAC5xF3QgAAgGg5EndCAABAzosSd0IAAAA03hJ3QgAAwJkwE3dCAACA/4ITd0IAAEBl1RN3QgAAAMsnFHdCAADAMHoUd0IAAICWzBR3QgAAQPweFXdCAAAAYnEVd0IAAMDHwxV3QgAAgC0WFndCAABAk2gWd0IAAAD5uhZ3QgAAwF4NF3dCAACAxF8Xd0IAAEAqshd3QgAAAJAEGHdCAADA9VYYd0IAAIBbqRh3QgAAQMH7GHdCAAAAJ04Zd0IAAMCMoBl3QgAAgPLyGXdCAABAWEUad0IAAAC+lxp3QgAAwCPqGndCAACAiTwbd0IAAEDvjht3QgAAAFXhG3dCAADAujMcd0IAAIAghhx3QgAAQIbYHHdCAAAA7Codd0IAAMBRfR13QgAAgLfPHXdCAABAHSIed0IAAACDdB53QgAAwOjGHndCAACAThkfd0IAAEC0ax93QgAAABq+H3dCAADAfxAgd0IAAIDlYiB3QgAAQEu1IHdC\",\"dtype\":\"float64\",\"shape\":[90]},\"y\":{\"__ndarray__\":\"AAAAAAAAAAAAAAAAAAAAAAAAAAAAAAAAAAAAAAAAAAAAAAAAAAAAAAAAAAAAAAAAAAAAAAAAAAAAAAAAAAAAAAAAAAAAAAAAAAAAAAAAAAAAAAAAAAAAAAAAAAAAAAAAAAAAAAAAAAAAAAAAAAAAAAAAgD8AAAAAAAAAAAAAAAAAAIA/AAAAQAAAgD8AAAAAAACAPwAAQEAAAAAAAAAAAAAAgD8AAAAAAAAAAAAAAAAAAAAAAAAAAAAAAAAAAIBAAAAAAAAAAAAAAAAAAAAAAAAAAAAAAIA/AAAAAAAAAAAAAAAAAAAAAAAAAAAAAAAAAAAAAAAAAAAAAAAAAAAAAAAAAAAAAAAAAAAAAAAAAAAAAAAAAAAAAAAAAAAAAAAAAAAAAAAAAAAAAAAAAAAAAAAAAAAAAAAAAAAAAAAAAAAAAAAAAAAAAAAAAAAAAAAAAAAAAAAAAAAAAAAAAAAAAAAAAAAAAAAA\",\"dtype\":\"float32\",\"shape\":[90]}},\"selected\":{\"id\":\"1514\"},\"selection_policy\":{\"id\":\"1515\"}},\"id\":\"1496\",\"type\":\"ColumnDataSource\"}],\"root_ids\":[\"1462\"]},\"title\":\"Bokeh Application\",\"version\":\"2.0.2\"}};\n",
       "  var render_items = [{\"docid\":\"69723363-6a26-46f3-af83-d267802aaba5\",\"notebook_comms_target\":\"1766\",\"root_ids\":[\"1462\"],\"roots\":{\"1462\":\"e749df4b-d539-49b5-9ea2-d16352ca3ffe\"}}];\n",
       "  root.Bokeh.embed.embed_items_notebook(docs_json, render_items);\n",
       "\n",
       "  }\n",
       "  if (root.Bokeh !== undefined) {\n",
       "    embed_document(root);\n",
       "  } else {\n",
       "    var attempts = 0;\n",
       "    var timer = setInterval(function(root) {\n",
       "      if (root.Bokeh !== undefined) {\n",
       "        clearInterval(timer);\n",
       "        embed_document(root);\n",
       "      } else {\n",
       "        attempts++;\n",
       "        if (attempts > 100) {\n",
       "          clearInterval(timer);\n",
       "          console.log(\"Bokeh: ERROR: Unable to run BokehJS code because BokehJS library is missing\");\n",
       "        }\n",
       "      }\n",
       "    }, 10, root)\n",
       "  }\n",
       "})(window);"
      ],
      "application/vnd.bokehjs_exec.v0+json": ""
     },
     "metadata": {
      "application/vnd.bokehjs_exec.v0+json": {
       "id": "1462"
      }
     },
     "output_type": "display_data"
    },
    {
     "data": {
      "text/html": [
       "\n",
       "\n",
       "\n",
       "\n",
       "\n",
       "\n",
       "  <div class=\"bk-root\" id=\"e9b9d414-5e1b-45c5-b21d-0557a356c35e\" data-root-id=\"1953\"></div>\n"
      ]
     },
     "metadata": {},
     "output_type": "display_data"
    },
    {
     "data": {
      "application/javascript": [
       "(function(root) {\n",
       "  function embed_document(root) {\n",
       "    \n",
       "  var docs_json = {\"271cf9e8-06dd-4692-aa17-e5e7ddba368d\":{\"roots\":{\"references\":[{\"attributes\":{\"background_fill_color\":\"#efefef\",\"below\":[{\"id\":\"1964\"}],\"center\":[{\"id\":\"1967\"},{\"id\":\"1971\"},{\"id\":\"2019\"}],\"left\":[{\"id\":\"1968\"}],\"name\":\"_figure_deaths\",\"plot_height\":400,\"plot_width\":900,\"renderers\":[{\"id\":\"1991\"},{\"id\":\"1996\"},{\"id\":\"2025\"},{\"id\":\"2030\"},{\"id\":\"2060\"},{\"id\":\"2065\"},{\"id\":\"2097\"},{\"id\":\"2129\"},{\"id\":\"2163\"}],\"title\":{\"id\":\"1954\"},\"toolbar\":{\"id\":\"1980\"},\"x_range\":{\"id\":\"1956\"},\"x_scale\":{\"id\":\"1960\"},\"y_range\":{\"id\":\"1958\"},\"y_scale\":{\"id\":\"1962\"}},\"id\":\"1953\",\"subtype\":\"Figure\",\"type\":\"Plot\"},{\"attributes\":{\"data_source\":{\"id\":\"2093\"},\"glyph\":{\"id\":\"2095\"},\"hover_glyph\":null,\"muted_glyph\":null,\"name\":\"_Fit_deaths_SK Jena\",\"nonselection_glyph\":{\"id\":\"2096\"},\"selection_glyph\":null,\"view\":{\"id\":\"2098\"}},\"id\":\"2097\",\"type\":\"GlyphRenderer\"},{\"attributes\":{},\"id\":\"1969\",\"type\":\"BasicTicker\"},{\"attributes\":{\"source\":{\"id\":\"2093\"}},\"id\":\"2098\",\"type\":\"CDSView\"},{\"attributes\":{\"axis_label\":\"Population\",\"formatter\":{\"id\":\"1999\"},\"ticker\":{\"id\":\"1969\"}},\"id\":\"1968\",\"type\":\"LinearAxis\"},{\"attributes\":{\"label\":{\"value\":\"Fit_deaths_SK Jena\"},\"renderers\":[{\"id\":\"2097\"}]},\"id\":\"2124\",\"type\":\"LegendItem\"},{\"attributes\":{\"axis\":{\"id\":\"1968\"},\"dimension\":1,\"ticker\":null},\"id\":\"1971\",\"type\":\"Grid\"},{\"attributes\":{},\"id\":\"2018\",\"type\":\"YearsTicker\"},{\"attributes\":{},\"id\":\"1973\",\"type\":\"WheelZoomTool\"},{\"attributes\":{},\"id\":\"1972\",\"type\":\"PanTool\"},{\"attributes\":{\"data\":{\"x\":{\"__ndarray__\":\"AACA6w8Ed0IAAEBRYgR3QgAAALe0BHdCAADAHAcFd0IAAICCWQV3QgAAQOirBXdCAAAATv4Fd0IAAMCzUAZ3QgAAgBmjBndCAABAf/UGd0IAAADlRwd3QgAAwEqaB3dCAACAsOwHd0IAAEAWPwh3QgAAAHyRCHdCAADA4eMId0IAAIBHNgl3QgAAQK2ICXdCAAAAE9sJd0IAAMB4LQp3QgAAgN5/CndCAABARNIKd0IAAACqJAt3QgAAwA93C3dCAACAdckLd0IAAEDbGwx3QgAAAEFuDHdCAADApsAMd0IAAIAMEw13QgAAQHJlDXdCAAAA2LcNd0IAAMA9Cg53QgAAgKNcDndCAABACa8Od0IAAABvAQ93QgAAwNRTD3dCAACAOqYPd0IAAECg+A93QgAAAAZLEHdCAADAa50Qd0IAAIDR7xB3QgAAQDdCEXdCAAAAnZQRd0IAAMAC5xF3QgAAgGg5EndCAABAzosSd0IAAAA03hJ3QgAAwJkwE3dCAACA/4ITd0IAAEBl1RN3QgAAAMsnFHdCAADAMHoUd0IAAICWzBR3QgAAQPweFXdCAAAAYnEVd0IAAMDHwxV3QgAAgC0WFndCAABAk2gWd0IAAAD5uhZ3QgAAwF4NF3dCAACAxF8Xd0IAAEAqshd3QgAAAJAEGHdCAADA9VYYd0IAAIBbqRh3QgAAQMH7GHdCAAAAJ04Zd0IAAMCMoBl3QgAAgPLyGXdCAABAWEUad0IAAAC+lxp3QgAAwCPqGndCAACAiTwbd0IAAEDvjht3QgAAAFXhG3dCAADAujMcd0IAAIAghhx3QgAAQIbYHHdCAAAA7Codd0IAAMBRfR13QgAAgLfPHXdCAABAHSIed0IAAACDdB53QgAAwOjGHndCAACAThkfd0IAAEC0ax93QgAAABq+H3dCAADAfxAgd0IAAIDlYiB3QgAAQEu1IHdC\",\"dtype\":\"float64\",\"shape\":[90]},\"y\":{\"__ndarray__\":\"AAAAAAAAAAAAAAAAAAAAAAAAAAAAAAAAAAAAAAAAAAAAAAAAAAAAAAAAAAAAAAAAAAAAAAAAAAAAAAAAAAAAAAAAAAAAAAAAAAAAAAAAAAAAAAAAAAAAAAAAAAAAAAAAAAAAAAAAAAAAAAAAAAAAAAAAAAAAAAAAAAAAAAAAAAAAAAAAAAAAAAAAAAAAAIA/AAAAAAAAAAAAAAAAAAAAAAAAAAAAAAAAAAAAAAAAAAAAAAAAAAAAAAAAAAAAAAAAAAAAAAAAAAAAAAAAAAAAAAAAAAAAAAAAAAAAAAAAAAAAAAAAAACAPwAAAAAAAAAAAACAPwAAAAAAAAAAAAAAAAAAAAAAAAAAAAAAAAAAAAAAAAAAAAAAAAAAAAAAAAAAAAAAAAAAAAAAAAAAAAAAAAAAAAAAAAAAAAAAAAAAAAAAAAAAAAAAAAAAAAAAAAAAAAAAAAAAAAAAAAAAAAAAAAAAAAAAAAAA\",\"dtype\":\"float32\",\"shape\":[90]}},\"selected\":{\"id\":\"2005\"},\"selection_policy\":{\"id\":\"2006\"}},\"id\":\"1987\",\"type\":\"ColumnDataSource\"},{\"attributes\":{},\"id\":\"2144\",\"type\":\"Selection\"},{\"attributes\":{\"data\":{\"x\":{\"__ndarray__\":\"AACA6w8Ed0IAAEBRYgR3QgAAALe0BHdCAADAHAcFd0IAAICCWQV3QgAAQOirBXdCAAAATv4Fd0IAAMCzUAZ3QgAAgBmjBndCAABAf/UGd0IAAADlRwd3QgAAwEqaB3dCAACAsOwHd0IAAEAWPwh3QgAAAHyRCHdCAADA4eMId0IAAIBHNgl3QgAAQK2ICXdCAAAAE9sJd0IAAMB4LQp3QgAAgN5/CndCAABARNIKd0IAAACqJAt3QgAAwA93C3dCAACAdckLd0IAAEDbGwx3QgAAAEFuDHdCAADApsAMd0IAAIAMEw13QgAAQHJlDXdCAAAA2LcNd0IAAMA9Cg53QgAAgKNcDndCAABACa8Od0IAAABvAQ93QgAAwNRTD3dCAACAOqYPd0IAAECg+A93QgAAAAZLEHdCAADAa50Qd0IAAIDR7xB3QgAAQDdCEXdCAAAAnZQRd0IAAMAC5xF3QgAAgGg5EndCAABAzosSd0IAAAA03hJ3QgAAwJkwE3dCAACA/4ITd0IAAEBl1RN3QgAAAMsnFHdCAADAMHoUd0IAAICWzBR3QgAAQPweFXdCAAAAYnEVd0IAAMDHwxV3QgAAgC0WFndCAABAk2gWd0IAAAD5uhZ3QgAAwF4NF3dCAACAxF8Xd0IAAEAqshd3QgAAAJAEGHdCAADA9VYYd0IAAIBbqRh3QgAAQMH7GHdCAAAAJ04Zd0IAAMCMoBl3QgAAgPLyGXdCAABAWEUad0IAAAC+lxp3QgAAwCPqGndCAACAiTwbd0IAAEDvjht3QgAAAFXhG3dCAADAujMcd0IAAIAghhx3QgAAQIbYHHdCAAAA7Codd0IAAMBRfR13QgAAgLfPHXdCAABAHSIed0IAAACDdB53QgAAwOjGHndCAACAThkfd0IAAEC0ax93QgAAABq+H3dCAADAfxAgd0IAAIDlYiB3QgAAQEu1IHdC\",\"dtype\":\"float64\",\"shape\":[90]},\"y\":{\"__ndarray__\":\"AAAAAAAAAAAAAAAAAAAAAAAAAAAAAAAAAAAAAAAAAAAAAAAAAAAAAAAAAAAAAAAAAAAAAAAAAAAAAAAAAAAAAAAAAAAAAAAAAAAAAAAAAAAAAAAAAAAAAAAAAAAAAAAAAAAAAAAAAAAAAAAAAAAAAAAAAAAAAAAAAAAAAAAAAAAAAAAAAAAAAAAAAAAAAAAAAAAAAAAAgD8AAAAAAACAPwAAAAAAAAAAAAAAAAAAAAAAAAAAAACAPwAAAAAAAABAAAAAAAAAAAAAAIA/AAAAQAAAQEAAAAAAAACAPwAAAAAAAAAAAAAAAAAAgD8AAIA/AAAAAAAAAAAAAEBAAAAAAAAAgD8AAIA/AAAAQAAAAAAAAABAAAAAAAAAAEAAAAAAAAAAAAAAAAAAAABAAACAPwAAAAAAAEBAAAAAAAAAAEAAAAAAAACAPwAAAAAAAABAAACAPwAAAAAAAIA/AAAAAAAAAAAAAAAA\",\"dtype\":\"float32\",\"shape\":[90]}},\"selected\":{\"id\":\"2041\"},\"selection_policy\":{\"id\":\"2042\"}},\"id\":\"2021\",\"type\":\"ColumnDataSource\"},{\"attributes\":{\"line_alpha\":0.8,\"line_color\":\"#d95f02\",\"line_width\":1.5,\"x\":{\"field\":\"x\"},\"y\":{\"field\":\"y\"}},\"id\":\"2127\",\"type\":\"Line\"},{\"attributes\":{\"overlay\":{\"id\":\"1979\"}},\"id\":\"1974\",\"type\":\"BoxZoomTool\"},{\"attributes\":{\"data_source\":{\"id\":\"2125\"},\"glyph\":{\"id\":\"2127\"},\"hover_glyph\":null,\"muted_glyph\":null,\"name\":\"_Fit_deaths_LK Greiz\",\"nonselection_glyph\":{\"id\":\"2128\"},\"selection_glyph\":null,\"view\":{\"id\":\"2130\"}},\"id\":\"2129\",\"type\":\"GlyphRenderer\"},{\"attributes\":{},\"id\":\"1975\",\"type\":\"ResetTool\"},{\"attributes\":{\"source\":{\"id\":\"2125\"}},\"id\":\"2130\",\"type\":\"CDSView\"},{\"attributes\":{\"overlay\":{\"id\":\"1978\"}},\"id\":\"1977\",\"type\":\"BoxSelectTool\"},{\"attributes\":{\"line_alpha\":0.1,\"line_color\":\"#d95f02\",\"line_width\":1.5,\"x\":{\"field\":\"x\"},\"y\":{\"field\":\"y\"}},\"id\":\"2128\",\"type\":\"Line\"},{\"attributes\":{},\"id\":\"1962\",\"type\":\"LinearScale\"},{\"attributes\":{},\"id\":\"1976\",\"type\":\"SaveTool\"},{\"attributes\":{},\"id\":\"2145\",\"type\":\"UnionRenderers\"},{\"attributes\":{\"label\":{\"value\":\"Fit_deaths_LK Greiz\"},\"renderers\":[{\"id\":\"2129\"}]},\"id\":\"2158\",\"type\":\"LegendItem\"},{\"attributes\":{\"data\":{\"x\":{\"__ndarray__\":\"AACA6w8Ed0IAAEBRYgR3QgAAALe0BHdCAADAHAcFd0IAAICCWQV3QgAAQOirBXdCAAAATv4Fd0IAAMCzUAZ3QgAAgBmjBndCAABAf/UGd0IAAADlRwd3QgAAwEqaB3dCAACAsOwHd0IAAEAWPwh3QgAAAHyRCHdCAADA4eMId0IAAIBHNgl3QgAAQK2ICXdCAAAAE9sJd0IAAMB4LQp3QgAAgN5/CndCAABARNIKd0IAAACqJAt3QgAAwA93C3dCAACAdckLd0IAAEDbGwx3QgAAAEFuDHdCAADApsAMd0IAAIAMEw13QgAAQHJlDXdCAAAA2LcNd0IAAMA9Cg53QgAAgKNcDndCAABACa8Od0IAAABvAQ93QgAAwNRTD3dCAACAOqYPd0IAAECg+A93QgAAAAZLEHdCAADAa50Qd0IAAIDR7xB3QgAAQDdCEXdCAAAAnZQRd0IAAMAC5xF3QgAAgGg5EndCAABAzosSd0IAAAA03hJ3QgAAwJkwE3dCAACA/4ITd0IAAEBl1RN3QgAAAMsnFHdCAADAMHoUd0IAAICWzBR3QgAAQPweFXdCAAAAYnEVd0IAAMDHwxV3QgAAgC0WFndCAABAk2gWd0IAAAD5uhZ3QgAAwF4NF3dCAACAxF8Xd0IAAEAqshd3QgAAAJAEGHdCAADA9VYYd0IAAIBbqRh3QgAAQMH7GHdCAAAAJ04Zd0IAAMCMoBl3QgAAgPLyGXdCAABAWEUad0IAAAC+lxp3QgAAwCPqGndCAACAiTwbd0IAAEDvjht3QgAAAFXhG3dCAADAujMcd0IAAIAghhx3QgAAQIbYHHdCAAAA7Codd0IAAMBRfR13QgAAgLfPHXdCAABAHSIed0IAAACDdB53QgAAwOjGHndCAACAThkfd0IAAEC0ax93QgAAABq+H3dCAADAfxAgd0IAAIDlYiB3QgAAQEu1IHdC\",\"dtype\":\"float64\",\"shape\":[90]},\"y\":{\"__ndarray__\":\"AAAAAAAAAAAAAAAAAAAAAAAAAAAAAAAAAAAAAAAAAAAAAAAAAAAAAAAAAABqhb4KqnCbEfewuheePyUd5zPYIc6n0iV4+RspytG4Kz9uxS0YwWwvDbjOMKjkGTKbqkszhb5wNGtRfjW5K3A25tRKN/dBGTg7V88441l7OZawCDoLooU6Vn/rOjPDOzu1PYg7qWq1O5Ys4DtpaQI8ZE4RPHq0HTxPDyk8Aow0PAfAQDzcz008gbtbPOWLajwKV3o8KpqFPFybjjyfN5g8fHiiPBZprTyJFbk8cIrFPAfV0jxcA+E8eyTwPEEkAD1IwAg9a+8RPVe7Gz1YLiY9ZFMxPR82PT3t4kk99WZXPTjQZT2GLXU9U8eCPSqCiz0k0JQ9rLqePbZLqT3YjbQ9NozAPalSzT2v7do9gGrpPQnX+D0BoQQ+dl0NPg6pFj5djCA+aBArPqw+Nj4OIUI+8cFOPjYsXD4va2o+\",\"dtype\":\"float32\",\"shape\":[90]}},\"selected\":{\"id\":\"2274\"},\"selection_policy\":{\"id\":\"2275\"}},\"id\":\"2159\",\"type\":\"ColumnDataSource\"},{\"attributes\":{\"bottom_units\":\"screen\",\"fill_alpha\":0.5,\"fill_color\":\"lightgrey\",\"left_units\":\"screen\",\"level\":\"overlay\",\"line_alpha\":1.0,\"line_color\":\"black\",\"line_dash\":[4,4],\"line_width\":2,\"render_mode\":\"css\",\"right_units\":\"screen\",\"top_units\":\"screen\"},\"id\":\"1978\",\"type\":\"BoxAnnotation\"},{\"attributes\":{\"bottom_units\":\"screen\",\"fill_alpha\":0.5,\"fill_color\":\"lightgrey\",\"left_units\":\"screen\",\"level\":\"overlay\",\"line_alpha\":1.0,\"line_color\":\"black\",\"line_dash\":[4,4],\"line_width\":2,\"render_mode\":\"css\",\"right_units\":\"screen\",\"top_units\":\"screen\"},\"id\":\"1979\",\"type\":\"BoxAnnotation\"},{\"attributes\":{\"active_drag\":\"auto\",\"active_inspect\":\"auto\",\"active_multi\":null,\"active_scroll\":\"auto\",\"active_tap\":\"auto\",\"tools\":[{\"id\":\"1972\"},{\"id\":\"1973\"},{\"id\":\"1974\"},{\"id\":\"1975\"},{\"id\":\"1976\"},{\"id\":\"1977\"}]},\"id\":\"1980\",\"type\":\"Toolbar\"},{\"attributes\":{\"fill_alpha\":{\"value\":0.1},\"fill_color\":{\"value\":\"#1b9e77\"},\"line_alpha\":{\"value\":0.1},\"line_color\":{\"value\":\"#1b9e77\"},\"line_width\":{\"value\":1.5},\"x\":{\"field\":\"x\"},\"y\":{\"field\":\"y\"}},\"id\":\"1990\",\"type\":\"Circle\"},{\"attributes\":{\"source\":{\"id\":\"1987\"}},\"id\":\"1992\",\"type\":\"CDSView\"},{\"attributes\":{},\"id\":\"2180\",\"type\":\"Selection\"},{\"attributes\":{\"months\":[0,6]},\"id\":\"2017\",\"type\":\"MonthsTicker\"},{\"attributes\":{\"line_alpha\":0.8,\"line_color\":\"#7570b3\",\"line_width\":1.5,\"x\":{\"field\":\"x\"},\"y\":{\"field\":\"y\"}},\"id\":\"2161\",\"type\":\"Line\"},{\"attributes\":{},\"id\":\"1958\",\"type\":\"DataRange1d\"},{\"attributes\":{\"fill_alpha\":{\"value\":0.9},\"fill_color\":{\"value\":\"#1b9e77\"},\"line_alpha\":{\"value\":0.9},\"line_color\":{\"value\":\"#1b9e77\"},\"line_width\":{\"value\":1.5},\"x\":{\"field\":\"x\"},\"y\":{\"field\":\"y\"}},\"id\":\"1989\",\"type\":\"Circle\"},{\"attributes\":{\"data_source\":{\"id\":\"2159\"},\"glyph\":{\"id\":\"2161\"},\"hover_glyph\":null,\"muted_glyph\":null,\"name\":\"_Fit_deaths_SK Gera\",\"nonselection_glyph\":{\"id\":\"2162\"},\"selection_glyph\":null,\"view\":{\"id\":\"2164\"}},\"id\":\"2163\",\"type\":\"GlyphRenderer\"},{\"attributes\":{\"data_source\":{\"id\":\"1987\"},\"glyph\":{\"id\":\"1989\"},\"hover_glyph\":null,\"muted_glyph\":null,\"name\":\"_measured_deaths_SK Jena\",\"nonselection_glyph\":{\"id\":\"1990\"},\"selection_glyph\":null,\"view\":{\"id\":\"1992\"}},\"id\":\"1991\",\"type\":\"GlyphRenderer\"},{\"attributes\":{\"source\":{\"id\":\"2159\"}},\"id\":\"2164\",\"type\":\"CDSView\"},{\"attributes\":{\"axis\":{\"id\":\"1964\"},\"ticker\":null},\"id\":\"1967\",\"type\":\"Grid\"},{\"attributes\":{\"line_alpha\":0.1,\"line_color\":\"#7570b3\",\"line_width\":1.5,\"x\":{\"field\":\"x\"},\"y\":{\"field\":\"y\"}},\"id\":\"2162\",\"type\":\"Line\"},{\"attributes\":{\"num_minor_ticks\":5,\"tickers\":[{\"id\":\"2007\"},{\"id\":\"2008\"},{\"id\":\"2009\"},{\"id\":\"2010\"},{\"id\":\"2011\"},{\"id\":\"2012\"},{\"id\":\"2013\"},{\"id\":\"2014\"},{\"id\":\"2015\"},{\"id\":\"2016\"},{\"id\":\"2017\"},{\"id\":\"2018\"}]},\"id\":\"1965\",\"type\":\"DatetimeTicker\"},{\"attributes\":{},\"id\":\"2181\",\"type\":\"UnionRenderers\"},{\"attributes\":{\"days\":[1,8,15,22]},\"id\":\"2012\",\"type\":\"DaysTicker\"},{\"attributes\":{\"fill_alpha\":{\"value\":0.1},\"fill_color\":{\"value\":\"#1b9e77\"},\"line_alpha\":{\"value\":0.1},\"line_color\":{\"value\":\"#1b9e77\"},\"top\":{\"field\":\"y\"},\"width\":{\"value\":51840000.0},\"x\":{\"field\":\"x\"}},\"id\":\"1995\",\"type\":\"VBar\"},{\"attributes\":{\"label\":{\"value\":\"Fit_deaths_SK Gera\"},\"renderers\":[{\"id\":\"2163\"}]},\"id\":\"2194\",\"type\":\"LegendItem\"},{\"attributes\":{\"days\":[1,4,7,10,13,16,19,22,25,28]},\"id\":\"2011\",\"type\":\"DaysTicker\"},{\"attributes\":{\"axis_label\":\"time\",\"formatter\":{\"id\":\"2001\"},\"major_label_orientation\":0.7853981633974483,\"ticker\":{\"id\":\"1965\"}},\"id\":\"1964\",\"type\":\"DatetimeAxis\"},{\"attributes\":{},\"id\":\"2274\",\"type\":\"Selection\"},{\"attributes\":{\"days\":[1,2,3,4,5,6,7,8,9,10,11,12,13,14,15,16,17,18,19,20,21,22,23,24,25,26,27,28,29,30,31]},\"id\":\"2010\",\"type\":\"DaysTicker\"},{\"attributes\":{},\"id\":\"2275\",\"type\":\"UnionRenderers\"},{\"attributes\":{\"source\":{\"id\":\"1987\"}},\"id\":\"1997\",\"type\":\"CDSView\"},{\"attributes\":{},\"id\":\"1999\",\"type\":\"BasicTickFormatter\"},{\"attributes\":{\"fill_alpha\":{\"value\":0.6},\"fill_color\":{\"value\":\"#1b9e77\"},\"line_alpha\":{\"value\":0.6},\"line_color\":{\"value\":\"#1b9e77\"},\"top\":{\"field\":\"y\"},\"width\":{\"value\":51840000.0},\"x\":{\"field\":\"x\"}},\"id\":\"1994\",\"type\":\"VBar\"},{\"attributes\":{\"data_source\":{\"id\":\"1987\"},\"glyph\":{\"id\":\"1994\"},\"hover_glyph\":null,\"muted_glyph\":null,\"name\":\"_measured_deaths_SK Jena\",\"nonselection_glyph\":{\"id\":\"1995\"},\"selection_glyph\":null,\"view\":{\"id\":\"1997\"}},\"id\":\"1996\",\"type\":\"GlyphRenderer\"},{\"attributes\":{},\"id\":\"2001\",\"type\":\"DatetimeTickFormatter\"},{\"attributes\":{},\"id\":\"2005\",\"type\":\"Selection\"},{\"attributes\":{},\"id\":\"2006\",\"type\":\"UnionRenderers\"},{\"attributes\":{},\"id\":\"1960\",\"type\":\"LinearScale\"},{\"attributes\":{},\"id\":\"1956\",\"type\":\"DataRange1d\"},{\"attributes\":{\"mantissas\":[1,2,5],\"max_interval\":500.0,\"num_minor_ticks\":0},\"id\":\"2007\",\"type\":\"AdaptiveTicker\"},{\"attributes\":{\"text\":\"Thuringia_deaths\"},\"id\":\"1954\",\"type\":\"Title\"},{\"attributes\":{\"months\":[0,4,8]},\"id\":\"2016\",\"type\":\"MonthsTicker\"},{\"attributes\":{\"data\":{\"x\":{\"__ndarray__\":\"AACA6w8Ed0IAAEBRYgR3QgAAALe0BHdCAADAHAcFd0IAAICCWQV3QgAAQOirBXdCAAAATv4Fd0IAAMCzUAZ3QgAAgBmjBndCAABAf/UGd0IAAADlRwd3QgAAwEqaB3dCAACAsOwHd0IAAEAWPwh3QgAAAHyRCHdCAADA4eMId0IAAIBHNgl3QgAAQK2ICXdCAAAAE9sJd0IAAMB4LQp3QgAAgN5/CndCAABARNIKd0IAAACqJAt3QgAAwA93C3dCAACAdckLd0IAAEDbGwx3QgAAAEFuDHdCAADApsAMd0IAAIAMEw13QgAAQHJlDXdCAAAA2LcNd0IAAMA9Cg53QgAAgKNcDndCAABACa8Od0IAAABvAQ93QgAAwNRTD3dCAACAOqYPd0IAAECg+A93QgAAAAZLEHdCAADAa50Qd0IAAIDR7xB3QgAAQDdCEXdCAAAAnZQRd0IAAMAC5xF3QgAAgGg5EndCAABAzosSd0IAAAA03hJ3QgAAwJkwE3dCAACA/4ITd0IAAEBl1RN3QgAAAMsnFHdCAADAMHoUd0IAAICWzBR3QgAAQPweFXdCAAAAYnEVd0IAAMDHwxV3QgAAgC0WFndCAABAk2gWd0IAAAD5uhZ3QgAAwF4NF3dCAACAxF8Xd0IAAEAqshd3QgAAAJAEGHdCAADA9VYYd0IAAIBbqRh3QgAAQMH7GHdCAAAAJ04Zd0IAAMCMoBl3QgAAgPLyGXdCAABAWEUad0IAAAC+lxp3QgAAwCPqGndCAACAiTwbd0IAAEDvjht3QgAAAFXhG3dCAADAujMcd0IAAIAghhx3QgAAQIbYHHdCAAAA7Codd0IAAMBRfR13QgAAgLfPHXdCAABAHSIed0IAAACDdB53QgAAwOjGHndCAACAThkfd0IAAEC0ax93QgAAABq+H3dCAADAfxAgd0IAAIDlYiB3QgAAQEu1IHdC\",\"dtype\":\"float64\",\"shape\":[90]},\"y\":{\"__ndarray__\":\"AAAAAAAAAAAAAAAAAAAAAAAAAAD+b+EKXe23Edvn3Bd+iEMdXdP/IQJD+SU/jzgp3rDaK/+c6S1iEowvkpr0MMcYNjLo/XAzsG6ONI52ljXWF442CwFwN0VYNTjrVvU4MrWUOZW9ITqiH546A1QLO1gsXjunNaE7F6rWOwahBDzeTxo8o+8rPHGbOjwAC0g8o6JVPC4TZDzVh3M8SQCCPP7DijwPHJQ8UBaePPu9qDwfHbQ8DD/APOkwzTwLAds8YL7pPIx4+TwaIAU9kxMOPTegFz0s0CE9Mq4sPb5FOD38okQ96NJRPUbjXz3B4m495+B+PSL3hz03DpE9A7+aPW0TpT3zFbA9tdG7PX9SyD3RpNU95dXjPbTz8j2IhgE+yxgKPuE4Ez5/7xw+0kUnPoZFMj6/+D0+KGpKPvekVz7ttGU+T6Z0PvxCgj6nsIo+IaOTPqwhnT7LM6c+SOGxPicyvT6uLsk+\",\"dtype\":\"float32\",\"shape\":[90]}},\"selected\":{\"id\":\"2144\"},\"selection_policy\":{\"id\":\"2145\"}},\"id\":\"2093\",\"type\":\"ColumnDataSource\"},{\"attributes\":{\"base\":60,\"mantissas\":[1,2,5,10,15,20,30],\"max_interval\":1800000.0,\"min_interval\":1000.0,\"num_minor_ticks\":0},\"id\":\"2008\",\"type\":\"AdaptiveTicker\"},{\"attributes\":{\"base\":24,\"mantissas\":[1,2,4,6,8,12],\"max_interval\":43200000.0,\"min_interval\":3600000.0,\"num_minor_ticks\":0},\"id\":\"2009\",\"type\":\"AdaptiveTicker\"},{\"attributes\":{\"days\":[1,15]},\"id\":\"2013\",\"type\":\"DaysTicker\"},{\"attributes\":{\"months\":[0,1,2,3,4,5,6,7,8,9,10,11]},\"id\":\"2014\",\"type\":\"MonthsTicker\"},{\"attributes\":{\"months\":[0,2,4,6,8,10]},\"id\":\"2015\",\"type\":\"MonthsTicker\"},{\"attributes\":{\"click_policy\":\"hide\",\"items\":[{\"id\":\"2020\"},{\"id\":\"2055\"},{\"id\":\"2092\"},{\"id\":\"2124\"},{\"id\":\"2158\"},{\"id\":\"2194\"}]},\"id\":\"2019\",\"type\":\"Legend\"},{\"attributes\":{\"label\":{\"value\":\"measured_deaths_SK Jena\"},\"renderers\":[{\"id\":\"1996\"}]},\"id\":\"2020\",\"type\":\"LegendItem\"},{\"attributes\":{\"line_alpha\":0.1,\"line_color\":\"#1b9e77\",\"line_width\":1.5,\"x\":{\"field\":\"x\"},\"y\":{\"field\":\"y\"}},\"id\":\"2096\",\"type\":\"Line\"},{\"attributes\":{\"source\":{\"id\":\"2021\"}},\"id\":\"2026\",\"type\":\"CDSView\"},{\"attributes\":{\"line_alpha\":0.8,\"line_color\":\"#1b9e77\",\"line_width\":1.5,\"x\":{\"field\":\"x\"},\"y\":{\"field\":\"y\"}},\"id\":\"2095\",\"type\":\"Line\"},{\"attributes\":{\"fill_alpha\":{\"value\":0.1},\"fill_color\":{\"value\":\"#d95f02\"},\"line_alpha\":{\"value\":0.1},\"line_color\":{\"value\":\"#d95f02\"},\"line_width\":{\"value\":1.5},\"x\":{\"field\":\"x\"},\"y\":{\"field\":\"y\"}},\"id\":\"2024\",\"type\":\"Circle\"},{\"attributes\":{\"data\":{\"x\":{\"__ndarray__\":\"AACA6w8Ed0IAAEBRYgR3QgAAALe0BHdCAADAHAcFd0IAAICCWQV3QgAAQOirBXdCAAAATv4Fd0IAAMCzUAZ3QgAAgBmjBndCAABAf/UGd0IAAADlRwd3QgAAwEqaB3dCAACAsOwHd0IAAEAWPwh3QgAAAHyRCHdCAADA4eMId0IAAIBHNgl3QgAAQK2ICXdCAAAAE9sJd0IAAMB4LQp3QgAAgN5/CndCAABARNIKd0IAAACqJAt3QgAAwA93C3dCAACAdckLd0IAAEDbGwx3QgAAAEFuDHdCAADApsAMd0IAAIAMEw13QgAAQHJlDXdCAAAA2LcNd0IAAMA9Cg53QgAAgKNcDndCAABACa8Od0IAAABvAQ93QgAAwNRTD3dCAACAOqYPd0IAAECg+A93QgAAAAZLEHdCAADAa50Qd0IAAIDR7xB3QgAAQDdCEXdCAAAAnZQRd0IAAMAC5xF3QgAAgGg5EndCAABAzosSd0IAAAA03hJ3QgAAwJkwE3dCAACA/4ITd0IAAEBl1RN3QgAAAMsnFHdCAADAMHoUd0IAAICWzBR3QgAAQPweFXdCAAAAYnEVd0IAAMDHwxV3QgAAgC0WFndCAABAk2gWd0IAAAD5uhZ3QgAAwF4NF3dCAACAxF8Xd0IAAEAqshd3QgAAAJAEGHdCAADA9VYYd0IAAIBbqRh3QgAAQMH7GHdCAAAAJ04Zd0IAAMCMoBl3QgAAgPLyGXdCAABAWEUad0IAAAC+lxp3QgAAwCPqGndCAACAiTwbd0IAAEDvjht3QgAAAFXhG3dCAADAujMcd0IAAIAghhx3QgAAQIbYHHdCAAAA7Codd0IAAMBRfR13QgAAgLfPHXdCAABAHSIed0IAAACDdB53QgAAwOjGHndCAACAThkfd0IAAEC0ax93QgAAABq+H3dCAADAfxAgd0IAAIDlYiB3QgAAQEu1IHdC\",\"dtype\":\"float64\",\"shape\":[90]},\"y\":{\"__ndarray__\":\"AAAAAAAAAAAAAAAAAAAAACihxgoxDqIR+aLCFwNILB1wZ+Eh557bJdGcIilnr8ArRdXNLYrUdi9ChNcwU3EgMpFVVDNw/Xo0HZKENWNkejbDdlM3uccfODoq2DgxBoM504EOOvxRizoZhfU65MBDOw8KjjszI707/LbpO0L2BzyEfRc8sGokPDxBMDwYOzw8EfRIPDSSVjyCFWU8Tod0PEJ/gjzISYs8GK2UPA2ynjyiYqk8ccq0PBL2wDy08s08G87bPPGW6jzoXPo8ZpgFPTuSDj1uJRg9F1wiPfFALT1q3zg9p0NFPY16Uj3ckWA9HphvPdecfz01WIg9KnKRPYYlmz0YfKU9RoCwPQ89vD0cvsg9wQ/WPQQ/5D2rWfM9IrcBPhBGCj60YRM+kRIdPp1hJz47WDI+UAA+Pi1kSj6rjlc+GotlPkhldD6+FII+Q3KKPs9Rkz49upw+o7KmPkVCsT6ZcLw+\",\"dtype\":\"float32\",\"shape\":[90]}},\"selected\":{\"id\":\"2180\"},\"selection_policy\":{\"id\":\"2181\"}},\"id\":\"2125\",\"type\":\"ColumnDataSource\"},{\"attributes\":{\"data_source\":{\"id\":\"2021\"},\"glyph\":{\"id\":\"2023\"},\"hover_glyph\":null,\"muted_glyph\":null,\"name\":\"_measured_deaths_LK Greiz\",\"nonselection_glyph\":{\"id\":\"2024\"},\"selection_glyph\":null,\"view\":{\"id\":\"2026\"}},\"id\":\"2025\",\"type\":\"GlyphRenderer\"},{\"attributes\":{\"fill_alpha\":{\"value\":0.9},\"fill_color\":{\"value\":\"#d95f02\"},\"line_alpha\":{\"value\":0.9},\"line_color\":{\"value\":\"#d95f02\"},\"line_width\":{\"value\":1.5},\"x\":{\"field\":\"x\"},\"y\":{\"field\":\"y\"}},\"id\":\"2023\",\"type\":\"Circle\"},{\"attributes\":{\"source\":{\"id\":\"2021\"}},\"id\":\"2031\",\"type\":\"CDSView\"},{\"attributes\":{},\"id\":\"2041\",\"type\":\"Selection\"},{\"attributes\":{\"fill_alpha\":{\"value\":0.1},\"fill_color\":{\"value\":\"#d95f02\"},\"line_alpha\":{\"value\":0.1},\"line_color\":{\"value\":\"#d95f02\"},\"top\":{\"field\":\"y\"},\"width\":{\"value\":51840000.0},\"x\":{\"field\":\"x\"}},\"id\":\"2029\",\"type\":\"VBar\"},{\"attributes\":{\"fill_alpha\":{\"value\":0.6},\"fill_color\":{\"value\":\"#d95f02\"},\"line_alpha\":{\"value\":0.6},\"line_color\":{\"value\":\"#d95f02\"},\"top\":{\"field\":\"y\"},\"width\":{\"value\":51840000.0},\"x\":{\"field\":\"x\"}},\"id\":\"2028\",\"type\":\"VBar\"},{\"attributes\":{\"data_source\":{\"id\":\"2021\"},\"glyph\":{\"id\":\"2028\"},\"hover_glyph\":null,\"muted_glyph\":null,\"name\":\"_measured_deaths_LK Greiz\",\"nonselection_glyph\":{\"id\":\"2029\"},\"selection_glyph\":null,\"view\":{\"id\":\"2031\"}},\"id\":\"2030\",\"type\":\"GlyphRenderer\"},{\"attributes\":{},\"id\":\"2042\",\"type\":\"UnionRenderers\"},{\"attributes\":{\"label\":{\"value\":\"measured_deaths_LK Greiz\"},\"renderers\":[{\"id\":\"2030\"}]},\"id\":\"2055\",\"type\":\"LegendItem\"},{\"attributes\":{\"data\":{\"x\":{\"__ndarray__\":\"AACA6w8Ed0IAAEBRYgR3QgAAALe0BHdCAADAHAcFd0IAAICCWQV3QgAAQOirBXdCAAAATv4Fd0IAAMCzUAZ3QgAAgBmjBndCAABAf/UGd0IAAADlRwd3QgAAwEqaB3dCAACAsOwHd0IAAEAWPwh3QgAAAHyRCHdCAADA4eMId0IAAIBHNgl3QgAAQK2ICXdCAAAAE9sJd0IAAMB4LQp3QgAAgN5/CndCAABARNIKd0IAAACqJAt3QgAAwA93C3dCAACAdckLd0IAAEDbGwx3QgAAAEFuDHdCAADApsAMd0IAAIAMEw13QgAAQHJlDXdCAAAA2LcNd0IAAMA9Cg53QgAAgKNcDndCAABACa8Od0IAAABvAQ93QgAAwNRTD3dCAACAOqYPd0IAAECg+A93QgAAAAZLEHdCAADAa50Qd0IAAIDR7xB3QgAAQDdCEXdCAAAAnZQRd0IAAMAC5xF3QgAAgGg5EndCAABAzosSd0IAAAA03hJ3QgAAwJkwE3dCAACA/4ITd0IAAEBl1RN3QgAAAMsnFHdCAADAMHoUd0IAAICWzBR3QgAAQPweFXdCAAAAYnEVd0IAAMDHwxV3QgAAgC0WFndCAABAk2gWd0IAAAD5uhZ3QgAAwF4NF3dCAACAxF8Xd0IAAEAqshd3QgAAAJAEGHdCAADA9VYYd0IAAIBbqRh3QgAAQMH7GHdCAAAAJ04Zd0IAAMCMoBl3QgAAgPLyGXdCAABAWEUad0IAAAC+lxp3QgAAwCPqGndCAACAiTwbd0IAAEDvjht3QgAAAFXhG3dCAADAujMcd0IAAIAghhx3QgAAQIbYHHdCAAAA7Codd0IAAMBRfR13QgAAgLfPHXdCAABAHSIed0IAAACDdB53QgAAwOjGHndCAACAThkfd0IAAEC0ax93QgAAABq+H3dCAADAfxAgd0IAAIDlYiB3QgAAQEu1IHdC\",\"dtype\":\"float64\",\"shape\":[90]},\"y\":{\"__ndarray__\":\"AAAAAAAAAAAAAAAAAAAAAAAAAAAAAAAAAAAAAAAAAAAAAAAAAAAAAAAAAAAAAAAAAAAAAAAAAAAAAAAAAAAAAAAAAAAAAAAAAAAAAAAAAAAAAAAAAAAAAAAAAAAAAAAAAAAAAAAAAAAAAAAAAAAAAAAAAAAAAAAAAAAAAAAAAAAAAAAAAAAAAAAAAAAAAAAAAAAAAAAAAAAAAAAAAAAAAAAAAAAAAAAAAAAAAAAAAAAAAAAAAAAAAAAAAAAAAAAAAAAAAAAAAAAAAAAAAAAAAAAAAAAAAAAAAAAAAAAAAAAAAAAAAAAAAAAAAAAAAIA/AAAAAAAAAAAAAAAAAAAAAAAAgD8AAAAAAAAAAAAAAAAAAIA/AAAAQAAAgD8AAAAAAAAAAAAAAAAAAAAAAAAAAAAAgD8AAAAAAAAAAAAAAAAAAAAAAAAAAAAAgD8AAAAAAAAAAAAAAAAAAAAAAAAAAAAAAAAAAAAA\",\"dtype\":\"float32\",\"shape\":[90]}},\"selected\":{\"id\":\"2078\"},\"selection_policy\":{\"id\":\"2079\"}},\"id\":\"2056\",\"type\":\"ColumnDataSource\"},{\"attributes\":{\"source\":{\"id\":\"2056\"}},\"id\":\"2061\",\"type\":\"CDSView\"},{\"attributes\":{\"fill_alpha\":{\"value\":0.1},\"fill_color\":{\"value\":\"#7570b3\"},\"line_alpha\":{\"value\":0.1},\"line_color\":{\"value\":\"#7570b3\"},\"line_width\":{\"value\":1.5},\"x\":{\"field\":\"x\"},\"y\":{\"field\":\"y\"}},\"id\":\"2059\",\"type\":\"Circle\"},{\"attributes\":{\"data_source\":{\"id\":\"2056\"},\"glyph\":{\"id\":\"2058\"},\"hover_glyph\":null,\"muted_glyph\":null,\"name\":\"_measured_deaths_SK Gera\",\"nonselection_glyph\":{\"id\":\"2059\"},\"selection_glyph\":null,\"view\":{\"id\":\"2061\"}},\"id\":\"2060\",\"type\":\"GlyphRenderer\"},{\"attributes\":{\"fill_alpha\":{\"value\":0.9},\"fill_color\":{\"value\":\"#7570b3\"},\"line_alpha\":{\"value\":0.9},\"line_color\":{\"value\":\"#7570b3\"},\"line_width\":{\"value\":1.5},\"x\":{\"field\":\"x\"},\"y\":{\"field\":\"y\"}},\"id\":\"2058\",\"type\":\"Circle\"},{\"attributes\":{\"source\":{\"id\":\"2056\"}},\"id\":\"2066\",\"type\":\"CDSView\"},{\"attributes\":{},\"id\":\"2078\",\"type\":\"Selection\"},{\"attributes\":{\"fill_alpha\":{\"value\":0.1},\"fill_color\":{\"value\":\"#7570b3\"},\"line_alpha\":{\"value\":0.1},\"line_color\":{\"value\":\"#7570b3\"},\"top\":{\"field\":\"y\"},\"width\":{\"value\":51840000.0},\"x\":{\"field\":\"x\"}},\"id\":\"2064\",\"type\":\"VBar\"},{\"attributes\":{\"fill_alpha\":{\"value\":0.6},\"fill_color\":{\"value\":\"#7570b3\"},\"line_alpha\":{\"value\":0.6},\"line_color\":{\"value\":\"#7570b3\"},\"top\":{\"field\":\"y\"},\"width\":{\"value\":51840000.0},\"x\":{\"field\":\"x\"}},\"id\":\"2063\",\"type\":\"VBar\"},{\"attributes\":{\"data_source\":{\"id\":\"2056\"},\"glyph\":{\"id\":\"2063\"},\"hover_glyph\":null,\"muted_glyph\":null,\"name\":\"_measured_deaths_SK Gera\",\"nonselection_glyph\":{\"id\":\"2064\"},\"selection_glyph\":null,\"view\":{\"id\":\"2066\"}},\"id\":\"2065\",\"type\":\"GlyphRenderer\"},{\"attributes\":{},\"id\":\"2079\",\"type\":\"UnionRenderers\"},{\"attributes\":{\"label\":{\"value\":\"measured_deaths_SK Gera\"},\"renderers\":[{\"id\":\"2065\"}]},\"id\":\"2092\",\"type\":\"LegendItem\"}],\"root_ids\":[\"1953\"]},\"title\":\"Bokeh Application\",\"version\":\"2.0.2\"}};\n",
       "  var render_items = [{\"docid\":\"271cf9e8-06dd-4692-aa17-e5e7ddba368d\",\"notebook_comms_target\":\"2288\",\"root_ids\":[\"1953\"],\"roots\":{\"1953\":\"e9b9d414-5e1b-45c5-b21d-0557a356c35e\"}}];\n",
       "  root.Bokeh.embed.embed_items_notebook(docs_json, render_items);\n",
       "\n",
       "  }\n",
       "  if (root.Bokeh !== undefined) {\n",
       "    embed_document(root);\n",
       "  } else {\n",
       "    var attempts = 0;\n",
       "    var timer = setInterval(function(root) {\n",
       "      if (root.Bokeh !== undefined) {\n",
       "        clearInterval(timer);\n",
       "        embed_document(root);\n",
       "      } else {\n",
       "        attempts++;\n",
       "        if (attempts > 100) {\n",
       "          clearInterval(timer);\n",
       "          console.log(\"Bokeh: ERROR: Unable to run BokehJS code because BokehJS library is missing\");\n",
       "        }\n",
       "      }\n",
       "    }, 10, root)\n",
       "  }\n",
       "})(window);"
      ],
      "application/vnd.bokehjs_exec.v0+json": ""
     },
     "metadata": {
      "application/vnd.bokehjs_exec.v0+json": {
       "id": "1953"
      }
     },
     "output_type": "display_data"
    },
    {
     "data": {
      "text/html": [
       "\n",
       "\n",
       "\n",
       "\n",
       "\n",
       "\n",
       "  <div class=\"bk-root\" id=\"af8cacb1-ffe8-4ea9-bee9-9b0d7939b249\" data-root-id=\"2475\"></div>\n"
      ]
     },
     "metadata": {},
     "output_type": "display_data"
    },
    {
     "data": {
      "application/javascript": [
       "(function(root) {\n",
       "  function embed_document(root) {\n",
       "    \n",
       "  var docs_json = {\"9bb23013-5ec3-443d-88b7-7d4ac20b4279\":{\"roots\":{\"references\":[{\"attributes\":{\"background_fill_color\":\"#efefef\",\"below\":[{\"id\":\"2486\"}],\"center\":[{\"id\":\"2489\"},{\"id\":\"2493\"},{\"id\":\"2534\"}],\"left\":[{\"id\":\"2490\"}],\"name\":\"_figure\",\"plot_height\":400,\"plot_width\":900,\"renderers\":[{\"id\":\"2513\"},{\"id\":\"2540\"},{\"id\":\"2568\"},{\"id\":\"2598\"},{\"id\":\"2630\"},{\"id\":\"2664\"},{\"id\":\"2700\"},{\"id\":\"2738\"},{\"id\":\"2778\"},{\"id\":\"2820\"},{\"id\":\"2864\"},{\"id\":\"2910\"}],\"title\":{\"id\":\"2476\"},\"toolbar\":{\"id\":\"2502\"},\"x_range\":{\"id\":\"2478\"},\"x_scale\":{\"id\":\"2482\"},\"y_range\":{\"id\":\"2480\"},\"y_scale\":{\"id\":\"2484\"}},\"id\":\"2475\",\"subtype\":\"Figure\",\"type\":\"Plot\"},{\"attributes\":{\"source\":{\"id\":\"2816\"}},\"id\":\"2821\",\"type\":\"CDSView\"},{\"attributes\":{},\"id\":\"2549\",\"type\":\"Selection\"},{\"attributes\":{\"data_source\":{\"id\":\"2536\"},\"glyph\":{\"id\":\"2538\"},\"hover_glyph\":null,\"muted_glyph\":null,\"name\":\"_Fit_(S_0-S)_LK Greiz\",\"nonselection_glyph\":{\"id\":\"2539\"},\"selection_glyph\":null,\"view\":{\"id\":\"2541\"}},\"id\":\"2540\",\"type\":\"GlyphRenderer\"},{\"attributes\":{\"source\":{\"id\":\"2536\"}},\"id\":\"2541\",\"type\":\"CDSView\"},{\"attributes\":{\"line_alpha\":0.1,\"line_color\":\"#d95f02\",\"line_dash\":[6],\"line_width\":1.5,\"x\":{\"field\":\"x\"},\"y\":{\"field\":\"y\"}},\"id\":\"2539\",\"type\":\"Line\"},{\"attributes\":{},\"id\":\"2845\",\"type\":\"Selection\"},{\"attributes\":{},\"id\":\"2846\",\"type\":\"UnionRenderers\"},{\"attributes\":{\"axis_label\":\"time\",\"formatter\":{\"id\":\"2518\"},\"major_label_orientation\":0.7853981633974483,\"ticker\":{\"id\":\"2487\"}},\"id\":\"2486\",\"type\":\"DatetimeAxis\"},{\"attributes\":{},\"id\":\"2550\",\"type\":\"UnionRenderers\"},{\"attributes\":{\"label\":{\"value\":\"Fit_C_SK Jena\"},\"renderers\":[{\"id\":\"2820\"}]},\"id\":\"2859\",\"type\":\"LegendItem\"},{\"attributes\":{\"label\":{\"value\":\"Fit_(S_0-S)_LK Greiz\"},\"renderers\":[{\"id\":\"2540\"}]},\"id\":\"2563\",\"type\":\"LegendItem\"},{\"attributes\":{\"data\":{\"x\":{\"__ndarray__\":\"AACA6w8Ed0IAAEBRYgR3QgAAALe0BHdCAADAHAcFd0IAAICCWQV3QgAAQOirBXdCAAAATv4Fd0IAAMCzUAZ3QgAAgBmjBndCAABAf/UGd0IAAADlRwd3QgAAwEqaB3dCAACAsOwHd0IAAEAWPwh3QgAAAHyRCHdCAADA4eMId0IAAIBHNgl3QgAAQK2ICXdCAAAAE9sJd0IAAMB4LQp3QgAAgN5/CndCAABARNIKd0IAAACqJAt3QgAAwA93C3dCAACAdckLd0IAAEDbGwx3QgAAAEFuDHdCAADApsAMd0IAAIAMEw13QgAAQHJlDXdCAAAA2LcNd0IAAMA9Cg53QgAAgKNcDndCAABACa8Od0IAAABvAQ93QgAAwNRTD3dCAACAOqYPd0IAAECg+A93QgAAAAZLEHdCAADAa50Qd0IAAIDR7xB3QgAAQDdCEXdCAAAAnZQRd0IAAMAC5xF3QgAAgGg5EndCAABAzosSd0IAAAA03hJ3QgAAwJkwE3dCAACA/4ITd0IAAEBl1RN3QgAAAMsnFHdCAADAMHoUd0IAAICWzBR3QgAAQPweFXdCAAAAYnEVd0IAAMDHwxV3QgAAgC0WFndCAABAk2gWd0IAAAD5uhZ3QgAAwF4NF3dCAACAxF8Xd0IAAEAqshd3QgAAAJAEGHdCAADA9VYYd0IAAIBbqRh3QgAAQMH7GHdCAAAAJ04Zd0IAAMCMoBl3QgAAgPLyGXdCAABAWEUad0IAAAC+lxp3QgAAwCPqGndCAACAiTwbd0IAAEDvjht3QgAAAFXhG3dCAADAujMcd0IAAIAghhx3QgAAQIbYHHdCAAAA7Codd0IAAMBRfR13QgAAgLfPHXdCAABAHSIed0IAAACDdB53QgAAwOjGHndCAACAThkfd0IAAEC0ax93QgAAABq+H3dCAADAfxAgd0IAAIDlYiB3QgAAQEu1IHdC\",\"dtype\":\"float64\",\"shape\":[90]},\"y\":{\"__ndarray__\":\"AAAAAAAAAAAAAAAAAAAAAAAAAAAAAAAAAAAAAAAAAAAAAAAAAAAAAAAAAAAAAAAAAAAAAAAAAAAAAAAAAAAAAAAAAAAAAAAAAAAAAAAAAAAAAAAAAAAAAAAAAAAAAAAAAAAAAAAAAAAAAAAAAAAAAAAAAAAAAAAAAAAAAAAAAAAAAAAAAAAAAAAAAAAAAAAACNFCA+Yjkgvq9iETGxMEGmF/HiC/+osllwg2Ksx5Li7VQXcxGpMCNIgV0jWyOQg3lkGjN+hO7DeKTw84yD4tOMa4UjgOR3w4i6eTODfqqTgJl8E4FCHbOL+Q9jhr6Qk5Y3sZOZwVKjnl0Ds5KsFOOVz4YjnBing5/MeHOd4QlDlyLaE5wyuvOcYavjmKCs45PQzfOSky8TnhRwI64ZwMOh6jFzpdZiM6JvMvOtFWPTqSn0s6idxaOs4dazqBdHw6bXmHOhxWkTqc2ps63xGnOogHszrzx786\",\"dtype\":\"float32\",\"shape\":[90]}},\"selected\":{\"id\":\"2939\"},\"selection_policy\":{\"id\":\"2940\"}},\"id\":\"2860\",\"type\":\"ColumnDataSource\"},{\"attributes\":{},\"id\":\"2891\",\"type\":\"Selection\"},{\"attributes\":{\"line_alpha\":0.8,\"line_color\":\"#d95f02\",\"line_dash\":[6],\"line_width\":1.5,\"x\":{\"field\":\"x\"},\"y\":{\"field\":\"y\"}},\"id\":\"2862\",\"type\":\"Line\"},{\"attributes\":{},\"id\":\"2579\",\"type\":\"Selection\"},{\"attributes\":{\"line_alpha\":0.8,\"line_color\":\"#7570b3\",\"line_dash\":[6],\"line_width\":1.5,\"x\":{\"field\":\"x\"},\"y\":{\"field\":\"y\"}},\"id\":\"2566\",\"type\":\"Line\"},{\"attributes\":{\"data_source\":{\"id\":\"2860\"},\"glyph\":{\"id\":\"2862\"},\"hover_glyph\":null,\"muted_glyph\":null,\"name\":\"_Fit_C_LK Greiz\",\"nonselection_glyph\":{\"id\":\"2863\"},\"selection_glyph\":null,\"view\":{\"id\":\"2865\"}},\"id\":\"2864\",\"type\":\"GlyphRenderer\"},{\"attributes\":{\"data_source\":{\"id\":\"2564\"},\"glyph\":{\"id\":\"2566\"},\"hover_glyph\":null,\"muted_glyph\":null,\"name\":\"_Fit_(S_0-S)_SK Gera\",\"nonselection_glyph\":{\"id\":\"2567\"},\"selection_glyph\":null,\"view\":{\"id\":\"2569\"}},\"id\":\"2568\",\"type\":\"GlyphRenderer\"},{\"attributes\":{\"source\":{\"id\":\"2860\"}},\"id\":\"2865\",\"type\":\"CDSView\"},{\"attributes\":{\"source\":{\"id\":\"2564\"}},\"id\":\"2569\",\"type\":\"CDSView\"},{\"attributes\":{\"line_alpha\":0.1,\"line_color\":\"#d95f02\",\"line_dash\":[6],\"line_width\":1.5,\"x\":{\"field\":\"x\"},\"y\":{\"field\":\"y\"}},\"id\":\"2863\",\"type\":\"Line\"},{\"attributes\":{\"line_alpha\":0.1,\"line_color\":\"#7570b3\",\"line_dash\":[6],\"line_width\":1.5,\"x\":{\"field\":\"x\"},\"y\":{\"field\":\"y\"}},\"id\":\"2567\",\"type\":\"Line\"},{\"attributes\":{},\"id\":\"2484\",\"type\":\"LinearScale\"},{\"attributes\":{},\"id\":\"2892\",\"type\":\"UnionRenderers\"},{\"attributes\":{},\"id\":\"2580\",\"type\":\"UnionRenderers\"},{\"attributes\":{\"label\":{\"value\":\"Fit_C_LK Greiz\"},\"renderers\":[{\"id\":\"2864\"}]},\"id\":\"2905\",\"type\":\"LegendItem\"},{\"attributes\":{\"data\":{\"x\":{\"__ndarray__\":\"AACA6w8Ed0IAAEBRYgR3QgAAALe0BHdCAADAHAcFd0IAAICCWQV3QgAAQOirBXdCAAAATv4Fd0IAAMCzUAZ3QgAAgBmjBndCAABAf/UGd0IAAADlRwd3QgAAwEqaB3dCAACAsOwHd0IAAEAWPwh3QgAAAHyRCHdCAADA4eMId0IAAIBHNgl3QgAAQK2ICXdCAAAAE9sJd0IAAMB4LQp3QgAAgN5/CndCAABARNIKd0IAAACqJAt3QgAAwA93C3dCAACAdckLd0IAAEDbGwx3QgAAAEFuDHdCAADApsAMd0IAAIAMEw13QgAAQHJlDXdCAAAA2LcNd0IAAMA9Cg53QgAAgKNcDndCAABACa8Od0IAAABvAQ93QgAAwNRTD3dCAACAOqYPd0IAAECg+A93QgAAAAZLEHdCAADAa50Qd0IAAIDR7xB3QgAAQDdCEXdCAAAAnZQRd0IAAMAC5xF3QgAAgGg5EndCAABAzosSd0IAAAA03hJ3QgAAwJkwE3dCAACA/4ITd0IAAEBl1RN3QgAAAMsnFHdCAADAMHoUd0IAAICWzBR3QgAAQPweFXdCAAAAYnEVd0IAAMDHwxV3QgAAgC0WFndCAABAk2gWd0IAAAD5uhZ3QgAAwF4NF3dCAACAxF8Xd0IAAEAqshd3QgAAAJAEGHdCAADA9VYYd0IAAIBbqRh3QgAAQMH7GHdCAAAAJ04Zd0IAAMCMoBl3QgAAgPLyGXdCAABAWEUad0IAAAC+lxp3QgAAwCPqGndCAACAiTwbd0IAAEDvjht3QgAAAFXhG3dCAADAujMcd0IAAIAghhx3QgAAQIbYHHdCAAAA7Codd0IAAMBRfR13QgAAgLfPHXdCAABAHSIed0IAAACDdB53QgAAwOjGHndCAACAThkfd0IAAEC0ax93QgAAABq+H3dCAADAfxAgd0IAAIDlYiB3QgAAQEu1IHdC\",\"dtype\":\"float64\",\"shape\":[90]},\"y\":{\"__ndarray__\":\"AAAAAAAAAAAAAAAAAAAAAAAAAAAAAAAAAAAAAAAAAAAAAAAAAAAAAAAAAAAAAAAAAAAAAAAAAAAAAAAAAAAAAAAAAAAAAAA0AADINQAAAzcAAJ03AIDjNwDgCTgAwCY4AOBKOADgcjgAMI44AKCjOABwujgAENM4AIDtOADYBDkA2BM5ANgjOQDoNDkAKEc5AKBaOQBobzkAyII5AJyOOQA8mzkAtKg5ABS3OQBsxjkAzNY5AEjoOQDw+jkAbAc6AAoSOgBeHToAdCk6AFg2OgAaRDoAxlI6AG5iOgAgczoAeII6APeLOgAYljoA5aA6AGmsOgCxuDoAycU6AL7TOgCe4joAefI6gK8BO4CwCjsASBQ7AIAeO4BiKTsA+jQ7gFFBO4B1TjsAclw7gFRrO4AqezuAAYY7wPaOOwB9mDvAnKI7wF6tO0DMuDtA78Q7gNHRO8B93zvA/u07AGD9O4DWBjwAeQ88\",\"dtype\":\"float32\",\"shape\":[90]}},\"selected\":{\"id\":\"2611\"},\"selection_policy\":{\"id\":\"2612\"}},\"id\":\"2564\",\"type\":\"ColumnDataSource\"},{\"attributes\":{\"label\":{\"value\":\"Fit_(S_0-S)_SK Gera\"},\"renderers\":[{\"id\":\"2568\"}]},\"id\":\"2593\",\"type\":\"LegendItem\"},{\"attributes\":{\"data\":{\"x\":{\"__ndarray__\":\"AACA6w8Ed0IAAEBRYgR3QgAAALe0BHdCAADAHAcFd0IAAICCWQV3QgAAQOirBXdCAAAATv4Fd0IAAMCzUAZ3QgAAgBmjBndCAABAf/UGd0IAAADlRwd3QgAAwEqaB3dCAACAsOwHd0IAAEAWPwh3QgAAAHyRCHdCAADA4eMId0IAAIBHNgl3QgAAQK2ICXdCAAAAE9sJd0IAAMB4LQp3QgAAgN5/CndCAABARNIKd0IAAACqJAt3QgAAwA93C3dCAACAdckLd0IAAEDbGwx3QgAAAEFuDHdCAADApsAMd0IAAIAMEw13QgAAQHJlDXdCAAAA2LcNd0IAAMA9Cg53QgAAgKNcDndCAABACa8Od0IAAABvAQ93QgAAwNRTD3dCAACAOqYPd0IAAECg+A93QgAAAAZLEHdCAADAa50Qd0IAAIDR7xB3QgAAQDdCEXdCAAAAnZQRd0IAAMAC5xF3QgAAgGg5EndCAABAzosSd0IAAAA03hJ3QgAAwJkwE3dCAACA/4ITd0IAAEBl1RN3QgAAAMsnFHdCAADAMHoUd0IAAICWzBR3QgAAQPweFXdCAAAAYnEVd0IAAMDHwxV3QgAAgC0WFndCAABAk2gWd0IAAAD5uhZ3QgAAwF4NF3dCAACAxF8Xd0IAAEAqshd3QgAAAJAEGHdCAADA9VYYd0IAAIBbqRh3QgAAQMH7GHdCAAAAJ04Zd0IAAMCMoBl3QgAAgPLyGXdCAABAWEUad0IAAAC+lxp3QgAAwCPqGndCAACAiTwbd0IAAEDvjht3QgAAAFXhG3dCAADAujMcd0IAAIAghhx3QgAAQIbYHHdCAAAA7Codd0IAAMBRfR13QgAAgLfPHXdCAABAHSIed0IAAACDdB53QgAAwOjGHndCAACAThkfd0IAAEC0ax93QgAAABq+H3dCAADAfxAgd0IAAIDlYiB3QgAAQEu1IHdC\",\"dtype\":\"float64\",\"shape\":[90]},\"y\":{\"__ndarray__\":\"AAAAAAAAAAAAAAAAAAAAAAAAAAAAAAAAAAAAAAAAAAAAAAAAAAAAAAAAAAAAAAAAAAAAAAAAAAAAAAAAAAAAAAAAAAAAAAAAAAAAAAAAAAAAAAAAAAAAAAAAAAAAAAAAAAAAAAAAAAAAAAAAAAAAAAAAAAAAAAAAAAAAAAAAAAAAAAAAAAAAAAAAAAAAAAAAAAAAAAAAAAAAAAAAAAAAAAAAAAAAAAAAAAAAACPdOgOuLIwLVVobE8ld/RkNBxgg6kOGJUqaLipyWicu7CltMRp9+jMYgsk1GKoCN4GXnDdoqeI35HUJOE8sJjioHko4qvpxOICgjTiL+qI486+5OBkv0jgMgOw4MEgEOXE3EzkqJCM5JSY0OX9QRjlutFk5Y2VuOQQ9gjmFBY45E5maOSYFqDkYWLY5UKHFOUjx1TmLWec5wuz5OWffBjpuchE6v7ocOmDEKDoenDU6mE9DOlDtUTq1hGE6\",\"dtype\":\"float32\",\"shape\":[90]}},\"selected\":{\"id\":\"3076\"},\"selection_policy\":{\"id\":\"3077\"}},\"id\":\"2906\",\"type\":\"ColumnDataSource\"},{\"attributes\":{\"data\":{\"x\":{\"__ndarray__\":\"AACA6w8Ed0IAAEBRYgR3QgAAALe0BHdCAADAHAcFd0IAAICCWQV3QgAAQOirBXdCAAAATv4Fd0IAAMCzUAZ3QgAAgBmjBndCAABAf/UGd0IAAADlRwd3QgAAwEqaB3dCAACAsOwHd0IAAEAWPwh3QgAAAHyRCHdCAADA4eMId0IAAIBHNgl3QgAAQK2ICXdCAAAAE9sJd0IAAMB4LQp3QgAAgN5/CndCAABARNIKd0IAAACqJAt3QgAAwA93C3dCAACAdckLd0IAAEDbGwx3QgAAAEFuDHdCAADApsAMd0IAAIAMEw13QgAAQHJlDXdCAAAA2LcNd0IAAMA9Cg53QgAAgKNcDndCAABACa8Od0IAAABvAQ93QgAAwNRTD3dCAACAOqYPd0IAAECg+A93QgAAAAZLEHdCAADAa50Qd0IAAIDR7xB3QgAAQDdCEXdCAAAAnZQRd0IAAMAC5xF3QgAAgGg5EndCAABAzosSd0IAAAA03hJ3QgAAwJkwE3dCAACA/4ITd0IAAEBl1RN3QgAAAMsnFHdCAADAMHoUd0IAAICWzBR3QgAAQPweFXdCAAAAYnEVd0IAAMDHwxV3QgAAgC0WFndCAABAk2gWd0IAAAD5uhZ3QgAAwF4NF3dCAACAxF8Xd0IAAEAqshd3QgAAAJAEGHdCAADA9VYYd0IAAIBbqRh3QgAAQMH7GHdCAAAAJ04Zd0IAAMCMoBl3QgAAgPLyGXdCAABAWEUad0IAAAC+lxp3QgAAwCPqGndCAACAiTwbd0IAAEDvjht3QgAAAFXhG3dCAADAujMcd0IAAIAghhx3QgAAQIbYHHdCAAAA7Codd0IAAMBRfR13QgAAgLfPHXdCAABAHSIed0IAAACDdB53QgAAwOjGHndCAACAThkfd0IAAEC0ax93QgAAABq+H3dCAADAfxAgd0IAAIDlYiB3QgAAQEu1IHdC\",\"dtype\":\"float64\",\"shape\":[90]},\"y\":{\"__ndarray__\":\"AAAAAAAAAAAAAAAAAAAAAAAAAAAAAAAAAAAAAAAAAAAj3ToDh7yMC8P5GxPNYf4ZDaMYILTNhiV6TS8qNAYoLlAdbjEsfvsz41DKNTEwAzc2OJ03BpLjN/cCCjjZ1iY4Fu5KOADzcjjWMY44xqGjOGxuujiIBtM4EnLtOCTPBDnSzBM5TMgjOTTZNDmFEkc5doVaOZtFbznvtII5nYWOOdIhmzkcl6g54vO2OZdHxjnAotY58BboOeq2+jlGSwc6jOUROpk1HTp5Ryk6xyc2OgvdQzrYJ1I6ACRgOs72bTp5j306yYKHOpG6kDpjZJo6BqakOlWfrzrVXLs6puHHOhc11TrFZeM6y4TyOhpRATuT5gk70goTO7bGHDvOIyc7GywyOw/qPTugaEo7ZLNXO43WZTvx3nQ7/WyCO+Hqijt48JM7eYWdO+qxpzsefrI7xfK9O9sYyjup+dY7zZ7kOyQS8zvlLgE8\",\"dtype\":\"float32\",\"shape\":[90]}},\"selected\":{\"id\":\"2719\"},\"selection_policy\":{\"id\":\"2720\"}},\"id\":\"2660\",\"type\":\"ColumnDataSource\"},{\"attributes\":{},\"id\":\"2611\",\"type\":\"Selection\"},{\"attributes\":{},\"id\":\"2939\",\"type\":\"Selection\"},{\"attributes\":{\"line_alpha\":0.8,\"line_color\":\"#1b9e77\",\"line_dash\":[6],\"line_width\":1.5,\"x\":{\"field\":\"x\"},\"y\":{\"field\":\"y\"}},\"id\":\"2596\",\"type\":\"Line\"},{\"attributes\":{\"line_alpha\":0.8,\"line_color\":\"#7570b3\",\"line_dash\":[6],\"line_width\":1.5,\"x\":{\"field\":\"x\"},\"y\":{\"field\":\"y\"}},\"id\":\"2908\",\"type\":\"Line\"},{\"attributes\":{\"data_source\":{\"id\":\"2594\"},\"glyph\":{\"id\":\"2596\"},\"hover_glyph\":null,\"muted_glyph\":null,\"name\":\"_Fit_I_SK Jena\",\"nonselection_glyph\":{\"id\":\"2597\"},\"selection_glyph\":null,\"view\":{\"id\":\"2599\"}},\"id\":\"2598\",\"type\":\"GlyphRenderer\"},{\"attributes\":{\"data_source\":{\"id\":\"2906\"},\"glyph\":{\"id\":\"2908\"},\"hover_glyph\":null,\"muted_glyph\":null,\"name\":\"_Fit_C_SK Gera\",\"nonselection_glyph\":{\"id\":\"2909\"},\"selection_glyph\":null,\"view\":{\"id\":\"2911\"}},\"id\":\"2910\",\"type\":\"GlyphRenderer\"},{\"attributes\":{\"source\":{\"id\":\"2594\"}},\"id\":\"2599\",\"type\":\"CDSView\"},{\"attributes\":{\"source\":{\"id\":\"2906\"}},\"id\":\"2911\",\"type\":\"CDSView\"},{\"attributes\":{\"line_alpha\":0.1,\"line_color\":\"#1b9e77\",\"line_dash\":[6],\"line_width\":1.5,\"x\":{\"field\":\"x\"},\"y\":{\"field\":\"y\"}},\"id\":\"2597\",\"type\":\"Line\"},{\"attributes\":{\"line_alpha\":0.1,\"line_color\":\"#7570b3\",\"line_dash\":[6],\"line_width\":1.5,\"x\":{\"field\":\"x\"},\"y\":{\"field\":\"y\"}},\"id\":\"2909\",\"type\":\"Line\"},{\"attributes\":{},\"id\":\"2612\",\"type\":\"UnionRenderers\"},{\"attributes\":{},\"id\":\"2940\",\"type\":\"UnionRenderers\"},{\"attributes\":{\"label\":{\"value\":\"Fit_I_SK Jena\"},\"renderers\":[{\"id\":\"2598\"}]},\"id\":\"2625\",\"type\":\"LegendItem\"},{\"attributes\":{\"label\":{\"value\":\"Fit_C_SK Gera\"},\"renderers\":[{\"id\":\"2910\"}]},\"id\":\"2953\",\"type\":\"LegendItem\"},{\"attributes\":{\"data\":{\"x\":{\"__ndarray__\":\"AACA6w8Ed0IAAEBRYgR3QgAAALe0BHdCAADAHAcFd0IAAICCWQV3QgAAQOirBXdCAAAATv4Fd0IAAMCzUAZ3QgAAgBmjBndCAABAf/UGd0IAAADlRwd3QgAAwEqaB3dCAACAsOwHd0IAAEAWPwh3QgAAAHyRCHdCAADA4eMId0IAAIBHNgl3QgAAQK2ICXdCAAAAE9sJd0IAAMB4LQp3QgAAgN5/CndCAABARNIKd0IAAACqJAt3QgAAwA93C3dCAACAdckLd0IAAEDbGwx3QgAAAEFuDHdCAADApsAMd0IAAIAMEw13QgAAQHJlDXdCAAAA2LcNd0IAAMA9Cg53QgAAgKNcDndCAABACa8Od0IAAABvAQ93QgAAwNRTD3dCAACAOqYPd0IAAECg+A93QgAAAAZLEHdCAADAa50Qd0IAAIDR7xB3QgAAQDdCEXdCAAAAnZQRd0IAAMAC5xF3QgAAgGg5EndCAABAzosSd0IAAAA03hJ3QgAAwJkwE3dCAACA/4ITd0IAAEBl1RN3QgAAAMsnFHdCAADAMHoUd0IAAICWzBR3QgAAQPweFXdCAAAAYnEVd0IAAMDHwxV3QgAAgC0WFndCAABAk2gWd0IAAAD5uhZ3QgAAwF4NF3dCAACAxF8Xd0IAAEAqshd3QgAAAJAEGHdCAADA9VYYd0IAAIBbqRh3QgAAQMH7GHdCAAAAJ04Zd0IAAMCMoBl3QgAAgPLyGXdCAABAWEUad0IAAAC+lxp3QgAAwCPqGndCAACAiTwbd0IAAEDvjht3QgAAAFXhG3dCAADAujMcd0IAAIAghhx3QgAAQIbYHHdCAAAA7Codd0IAAMBRfR13QgAAgLfPHXdCAABAHSIed0IAAACDdB53QgAAwOjGHndCAACAThkfd0IAAEC0ax93QgAAABq+H3dCAADAfxAgd0IAAIDlYiB3QgAAQEu1IHdC\",\"dtype\":\"float64\",\"shape\":[90]},\"y\":{\"__ndarray__\":\"AAAAAAjRQgPcuZILIZ0iE6eaBBoKIh8gZYqMJWjDNirXLC8ulT94MRkZAzQg7dI1fsUINyHpozdrQe03neIPOJPwLTgHkVM48Ul9OA8/lDiPmKo4m13COK0B3DgPjfc4G3YKOR0XGjm5wCo5kIs8OXCLTzlI0mM5gnR5OQJFiDlolpQ5BLyhOe3Drzkxvb455LfOOUPF3zmg9/E5QLECOlYNDTojGxg6buYjOtJ7MDpr6D06DDNMOpAZWzoYrmk6gxd4OgsthDo7R406cOOWOov2oDrsp6s6zxi3OjxWwzpwY9A6FkjeOlwT7Toj1/w6ENIGOw7FDzvoTBk73XIjO+BALjthwTk7Qv9FO/UFUzuM4WA7v55vO+1KfzsN+oc7ctSQO1k8mjvDOaQ7CNWuO+EWujtZCMY7yrLSO+of4Du8We47hWr9O2uuBjy6HQ88sAgYPOR0ITzvZys8eOc1PCT5QDyJokw8\",\"dtype\":\"float32\",\"shape\":[90]}},\"selected\":{\"id\":\"2681\"},\"selection_policy\":{\"id\":\"2682\"}},\"id\":\"2626\",\"type\":\"ColumnDataSource\"},{\"attributes\":{},\"id\":\"2482\",\"type\":\"LinearScale\"},{\"attributes\":{},\"id\":\"3076\",\"type\":\"Selection\"},{\"attributes\":{\"data_source\":{\"id\":\"2816\"},\"glyph\":{\"id\":\"2818\"},\"hover_glyph\":null,\"muted_glyph\":null,\"name\":\"_Fit_C_SK Jena\",\"nonselection_glyph\":{\"id\":\"2819\"},\"selection_glyph\":null,\"view\":{\"id\":\"2821\"}},\"id\":\"2820\",\"type\":\"GlyphRenderer\"},{\"attributes\":{},\"id\":\"3077\",\"type\":\"UnionRenderers\"},{\"attributes\":{},\"id\":\"2491\",\"type\":\"BasicTicker\"},{\"attributes\":{},\"id\":\"2645\",\"type\":\"Selection\"},{\"attributes\":{\"line_alpha\":0.8,\"line_color\":\"#d95f02\",\"line_dash\":[6],\"line_width\":1.5,\"x\":{\"field\":\"x\"},\"y\":{\"field\":\"y\"}},\"id\":\"2628\",\"type\":\"Line\"},{\"attributes\":{\"axis\":{\"id\":\"2486\"},\"ticker\":null},\"id\":\"2489\",\"type\":\"Grid\"},{\"attributes\":{\"data_source\":{\"id\":\"2626\"},\"glyph\":{\"id\":\"2628\"},\"hover_glyph\":null,\"muted_glyph\":null,\"name\":\"_Fit_I_LK Greiz\",\"nonselection_glyph\":{\"id\":\"2629\"},\"selection_glyph\":null,\"view\":{\"id\":\"2631\"}},\"id\":\"2630\",\"type\":\"GlyphRenderer\"},{\"attributes\":{\"axis_label\":\"occupancy\",\"formatter\":{\"id\":\"2516\"},\"ticker\":{\"id\":\"2491\"}},\"id\":\"2490\",\"type\":\"LinearAxis\"},{\"attributes\":{\"source\":{\"id\":\"2626\"}},\"id\":\"2631\",\"type\":\"CDSView\"},{\"attributes\":{\"num_minor_ticks\":5,\"tickers\":[{\"id\":\"2522\"},{\"id\":\"2523\"},{\"id\":\"2524\"},{\"id\":\"2525\"},{\"id\":\"2526\"},{\"id\":\"2527\"},{\"id\":\"2528\"},{\"id\":\"2529\"},{\"id\":\"2530\"},{\"id\":\"2531\"},{\"id\":\"2532\"},{\"id\":\"2533\"}]},\"id\":\"2487\",\"type\":\"DatetimeTicker\"},{\"attributes\":{},\"id\":\"2478\",\"type\":\"DataRange1d\"},{\"attributes\":{\"line_alpha\":0.1,\"line_color\":\"#d95f02\",\"line_dash\":[6],\"line_width\":1.5,\"x\":{\"field\":\"x\"},\"y\":{\"field\":\"y\"}},\"id\":\"2629\",\"type\":\"Line\"},{\"attributes\":{},\"id\":\"2480\",\"type\":\"DataRange1d\"},{\"attributes\":{},\"id\":\"2646\",\"type\":\"UnionRenderers\"},{\"attributes\":{\"label\":{\"value\":\"Fit_I_LK Greiz\"},\"renderers\":[{\"id\":\"2630\"}]},\"id\":\"2659\",\"type\":\"LegendItem\"},{\"attributes\":{\"text\":\"Thuringia\"},\"id\":\"2476\",\"type\":\"Title\"},{\"attributes\":{\"data\":{\"x\":{\"__ndarray__\":\"AACA6w8Ed0IAAEBRYgR3QgAAALe0BHdCAADAHAcFd0IAAICCWQV3QgAAQOirBXdCAAAATv4Fd0IAAMCzUAZ3QgAAgBmjBndCAABAf/UGd0IAAADlRwd3QgAAwEqaB3dCAACAsOwHd0IAAEAWPwh3QgAAAHyRCHdCAADA4eMId0IAAIBHNgl3QgAAQK2ICXdCAAAAE9sJd0IAAMB4LQp3QgAAgN5/CndCAABARNIKd0IAAACqJAt3QgAAwA93C3dCAACAdckLd0IAAEDbGwx3QgAAAEFuDHdCAADApsAMd0IAAIAMEw13QgAAQHJlDXdCAAAA2LcNd0IAAMA9Cg53QgAAgKNcDndCAABACa8Od0IAAABvAQ93QgAAwNRTD3dCAACAOqYPd0IAAECg+A93QgAAAAZLEHdCAADAa50Qd0IAAIDR7xB3QgAAQDdCEXdCAAAAnZQRd0IAAMAC5xF3QgAAgGg5EndCAABAzosSd0IAAAA03hJ3QgAAwJkwE3dCAACA/4ITd0IAAEBl1RN3QgAAAMsnFHdCAADAMHoUd0IAAICWzBR3QgAAQPweFXdCAAAAYnEVd0IAAMDHwxV3QgAAgC0WFndCAABAk2gWd0IAAAD5uhZ3QgAAwF4NF3dCAACAxF8Xd0IAAEAqshd3QgAAAJAEGHdCAADA9VYYd0IAAIBbqRh3QgAAQMH7GHdCAAAAJ04Zd0IAAMCMoBl3QgAAgPLyGXdCAABAWEUad0IAAAC+lxp3QgAAwCPqGndCAACAiTwbd0IAAEDvjht3QgAAAFXhG3dCAADAujMcd0IAAIAghhx3QgAAQIbYHHdCAAAA7Codd0IAAMBRfR13QgAAgLfPHXdCAABAHSIed0IAAACDdB53QgAAwOjGHndCAACAThkfd0IAAEC0ax93QgAAABq+H3dCAADAfxAgd0IAAIDlYiB3QgAAQEu1IHdC\",\"dtype\":\"float64\",\"shape\":[90]},\"y\":{\"__ndarray__\":\"AAAAAAAAAAAAAAAAAAAAAAAAAAAAAAAAAAAAAAAAAAAAAAAAAAAAAAAAAAAAACA0AADwNQCAGzcAALo3AKAGOABAIzgAYEU4ACBwOADAjzgAQKg4AKDBOACg3DgAwPk4AIAMOQAoHTkA6C45ANBBOQAIVjkAoGs5AFSBOQCgjTkAvJo5ALyoOQCstzkAoMc5AKTYOQDM6jkALP45AG4JOgB2FDoAPCA6AMwsOgA0OjoAgkg6AMRXOgAKaDoAaHk6APeFOgDYjzoAYZo6AJ6lOgCasToAYr46AAPMOgCL2joACeo6AI36OoATBjsAdQ87gHQZO4AbJDsAdS87gIw7O4BtSDuAJFY7AL9kO4BLdDsAbII7QDqLO8CYlDtAkJ47wCmpO8ButDuAacA7QCTNOwCq2jtABuk7AEX4O2A5BDwgzgw8gOcVPGCMHzzgwyk8gJU0PKAIQDwgJUw8wPJYPIB5ZjxgwXQ8\",\"dtype\":\"float32\",\"shape\":[90]}},\"selected\":{\"id\":\"2549\"},\"selection_policy\":{\"id\":\"2550\"}},\"id\":\"2509\",\"type\":\"ColumnDataSource\"},{\"attributes\":{\"axis\":{\"id\":\"2490\"},\"dimension\":1,\"ticker\":null},\"id\":\"2493\",\"type\":\"Grid\"},{\"attributes\":{},\"id\":\"2681\",\"type\":\"Selection\"},{\"attributes\":{\"data_source\":{\"id\":\"2660\"},\"glyph\":{\"id\":\"2662\"},\"hover_glyph\":null,\"muted_glyph\":null,\"name\":\"_Fit_I_SK Gera\",\"nonselection_glyph\":{\"id\":\"2663\"},\"selection_glyph\":null,\"view\":{\"id\":\"2665\"}},\"id\":\"2664\",\"type\":\"GlyphRenderer\"},{\"attributes\":{\"label\":{\"value\":\"Fit_(S_0-S)_SK Jena\"},\"renderers\":[{\"id\":\"2513\"}]},\"id\":\"2535\",\"type\":\"LegendItem\"},{\"attributes\":{\"line_alpha\":0.1,\"line_color\":\"#7570b3\",\"line_dash\":[6],\"line_width\":1.5,\"x\":{\"field\":\"x\"},\"y\":{\"field\":\"y\"}},\"id\":\"2663\",\"type\":\"Line\"},{\"attributes\":{\"data\":{\"x\":{\"__ndarray__\":\"AACA6w8Ed0IAAEBRYgR3QgAAALe0BHdCAADAHAcFd0IAAICCWQV3QgAAQOirBXdCAAAATv4Fd0IAAMCzUAZ3QgAAgBmjBndCAABAf/UGd0IAAADlRwd3QgAAwEqaB3dCAACAsOwHd0IAAEAWPwh3QgAAAHyRCHdCAADA4eMId0IAAIBHNgl3QgAAQK2ICXdCAAAAE9sJd0IAAMB4LQp3QgAAgN5/CndCAABARNIKd0IAAACqJAt3QgAAwA93C3dCAACAdckLd0IAAEDbGwx3QgAAAEFuDHdCAADApsAMd0IAAIAMEw13QgAAQHJlDXdCAAAA2LcNd0IAAMA9Cg53QgAAgKNcDndCAABACa8Od0IAAABvAQ93QgAAwNRTD3dCAACAOqYPd0IAAECg+A93QgAAAAZLEHdCAADAa50Qd0IAAIDR7xB3QgAAQDdCEXdCAAAAnZQRd0IAAMAC5xF3QgAAgGg5EndCAABAzosSd0IAAAA03hJ3QgAAwJkwE3dCAACA/4ITd0IAAEBl1RN3QgAAAMsnFHdCAADAMHoUd0IAAICWzBR3QgAAQPweFXdCAAAAYnEVd0IAAMDHwxV3QgAAgC0WFndCAABAk2gWd0IAAAD5uhZ3QgAAwF4NF3dCAACAxF8Xd0IAAEAqshd3QgAAAJAEGHdCAADA9VYYd0IAAIBbqRh3QgAAQMH7GHdCAAAAJ04Zd0IAAMCMoBl3QgAAgPLyGXdCAABAWEUad0IAAAC+lxp3QgAAwCPqGndCAACAiTwbd0IAAEDvjht3QgAAAFXhG3dCAADAujMcd0IAAIAghhx3QgAAQIbYHHdCAAAA7Codd0IAAMBRfR13QgAAgLfPHXdCAABAHSIed0IAAACDdB53QgAAwOjGHndCAACAThkfd0IAAEC0ax93QgAAABq+H3dCAADAfxAgd0IAAIDlYiB3QgAAQEu1IHdC\",\"dtype\":\"float64\",\"shape\":[90]},\"y\":{\"__ndarray__\":\"AAAAAAAAAAAhHF0DY4emC5ePOBNAgBYaO5w0IDWCnyUObk8qTtFGLmfgjDGqyhQ01WTvNRQ7GzdkCLo3aaMGOPpNIzhaakU41x5wOKe8jzgcQag4zZ7BOB6Z3DgZs/k4FnsMORImHTkT4y45Y8xBOfn9VTlMjms520iBObWPjTk9qZo5PqSoORWQtznHfMc5ZXvYOTCe6jm4+P055k8JOslUFDrNFiA6hKIsOlEFOjp4TUg64YlXOkfCZzqhq3g69JuEOqLJjDrVA5Y6fligOr9Aqzrzr7Y6xtLCOvHOzzpDs906aoPsOg5I/Do/iQY7eXsPOzUEGTtoLCM7i/0tOyCCOTtxxUU7WdNSOy+4YDv1gG87WDt/O+P6hzu535A7IFSaO2lgpDtJDa8722O6O5dtxjtlNNM7gcLgO5Ei7zuVX/47dEIHPBzPDzzA2xg8gG4iPJaNLDxWPzc8JIpCPGd0TjyDBFs8\",\"dtype\":\"float32\",\"shape\":[90]}},\"selected\":{\"id\":\"2645\"},\"selection_policy\":{\"id\":\"2646\"}},\"id\":\"2594\",\"type\":\"ColumnDataSource\"},{\"attributes\":{},\"id\":\"2494\",\"type\":\"PanTool\"},{\"attributes\":{\"source\":{\"id\":\"2660\"}},\"id\":\"2665\",\"type\":\"CDSView\"},{\"attributes\":{},\"id\":\"2495\",\"type\":\"WheelZoomTool\"},{\"attributes\":{},\"id\":\"2682\",\"type\":\"UnionRenderers\"},{\"attributes\":{\"data\":{\"x\":{\"__ndarray__\":\"AACA6w8Ed0IAAEBRYgR3QgAAALe0BHdCAADAHAcFd0IAAICCWQV3QgAAQOirBXdCAAAATv4Fd0IAAMCzUAZ3QgAAgBmjBndCAABAf/UGd0IAAADlRwd3QgAAwEqaB3dCAACAsOwHd0IAAEAWPwh3QgAAAHyRCHdCAADA4eMId0IAAIBHNgl3QgAAQK2ICXdCAAAAE9sJd0IAAMB4LQp3QgAAgN5/CndCAABARNIKd0IAAACqJAt3QgAAwA93C3dCAACAdckLd0IAAEDbGwx3QgAAAEFuDHdCAADApsAMd0IAAIAMEw13QgAAQHJlDXdCAAAA2LcNd0IAAMA9Cg53QgAAgKNcDndCAABACa8Od0IAAABvAQ93QgAAwNRTD3dCAACAOqYPd0IAAECg+A93QgAAAAZLEHdCAADAa50Qd0IAAIDR7xB3QgAAQDdCEXdCAAAAnZQRd0IAAMAC5xF3QgAAgGg5EndCAABAzosSd0IAAAA03hJ3QgAAwJkwE3dCAACA/4ITd0IAAEBl1RN3QgAAAMsnFHdCAADAMHoUd0IAAICWzBR3QgAAQPweFXdCAAAAYnEVd0IAAMDHwxV3QgAAgC0WFndCAABAk2gWd0IAAAD5uhZ3QgAAwF4NF3dCAACAxF8Xd0IAAEAqshd3QgAAAJAEGHdCAADA9VYYd0IAAIBbqRh3QgAAQMH7GHdCAAAAJ04Zd0IAAMCMoBl3QgAAgPLyGXdCAABAWEUad0IAAAC+lxp3QgAAwCPqGndCAACAiTwbd0IAAEDvjht3QgAAAFXhG3dCAADAujMcd0IAAIAghhx3QgAAQIbYHHdCAAAA7Codd0IAAMBRfR13QgAAgLfPHXdCAABAHSIed0IAAACDdB53QgAAwOjGHndCAACAThkfd0IAAEC0ax93QgAAABq+H3dCAADAfxAgd0IAAIDlYiB3QgAAQEu1IHdC\",\"dtype\":\"float64\",\"shape\":[90]},\"y\":{\"__ndarray__\":\"AAAAAAAAAAAAAAAAAAAAAAAAAAAqlMIBMMOeCMG0vg5r3CgUGSPdGHYB2Bzi+yAgU8nBIkG/1STpQYYml6/0J6fBOylv8X4quc2aK22RqCzwyKQtnsWQLlvoZC/uGiMwnOfRMKSNdDG6YAEyXqJ5MqKy3DKS6zMzukeIM26EwTNTDgI0+icnNA5sTzRRlno0tVeUNBPzrDRSOcc0gkbjNOybADWrlhA1/qQhNZrZMzVLSEc1FQZcNWcpcjUe5YQ1FoGRNT/2njUiU601P6e8NRwDzTVYeN41uxnxNaR9AjYqGQ02zWoYNql+JDakYTE2eiE/Ns3MTTYyc102PiVuNpj0fzYEeok2xpuTNjJqnjaW8Kk29zq2NhlWwzaOT9E2wDXgNvwX8DZAgwA3Q4kJNysnEzemZh03+FEoN/3zMzc1WEA3yYpNN5SYWzcpj2o33Hx6N2W4hTdvvY4371WYN7SKojcBZa03\",\"dtype\":\"float32\",\"shape\":[90]}},\"selected\":{\"id\":\"2759\"},\"selection_policy\":{\"id\":\"2760\"}},\"id\":\"2696\",\"type\":\"ColumnDataSource\"},{\"attributes\":{\"label\":{\"value\":\"Fit_I_SK Gera\"},\"renderers\":[{\"id\":\"2664\"}]},\"id\":\"2695\",\"type\":\"LegendItem\"},{\"attributes\":{\"overlay\":{\"id\":\"2501\"}},\"id\":\"2496\",\"type\":\"BoxZoomTool\"},{\"attributes\":{},\"id\":\"2497\",\"type\":\"ResetTool\"},{\"attributes\":{\"line_alpha\":0.8,\"line_color\":\"#1b9e77\",\"line_dash\":[6],\"line_width\":1.5,\"x\":{\"field\":\"x\"},\"y\":{\"field\":\"y\"}},\"id\":\"2818\",\"type\":\"Line\"},{\"attributes\":{\"data\":{\"x\":{\"__ndarray__\":\"AACA6w8Ed0IAAEBRYgR3QgAAALe0BHdCAADAHAcFd0IAAICCWQV3QgAAQOirBXdCAAAATv4Fd0IAAMCzUAZ3QgAAgBmjBndCAABAf/UGd0IAAADlRwd3QgAAwEqaB3dCAACAsOwHd0IAAEAWPwh3QgAAAHyRCHdCAADA4eMId0IAAIBHNgl3QgAAQK2ICXdCAAAAE9sJd0IAAMB4LQp3QgAAgN5/CndCAABARNIKd0IAAACqJAt3QgAAwA93C3dCAACAdckLd0IAAEDbGwx3QgAAAEFuDHdCAADApsAMd0IAAIAMEw13QgAAQHJlDXdCAAAA2LcNd0IAAMA9Cg53QgAAgKNcDndCAABACa8Od0IAAABvAQ93QgAAwNRTD3dCAACAOqYPd0IAAECg+A93QgAAAAZLEHdCAADAa50Qd0IAAIDR7xB3QgAAQDdCEXdCAAAAnZQRd0IAAMAC5xF3QgAAgGg5EndCAABAzosSd0IAAAA03hJ3QgAAwJkwE3dCAACA/4ITd0IAAEBl1RN3QgAAAMsnFHdCAADAMHoUd0IAAICWzBR3QgAAQPweFXdCAAAAYnEVd0IAAMDHwxV3QgAAgC0WFndCAABAk2gWd0IAAAD5uhZ3QgAAwF4NF3dCAACAxF8Xd0IAAEAqshd3QgAAAJAEGHdCAADA9VYYd0IAAIBbqRh3QgAAQMH7GHdCAAAAJ04Zd0IAAMCMoBl3QgAAgPLyGXdCAABAWEUad0IAAAC+lxp3QgAAwCPqGndCAACAiTwbd0IAAEDvjht3QgAAAFXhG3dCAADAujMcd0IAAIAghhx3QgAAQIbYHHdCAAAA7Codd0IAAMBRfR13QgAAgLfPHXdCAABAHSIed0IAAACDdB53QgAAwOjGHndCAACAThkfd0IAAEC0ax93QgAAABq+H3dCAADAfxAgd0IAAIDlYiB3QgAAQEu1IHdC\",\"dtype\":\"float64\",\"shape\":[90]},\"y\":{\"__ndarray__\":\"AAAAAAAAAAAAAAAAAAAAAAAAAAAAAAAAAAAAAAAAAAAAAAAAAAAAAAAAAAAAAAAAAAAAAAAAAAAAAAAAAAAAAAAAAAAAAAAAAAAAAAAAAAAAAAAAAAAAAAAAAAAAAAAAAAAAAAAAAAAAAAAAAAAAAAAAAAAAAAAAAAAAAAAAAAAAAAAAAAAAAAAAAAAAAAAAAAAAACEcXQMr3aUL79I3E27mFRqd4zMgK9+eJQaaTioWBkYuZlCMMZMyFDQgcO41aZwaNzxKuTfJGQY4DqciOJCgRDhmKW84vCmPOCOVpzjt2MA4vbfbOC+0+Djm6ws5ZIYcOVMyLjktCkE5GipVObaoajkwzYA5DAuNOVgbmjmsDKg5Re62ORHQxjkMw9c5b9npObkm/TnX3wg6MN0TOiqXHzpNGiw69XM5OlqyRzqh5FY66hpnOl5meDqhbIU6g0OPOivCmTqY86Q6e+OwOkKevTohMcs6\",\"dtype\":\"float32\",\"shape\":[90]}},\"selected\":{\"id\":\"2891\"},\"selection_policy\":{\"id\":\"2892\"}},\"id\":\"2816\",\"type\":\"ColumnDataSource\"},{\"attributes\":{},\"id\":\"2498\",\"type\":\"SaveTool\"},{\"attributes\":{\"overlay\":{\"id\":\"2500\"}},\"id\":\"2499\",\"type\":\"BoxSelectTool\"},{\"attributes\":{\"line_alpha\":0.1,\"line_color\":\"#1b9e77\",\"line_dash\":[6],\"line_width\":1.5,\"x\":{\"field\":\"x\"},\"y\":{\"field\":\"y\"}},\"id\":\"2819\",\"type\":\"Line\"},{\"attributes\":{},\"id\":\"2719\",\"type\":\"Selection\"},{\"attributes\":{\"line_alpha\":0.8,\"line_color\":\"#1b9e77\",\"line_dash\":[6],\"line_width\":1.5,\"x\":{\"field\":\"x\"},\"y\":{\"field\":\"y\"}},\"id\":\"2698\",\"type\":\"Line\"},{\"attributes\":{\"bottom_units\":\"screen\",\"fill_alpha\":0.5,\"fill_color\":\"lightgrey\",\"left_units\":\"screen\",\"level\":\"overlay\",\"line_alpha\":1.0,\"line_color\":\"black\",\"line_dash\":[4,4],\"line_width\":2,\"render_mode\":\"css\",\"right_units\":\"screen\",\"top_units\":\"screen\"},\"id\":\"2501\",\"type\":\"BoxAnnotation\"},{\"attributes\":{\"bottom_units\":\"screen\",\"fill_alpha\":0.5,\"fill_color\":\"lightgrey\",\"left_units\":\"screen\",\"level\":\"overlay\",\"line_alpha\":1.0,\"line_color\":\"black\",\"line_dash\":[4,4],\"line_width\":2,\"render_mode\":\"css\",\"right_units\":\"screen\",\"top_units\":\"screen\"},\"id\":\"2500\",\"type\":\"BoxAnnotation\"},{\"attributes\":{\"data_source\":{\"id\":\"2696\"},\"glyph\":{\"id\":\"2698\"},\"hover_glyph\":null,\"muted_glyph\":null,\"name\":\"_Fit_D_SK Jena\",\"nonselection_glyph\":{\"id\":\"2699\"},\"selection_glyph\":null,\"view\":{\"id\":\"2701\"}},\"id\":\"2700\",\"type\":\"GlyphRenderer\"},{\"attributes\":{\"source\":{\"id\":\"2696\"}},\"id\":\"2701\",\"type\":\"CDSView\"},{\"attributes\":{\"active_drag\":\"auto\",\"active_inspect\":\"auto\",\"active_multi\":null,\"active_scroll\":\"auto\",\"active_tap\":\"auto\",\"tools\":[{\"id\":\"2494\"},{\"id\":\"2495\"},{\"id\":\"2496\"},{\"id\":\"2497\"},{\"id\":\"2498\"},{\"id\":\"2499\"}]},\"id\":\"2502\",\"type\":\"Toolbar\"},{\"attributes\":{\"line_alpha\":0.8,\"line_color\":\"#7570b3\",\"line_dash\":[6],\"line_width\":1.5,\"x\":{\"field\":\"x\"},\"y\":{\"field\":\"y\"}},\"id\":\"2662\",\"type\":\"Line\"},{\"attributes\":{\"line_alpha\":0.1,\"line_color\":\"#1b9e77\",\"line_dash\":[6],\"line_width\":1.5,\"x\":{\"field\":\"x\"},\"y\":{\"field\":\"y\"}},\"id\":\"2699\",\"type\":\"Line\"},{\"attributes\":{},\"id\":\"2516\",\"type\":\"BasicTickFormatter\"},{\"attributes\":{},\"id\":\"2720\",\"type\":\"UnionRenderers\"},{\"attributes\":{\"line_alpha\":0.8,\"line_color\":\"#1b9e77\",\"line_dash\":[6],\"line_width\":1.5,\"x\":{\"field\":\"x\"},\"y\":{\"field\":\"y\"}},\"id\":\"2511\",\"type\":\"Line\"},{\"attributes\":{\"label\":{\"value\":\"Fit_D_SK Jena\"},\"renderers\":[{\"id\":\"2700\"}]},\"id\":\"2733\",\"type\":\"LegendItem\"},{\"attributes\":{\"data_source\":{\"id\":\"2509\"},\"glyph\":{\"id\":\"2511\"},\"hover_glyph\":null,\"muted_glyph\":null,\"name\":\"_Fit_(S_0-S)_SK Jena\",\"nonselection_glyph\":{\"id\":\"2512\"},\"selection_glyph\":null,\"view\":{\"id\":\"2514\"}},\"id\":\"2513\",\"type\":\"GlyphRenderer\"},{\"attributes\":{\"source\":{\"id\":\"2509\"}},\"id\":\"2514\",\"type\":\"CDSView\"},{\"attributes\":{\"data\":{\"x\":{\"__ndarray__\":\"AACA6w8Ed0IAAEBRYgR3QgAAALe0BHdCAADAHAcFd0IAAICCWQV3QgAAQOirBXdCAAAATv4Fd0IAAMCzUAZ3QgAAgBmjBndCAABAf/UGd0IAAADlRwd3QgAAwEqaB3dCAACAsOwHd0IAAEAWPwh3QgAAAHyRCHdCAADA4eMId0IAAIBHNgl3QgAAQK2ICXdCAAAAE9sJd0IAAMB4LQp3QgAAgN5/CndCAABARNIKd0IAAACqJAt3QgAAwA93C3dCAACAdckLd0IAAEDbGwx3QgAAAEFuDHdCAADApsAMd0IAAIAMEw13QgAAQHJlDXdCAAAA2LcNd0IAAMA9Cg53QgAAgKNcDndCAABACa8Od0IAAABvAQ93QgAAwNRTD3dCAACAOqYPd0IAAECg+A93QgAAAAZLEHdCAADAa50Qd0IAAIDR7xB3QgAAQDdCEXdCAAAAnZQRd0IAAMAC5xF3QgAAgGg5EndCAABAzosSd0IAAAA03hJ3QgAAwJkwE3dCAACA/4ITd0IAAEBl1RN3QgAAAMsnFHdCAADAMHoUd0IAAICWzBR3QgAAQPweFXdCAAAAYnEVd0IAAMDHwxV3QgAAgC0WFndCAABAk2gWd0IAAAD5uhZ3QgAAwF4NF3dCAACAxF8Xd0IAAEAqshd3QgAAAJAEGHdCAADA9VYYd0IAAIBbqRh3QgAAQMH7GHdCAAAAJ04Zd0IAAMCMoBl3QgAAgPLyGXdCAABAWEUad0IAAAC+lxp3QgAAwCPqGndCAACAiTwbd0IAAEDvjht3QgAAAFXhG3dCAADAujMcd0IAAIAghhx3QgAAQIbYHHdCAAAA7Codd0IAAMBRfR13QgAAgLfPHXdCAABAHSIed0IAAACDdB53QgAAwOjGHndCAACAThkfd0IAAEC0ax93QgAAABq+H3dCAADAfxAgd0IAAIDlYiB3QgAAQEu1IHdC\",\"dtype\":\"float64\",\"shape\":[90]},\"y\":{\"__ndarray__\":\"AAAAAAAAAAAAAAAAAAAAAL1wqwEX4osIOAeoDubHFBQs18IYv1G+HCbXDSADvqoiTFS8JJqVbCbHltcn6G0lKWKgYColZYgr1IWULIEwkS3aHH8u4q9JL6K1DzCh8bgw4HhXMVX84zHv8lsyGHTCMmSGHjMYJnAzUoGqMz8u5TNdRxM0p8E2NN/JXDTSs4I0GWKYNH6IrzS7P8g0iqHiNCDK/jQqbA41j3YeNa+VLzUP3EE1c11VNfwuajWbM4A1FQ+MNbu2mDU1OKY1EqK0NdkDxDUWbtQ1a/LlNaOj+DXjSgY2FO8QNsNJHDYKZyg2zVM1NscdQzaU01E2wYRhNtxBcjZADoI2tZOLNkG7lTZ7j6A2pBusNrBruDZSjMU2BovTNht24ja/XPI2hqcBNwmvCjfzTRQ3140eN9Z4KTenGTU3nXtBN6+qTjd8s1w3VaNrN0KIezeEOIY3lzaPN4PGmDfX8KI3\",\"dtype\":\"float32\",\"shape\":[90]}},\"selected\":{\"id\":\"2801\"},\"selection_policy\":{\"id\":\"2802\"}},\"id\":\"2734\",\"type\":\"ColumnDataSource\"},{\"attributes\":{\"line_alpha\":0.1,\"line_color\":\"#1b9e77\",\"line_dash\":[6],\"line_width\":1.5,\"x\":{\"field\":\"x\"},\"y\":{\"field\":\"y\"}},\"id\":\"2512\",\"type\":\"Line\"},{\"attributes\":{},\"id\":\"2518\",\"type\":\"DatetimeTickFormatter\"},{\"attributes\":{},\"id\":\"2759\",\"type\":\"Selection\"},{\"attributes\":{\"line_alpha\":0.8,\"line_color\":\"#d95f02\",\"line_dash\":[6],\"line_width\":1.5,\"x\":{\"field\":\"x\"},\"y\":{\"field\":\"y\"}},\"id\":\"2736\",\"type\":\"Line\"},{\"attributes\":{\"mantissas\":[1,2,5],\"max_interval\":500.0,\"num_minor_ticks\":0},\"id\":\"2522\",\"type\":\"AdaptiveTicker\"},{\"attributes\":{\"data_source\":{\"id\":\"2734\"},\"glyph\":{\"id\":\"2736\"},\"hover_glyph\":null,\"muted_glyph\":null,\"name\":\"_Fit_D_LK Greiz\",\"nonselection_glyph\":{\"id\":\"2737\"},\"selection_glyph\":null,\"view\":{\"id\":\"2739\"}},\"id\":\"2738\",\"type\":\"GlyphRenderer\"},{\"attributes\":{\"source\":{\"id\":\"2734\"}},\"id\":\"2739\",\"type\":\"CDSView\"},{\"attributes\":{\"base\":60,\"mantissas\":[1,2,5,10,15,20,30],\"max_interval\":1800000.0,\"min_interval\":1000.0,\"num_minor_ticks\":0},\"id\":\"2523\",\"type\":\"AdaptiveTicker\"},{\"attributes\":{\"base\":24,\"mantissas\":[1,2,4,6,8,12],\"max_interval\":43200000.0,\"min_interval\":3600000.0,\"num_minor_ticks\":0},\"id\":\"2524\",\"type\":\"AdaptiveTicker\"},{\"attributes\":{\"line_alpha\":0.1,\"line_color\":\"#d95f02\",\"line_dash\":[6],\"line_width\":1.5,\"x\":{\"field\":\"x\"},\"y\":{\"field\":\"y\"}},\"id\":\"2737\",\"type\":\"Line\"},{\"attributes\":{\"days\":[1,2,3,4,5,6,7,8,9,10,11,12,13,14,15,16,17,18,19,20,21,22,23,24,25,26,27,28,29,30,31]},\"id\":\"2525\",\"type\":\"DaysTicker\"},{\"attributes\":{\"click_policy\":\"hide\",\"items\":[{\"id\":\"2535\"},{\"id\":\"2563\"},{\"id\":\"2593\"},{\"id\":\"2625\"},{\"id\":\"2659\"},{\"id\":\"2695\"},{\"id\":\"2733\"},{\"id\":\"2773\"},{\"id\":\"2815\"},{\"id\":\"2859\"},{\"id\":\"2905\"},{\"id\":\"2953\"}]},\"id\":\"2534\",\"type\":\"Legend\"},{\"attributes\":{},\"id\":\"2760\",\"type\":\"UnionRenderers\"},{\"attributes\":{\"days\":[1,4,7,10,13,16,19,22,25,28]},\"id\":\"2526\",\"type\":\"DaysTicker\"},{\"attributes\":{\"label\":{\"value\":\"Fit_D_LK Greiz\"},\"renderers\":[{\"id\":\"2738\"}]},\"id\":\"2773\",\"type\":\"LegendItem\"},{\"attributes\":{\"days\":[1,8,15,22]},\"id\":\"2527\",\"type\":\"DaysTicker\"},{\"attributes\":{\"data\":{\"x\":{\"__ndarray__\":\"AACA6w8Ed0IAAEBRYgR3QgAAALe0BHdCAADAHAcFd0IAAICCWQV3QgAAQOirBXdCAAAATv4Fd0IAAMCzUAZ3QgAAgBmjBndCAABAf/UGd0IAAADlRwd3QgAAwEqaB3dCAACAsOwHd0IAAEAWPwh3QgAAAHyRCHdCAADA4eMId0IAAIBHNgl3QgAAQK2ICXdCAAAAE9sJd0IAAMB4LQp3QgAAgN5/CndCAABARNIKd0IAAACqJAt3QgAAwA93C3dCAACAdckLd0IAAEDbGwx3QgAAAEFuDHdCAADApsAMd0IAAIAMEw13QgAAQHJlDXdCAAAA2LcNd0IAAMA9Cg53QgAAgKNcDndCAABACa8Od0IAAABvAQ93QgAAwNRTD3dCAACAOqYPd0IAAECg+A93QgAAAAZLEHdCAADAa50Qd0IAAIDR7xB3QgAAQDdCEXdCAAAAnZQRd0IAAMAC5xF3QgAAgGg5EndCAABAzosSd0IAAAA03hJ3QgAAwJkwE3dCAACA/4ITd0IAAEBl1RN3QgAAAMsnFHdCAADAMHoUd0IAAICWzBR3QgAAQPweFXdCAAAAYnEVd0IAAMDHwxV3QgAAgC0WFndCAABAk2gWd0IAAAD5uhZ3QgAAwF4NF3dCAACAxF8Xd0IAAEAqshd3QgAAAJAEGHdCAADA9VYYd0IAAIBbqRh3QgAAQMH7GHdCAAAAJ04Zd0IAAMCMoBl3QgAAgPLyGXdCAABAWEUad0IAAAC+lxp3QgAAwCPqGndCAACAiTwbd0IAAEDvjht3QgAAAFXhG3dCAADAujMcd0IAAIAghhx3QgAAQIbYHHdCAAAA7Codd0IAAMBRfR13QgAAgLfPHXdCAABAHSIed0IAAACDdB53QgAAwOjGHndCAACAThkfd0IAAEC0ax93QgAAABq+H3dCAADAfxAgd0IAAIDlYiB3QgAAQEu1IHdC\",\"dtype\":\"float64\",\"shape\":[90]},\"y\":{\"__ndarray__\":\"AAAAAAAAAAAAAAAAAAAAAAAAAAAAAAAAAAAAAAAAAAAAAAAAAAAAAAAAAAAicaQBRSyGCEcroQ4XtQ4UCeO6GNuMthzhDAggtcWjIjKktCQ57WIm0MnOJyCtHin3dFcqxtOCK7h1jiw8Q4st2bJ0LjB0QS/S1wkw6GSxMCCtTjHPrdoxZvhSMv6DujLCDRgzeFhmM36LozM909szQUQNNMpLLzSPxlM037t6NKQpkjQcXqg0DxPANCth2TR9Y/Q0zZsINZD+FzXDaig1KPI5NbWnTDWun2A1tO91NWpXhjXQepI1Jm+fNWJCrTVpA7w1GsLLNV+P3DU/fe41eM8ANnQECzZ66BU2J4chNtjsLTa3Jjs2yUJJNvhPWDYlXmg2M355Ng3hhTZ6no82iQGaNgQVpTZj5LA21Hu9NkboyjZzN9k26nfoNh25+Da1BQU3FEAON9sUGDfAjSI3C7UtN5mVOTfjOkY3\",\"dtype\":\"float32\",\"shape\":[90]}},\"selected\":{\"id\":\"2845\"},\"selection_policy\":{\"id\":\"2846\"}},\"id\":\"2774\",\"type\":\"ColumnDataSource\"},{\"attributes\":{\"days\":[1,15]},\"id\":\"2528\",\"type\":\"DaysTicker\"},{\"attributes\":{\"months\":[0,1,2,3,4,5,6,7,8,9,10,11]},\"id\":\"2529\",\"type\":\"MonthsTicker\"},{\"attributes\":{\"months\":[0,2,4,6,8,10]},\"id\":\"2530\",\"type\":\"MonthsTicker\"},{\"attributes\":{},\"id\":\"2801\",\"type\":\"Selection\"},{\"attributes\":{\"line_alpha\":0.8,\"line_color\":\"#7570b3\",\"line_dash\":[6],\"line_width\":1.5,\"x\":{\"field\":\"x\"},\"y\":{\"field\":\"y\"}},\"id\":\"2776\",\"type\":\"Line\"},{\"attributes\":{\"months\":[0,4,8]},\"id\":\"2531\",\"type\":\"MonthsTicker\"},{\"attributes\":{\"data_source\":{\"id\":\"2774\"},\"glyph\":{\"id\":\"2776\"},\"hover_glyph\":null,\"muted_glyph\":null,\"name\":\"_Fit_D_SK Gera\",\"nonselection_glyph\":{\"id\":\"2777\"},\"selection_glyph\":null,\"view\":{\"id\":\"2779\"}},\"id\":\"2778\",\"type\":\"GlyphRenderer\"},{\"attributes\":{\"months\":[0,6]},\"id\":\"2532\",\"type\":\"MonthsTicker\"},{\"attributes\":{\"source\":{\"id\":\"2774\"}},\"id\":\"2779\",\"type\":\"CDSView\"},{\"attributes\":{},\"id\":\"2533\",\"type\":\"YearsTicker\"},{\"attributes\":{\"data\":{\"x\":{\"__ndarray__\":\"AACA6w8Ed0IAAEBRYgR3QgAAALe0BHdCAADAHAcFd0IAAICCWQV3QgAAQOirBXdCAAAATv4Fd0IAAMCzUAZ3QgAAgBmjBndCAABAf/UGd0IAAADlRwd3QgAAwEqaB3dCAACAsOwHd0IAAEAWPwh3QgAAAHyRCHdCAADA4eMId0IAAIBHNgl3QgAAQK2ICXdCAAAAE9sJd0IAAMB4LQp3QgAAgN5/CndCAABARNIKd0IAAACqJAt3QgAAwA93C3dCAACAdckLd0IAAEDbGwx3QgAAAEFuDHdCAADApsAMd0IAAIAMEw13QgAAQHJlDXdCAAAA2LcNd0IAAMA9Cg53QgAAgKNcDndCAABACa8Od0IAAABvAQ93QgAAwNRTD3dCAACAOqYPd0IAAECg+A93QgAAAAZLEHdCAADAa50Qd0IAAIDR7xB3QgAAQDdCEXdCAAAAnZQRd0IAAMAC5xF3QgAAgGg5EndCAABAzosSd0IAAAA03hJ3QgAAwJkwE3dCAACA/4ITd0IAAEBl1RN3QgAAAMsnFHdCAADAMHoUd0IAAICWzBR3QgAAQPweFXdCAAAAYnEVd0IAAMDHwxV3QgAAgC0WFndCAABAk2gWd0IAAAD5uhZ3QgAAwF4NF3dCAACAxF8Xd0IAAEAqshd3QgAAAJAEGHdCAADA9VYYd0IAAIBbqRh3QgAAQMH7GHdCAAAAJ04Zd0IAAMCMoBl3QgAAgPLyGXdCAABAWEUad0IAAAC+lxp3QgAAwCPqGndCAACAiTwbd0IAAEDvjht3QgAAAFXhG3dCAADAujMcd0IAAIAghhx3QgAAQIbYHHdCAAAA7Codd0IAAMBRfR13QgAAgLfPHXdCAABAHSIed0IAAACDdB53QgAAwOjGHndCAACAThkfd0IAAEC0ax93QgAAABq+H3dCAADAfxAgd0IAAIDlYiB3QgAAQEu1IHdC\",\"dtype\":\"float64\",\"shape\":[90]},\"y\":{\"__ndarray__\":\"AAAAAAAAAAAAAAAAAAAAAAAAAAAAAAAAAAAAAAAAAAAAAAAAAAAAAAAAADQAANA1AIAINwDAozcAQO03AOAPOADgLTgAgFM4AEB9OABAlDgAoKo4AGDCOAAA3DgAkPc4AHgKOQAYGjkAwCo5AJA8OQCQTzkA2GM5AIB5OQBQiDkApJQ5ANChOQDcrzkA3L45ANzOOQDw3zkAKPI5AMwCOgAsDToAPhg6AA4kOgCoMDoAGj46AHJMOgC+WzoAEGw6AHh9OgAFiDoA7JE6AHucOgC+pzoAwLM6AI7AOgA0zjoAwdw6AETsOgDM/DoANQc7AJgQOwCYGjsAPyU7AJgwO4CtPDuAi0k7gD5XO4DTZTsAWHU7gO2CO4C1iztADJU7QPqeO0CIqTuAv7Q7wKnAOwBRzTvAv9o7AAHpOwAg+DtgFAQ8oJMMPCCUFTxgHB88ADMpPMDeMzygJj88oBFLPMCmVzxA7WQ8\",\"dtype\":\"float32\",\"shape\":[90]}},\"selected\":{\"id\":\"2579\"},\"selection_policy\":{\"id\":\"2580\"}},\"id\":\"2536\",\"type\":\"ColumnDataSource\"},{\"attributes\":{\"line_alpha\":0.1,\"line_color\":\"#7570b3\",\"line_dash\":[6],\"line_width\":1.5,\"x\":{\"field\":\"x\"},\"y\":{\"field\":\"y\"}},\"id\":\"2777\",\"type\":\"Line\"},{\"attributes\":{},\"id\":\"2802\",\"type\":\"UnionRenderers\"},{\"attributes\":{\"label\":{\"value\":\"Fit_D_SK Gera\"},\"renderers\":[{\"id\":\"2778\"}]},\"id\":\"2815\",\"type\":\"LegendItem\"},{\"attributes\":{\"line_alpha\":0.8,\"line_color\":\"#d95f02\",\"line_dash\":[6],\"line_width\":1.5,\"x\":{\"field\":\"x\"},\"y\":{\"field\":\"y\"}},\"id\":\"2538\",\"type\":\"Line\"}],\"root_ids\":[\"2475\"]},\"title\":\"Bokeh Application\",\"version\":\"2.0.2\"}};\n",
       "  var render_items = [{\"docid\":\"9bb23013-5ec3-443d-88b7-7d4ac20b4279\",\"notebook_comms_target\":\"3090\",\"root_ids\":[\"2475\"],\"roots\":{\"2475\":\"af8cacb1-ffe8-4ea9-bee9-9b0d7939b249\"}}];\n",
       "  root.Bokeh.embed.embed_items_notebook(docs_json, render_items);\n",
       "\n",
       "  }\n",
       "  if (root.Bokeh !== undefined) {\n",
       "    embed_document(root);\n",
       "  } else {\n",
       "    var attempts = 0;\n",
       "    var timer = setInterval(function(root) {\n",
       "      if (root.Bokeh !== undefined) {\n",
       "        clearInterval(timer);\n",
       "        embed_document(root);\n",
       "      } else {\n",
       "        attempts++;\n",
       "        if (attempts > 100) {\n",
       "          clearInterval(timer);\n",
       "          console.log(\"Bokeh: ERROR: Unable to run BokehJS code because BokehJS library is missing\");\n",
       "        }\n",
       "      }\n",
       "    }, 10, root)\n",
       "  }\n",
       "})(window);"
      ],
      "application/vnd.bokehjs_exec.v0+json": ""
     },
     "metadata": {
      "application/vnd.bokehjs_exec.v0+json": {
       "id": "2475"
      }
     },
     "output_type": "display_data"
    },
    {
     "data": {
      "text/html": [
       "\n",
       "\n",
       "\n",
       "\n",
       "\n",
       "\n",
       "  <div class=\"bk-root\" id=\"0c3dcc13-28a5-413c-b437-6f6a653ed329\" data-root-id=\"3349\"></div>\n"
      ]
     },
     "metadata": {},
     "output_type": "display_data"
    },
    {
     "data": {
      "application/javascript": [
       "(function(root) {\n",
       "  function embed_document(root) {\n",
       "    \n",
       "  var docs_json = {\"8343d44b-3734-4325-bf44-efb243282506\":{\"roots\":{\"references\":[{\"attributes\":{\"background_fill_color\":\"#efefef\",\"below\":[{\"id\":\"3360\"}],\"center\":[{\"id\":\"3363\"},{\"id\":\"3367\"},{\"id\":\"3408\"}],\"left\":[{\"id\":\"3364\"}],\"name\":\"_figure_R\",\"plot_height\":400,\"plot_width\":900,\"renderers\":[{\"id\":\"3387\"},{\"id\":\"3414\"},{\"id\":\"3442\"}],\"title\":{\"id\":\"3350\"},\"toolbar\":{\"id\":\"3376\"},\"x_range\":{\"id\":\"3352\"},\"x_scale\":{\"id\":\"3356\"},\"y_range\":{\"id\":\"3354\"},\"y_scale\":{\"id\":\"3358\"}},\"id\":\"3349\",\"subtype\":\"Figure\",\"type\":\"Plot\"},{\"attributes\":{\"data\":{\"x\":{\"__ndarray__\":\"AACA6w8Ed0IAAEBRYgR3QgAAALe0BHdCAADAHAcFd0IAAICCWQV3QgAAQOirBXdCAAAATv4Fd0IAAMCzUAZ3QgAAgBmjBndCAABAf/UGd0IAAADlRwd3QgAAwEqaB3dCAACAsOwHd0IAAEAWPwh3QgAAAHyRCHdCAADA4eMId0IAAIBHNgl3QgAAQK2ICXdCAAAAE9sJd0IAAMB4LQp3QgAAgN5/CndCAABARNIKd0IAAACqJAt3QgAAwA93C3dCAACAdckLd0IAAEDbGwx3QgAAAEFuDHdCAADApsAMd0IAAIAMEw13QgAAQHJlDXdCAAAA2LcNd0IAAMA9Cg53QgAAgKNcDndCAABACa8Od0IAAABvAQ93QgAAwNRTD3dCAACAOqYPd0IAAECg+A93QgAAAAZLEHdCAADAa50Qd0IAAIDR7xB3QgAAQDdCEXdCAAAAnZQRd0IAAMAC5xF3QgAAgGg5EndCAABAzosSd0IAAAA03hJ3QgAAwJkwE3dCAACA/4ITd0IAAEBl1RN3QgAAAMsnFHdCAADAMHoUd0IAAICWzBR3QgAAQPweFXdCAAAAYnEVd0IAAMDHwxV3QgAAgC0WFndCAABAk2gWd0IAAAD5uhZ3QgAAwF4NF3dCAACAxF8Xd0IAAEAqshd3QgAAAJAEGHdCAADA9VYYd0IAAIBbqRh3QgAAQMH7GHdCAAAAJ04Zd0IAAMCMoBl3QgAAgPLyGXdCAABAWEUad0IAAAC+lxp3QgAAwCPqGndCAACAiTwbd0IAAEDvjht3QgAAAFXhG3dCAADAujMcd0IAAIAghhx3QgAAQIbYHHdCAAAA7Codd0IAAMBRfR13QgAAgLfPHXdCAABAHSIed0IAAACDdB53QgAAwOjGHndCAACAThkfd0IAAEC0ax93QgAAABq+H3dCAADAfxAgd0IAAIDlYiB3QgAAQEu1IHdC\",\"dtype\":\"float64\",\"shape\":[90]},\"y\":{\"__ndarray__\":\"ZmamP2Zmpj9mZqY/ZmamP2Zmpj9mZqY/ZmamP2Zmpj9mZqY/ZmamP2Zmpj9mZqY/ZmamP2Zmpj9mZqY/ZmamP2Zmpj9mZqY/ZmamP2Zmpj9mZqY/ZmamP2Zmpj9mZqY/ZmamP2Zmpj9mZqY/ZmamP2Zmpj9mZqY/ZmamP2Zmpj9mZqY/ZmamP2Zmpj9mZqY/ZmamP2Zmpj9mZqY/ZmamP2Zmpj9mZqY/ZmamP2Zmpj9mZqY/ZmamP2Zmpj9mZqY/ZmamP2Zmpj9mZqY/ZmamP2Zmpj9mZqY/ZmamP2Zmpj9mZqY/ZmamP2Zmpj9mZqY/ZmamP2Zmpj9mZqY/ZmamP2Zmpj9mZqY/ZmamP2Zmpj9mZqY/ZmamP2Zmpj9mZqY/ZmamP2Zmpj9mZqY/ZmamP2Zmpj9mZqY/ZmamP2Zmpj9mZqY/ZmamP2Zmpj9mZqY/ZmamP2Zmpj9mZqY/ZmamP2Zmpj9mZqY/\",\"dtype\":\"float32\",\"shape\":[90]}},\"selected\":{\"id\":\"3423\"},\"selection_policy\":{\"id\":\"3424\"}},\"id\":\"3383\",\"type\":\"ColumnDataSource\"},{\"attributes\":{\"data_source\":{\"id\":\"3383\"},\"glyph\":{\"id\":\"3385\"},\"hover_glyph\":null,\"muted_glyph\":null,\"name\":\"_Fit_R_SK Jena\",\"nonselection_glyph\":{\"id\":\"3386\"},\"selection_glyph\":null,\"view\":{\"id\":\"3388\"}},\"id\":\"3387\",\"type\":\"GlyphRenderer\"},{\"attributes\":{\"label\":{\"value\":\"Fit_R_SK Gera\"},\"renderers\":[{\"id\":\"3442\"}]},\"id\":\"3467\",\"type\":\"LegendItem\"},{\"attributes\":{\"axis\":{\"id\":\"3360\"},\"ticker\":null},\"id\":\"3363\",\"type\":\"Grid\"},{\"attributes\":{\"label\":{\"value\":\"Fit_R_SK Jena\"},\"renderers\":[{\"id\":\"3387\"}]},\"id\":\"3409\",\"type\":\"LegendItem\"},{\"attributes\":{\"source\":{\"id\":\"3383\"}},\"id\":\"3388\",\"type\":\"CDSView\"},{\"attributes\":{},\"id\":\"3615\",\"type\":\"Selection\"},{\"attributes\":{\"axis_label\":\"Rate\",\"formatter\":{\"id\":\"3390\"},\"ticker\":{\"id\":\"3365\"}},\"id\":\"3364\",\"type\":\"LinearAxis\"},{\"attributes\":{},\"id\":\"3365\",\"type\":\"BasicTicker\"},{\"attributes\":{\"line_alpha\":0.1,\"line_color\":\"#1b9e77\",\"line_dash\":[6],\"line_width\":1.5,\"x\":{\"field\":\"x\"},\"y\":{\"field\":\"y\"}},\"id\":\"3386\",\"type\":\"Line\"},{\"attributes\":{},\"id\":\"3423\",\"type\":\"Selection\"},{\"attributes\":{\"line_alpha\":0.8,\"line_color\":\"#d95f02\",\"line_dash\":[6],\"line_width\":1.5,\"x\":{\"field\":\"x\"},\"y\":{\"field\":\"y\"}},\"id\":\"3412\",\"type\":\"Line\"},{\"attributes\":{},\"id\":\"3616\",\"type\":\"UnionRenderers\"},{\"attributes\":{\"axis\":{\"id\":\"3364\"},\"dimension\":1,\"ticker\":null},\"id\":\"3367\",\"type\":\"Grid\"},{\"attributes\":{},\"id\":\"3392\",\"type\":\"DatetimeTickFormatter\"},{\"attributes\":{\"data_source\":{\"id\":\"3410\"},\"glyph\":{\"id\":\"3412\"},\"hover_glyph\":null,\"muted_glyph\":null,\"name\":\"_Fit_R_LK Greiz\",\"nonselection_glyph\":{\"id\":\"3413\"},\"selection_glyph\":null,\"view\":{\"id\":\"3415\"}},\"id\":\"3414\",\"type\":\"GlyphRenderer\"},{\"attributes\":{\"source\":{\"id\":\"3410\"}},\"id\":\"3415\",\"type\":\"CDSView\"},{\"attributes\":{\"mantissas\":[1,2,5],\"max_interval\":500.0,\"num_minor_ticks\":0},\"id\":\"3396\",\"type\":\"AdaptiveTicker\"},{\"attributes\":{\"data\":{\"x\":{\"__ndarray__\":\"AACA6w8Ed0IAAEBRYgR3QgAAALe0BHdCAADAHAcFd0IAAICCWQV3QgAAQOirBXdCAAAATv4Fd0IAAMCzUAZ3QgAAgBmjBndCAABAf/UGd0IAAADlRwd3QgAAwEqaB3dCAACAsOwHd0IAAEAWPwh3QgAAAHyRCHdCAADA4eMId0IAAIBHNgl3QgAAQK2ICXdCAAAAE9sJd0IAAMB4LQp3QgAAgN5/CndCAABARNIKd0IAAACqJAt3QgAAwA93C3dCAACAdckLd0IAAEDbGwx3QgAAAEFuDHdCAADApsAMd0IAAIAMEw13QgAAQHJlDXdCAAAA2LcNd0IAAMA9Cg53QgAAgKNcDndCAABACa8Od0IAAABvAQ93QgAAwNRTD3dCAACAOqYPd0IAAECg+A93QgAAAAZLEHdCAADAa50Qd0IAAIDR7xB3QgAAQDdCEXdCAAAAnZQRd0IAAMAC5xF3QgAAgGg5EndCAABAzosSd0IAAAA03hJ3QgAAwJkwE3dCAACA/4ITd0IAAEBl1RN3QgAAAMsnFHdCAADAMHoUd0IAAICWzBR3QgAAQPweFXdCAAAAYnEVd0IAAMDHwxV3QgAAgC0WFndCAABAk2gWd0IAAAD5uhZ3QgAAwF4NF3dCAACAxF8Xd0IAAEAqshd3QgAAAJAEGHdCAADA9VYYd0IAAIBbqRh3QgAAQMH7GHdCAAAAJ04Zd0IAAMCMoBl3QgAAgPLyGXdCAABAWEUad0IAAAC+lxp3QgAAwCPqGndCAACAiTwbd0IAAEDvjht3QgAAAFXhG3dCAADAujMcd0IAAIAghhx3QgAAQIbYHHdCAAAA7Codd0IAAMBRfR13QgAAgLfPHXdCAABAHSIed0IAAACDdB53QgAAwOjGHndCAACAThkfd0IAAEC0ax93QgAAABq+H3dCAADAfxAgd0IAAIDlYiB3QgAAQEu1IHdC\",\"dtype\":\"float64\",\"shape\":[90]},\"y\":{\"__ndarray__\":\"ZmamP2Zmpj9mZqY/ZmamP2Zmpj9mZqY/ZmamP2Zmpj9mZqY/ZmamP2Zmpj9mZqY/ZmamP2Zmpj9mZqY/ZmamP2Zmpj9mZqY/ZmamP2Zmpj9mZqY/ZmamP2Zmpj9mZqY/ZmamP2Zmpj9mZqY/ZmamP2Zmpj9mZqY/ZmamP2Zmpj9mZqY/ZmamP2Zmpj9mZqY/ZmamP2Zmpj9mZqY/ZmamP2Zmpj9mZqY/ZmamP2Zmpj9mZqY/ZmamP2Zmpj9mZqY/ZmamP2Zmpj9mZqY/ZmamP2Zmpj9mZqY/ZmamP2Zmpj9mZqY/ZmamP2Zmpj9mZqY/ZmamP2Zmpj9mZqY/ZmamP2Zmpj9mZqY/ZmamP2Zmpj9mZqY/ZmamP2Zmpj9mZqY/ZmamP2Zmpj9mZqY/ZmamP2Zmpj9mZqY/ZmamP2Zmpj9mZqY/ZmamP2Zmpj9mZqY/ZmamP2Zmpj9mZqY/ZmamP2Zmpj9mZqY/\",\"dtype\":\"float32\",\"shape\":[90]}},\"selected\":{\"id\":\"3453\"},\"selection_policy\":{\"id\":\"3454\"}},\"id\":\"3410\",\"type\":\"ColumnDataSource\"},{\"attributes\":{\"base\":60,\"mantissas\":[1,2,5,10,15,20,30],\"max_interval\":1800000.0,\"min_interval\":1000.0,\"num_minor_ticks\":0},\"id\":\"3397\",\"type\":\"AdaptiveTicker\"},{\"attributes\":{},\"id\":\"3368\",\"type\":\"PanTool\"},{\"attributes\":{\"line_alpha\":0.1,\"line_color\":\"#d95f02\",\"line_dash\":[6],\"line_width\":1.5,\"x\":{\"field\":\"x\"},\"y\":{\"field\":\"y\"}},\"id\":\"3413\",\"type\":\"Line\"},{\"attributes\":{\"base\":24,\"mantissas\":[1,2,4,6,8,12],\"max_interval\":43200000.0,\"min_interval\":3600000.0,\"num_minor_ticks\":0},\"id\":\"3398\",\"type\":\"AdaptiveTicker\"},{\"attributes\":{},\"id\":\"3369\",\"type\":\"WheelZoomTool\"},{\"attributes\":{},\"id\":\"3424\",\"type\":\"UnionRenderers\"},{\"attributes\":{\"num_minor_ticks\":5,\"tickers\":[{\"id\":\"3396\"},{\"id\":\"3397\"},{\"id\":\"3398\"},{\"id\":\"3399\"},{\"id\":\"3400\"},{\"id\":\"3401\"},{\"id\":\"3402\"},{\"id\":\"3403\"},{\"id\":\"3404\"},{\"id\":\"3405\"},{\"id\":\"3406\"},{\"id\":\"3407\"}]},\"id\":\"3361\",\"type\":\"DatetimeTicker\"},{\"attributes\":{\"days\":[1,2,3,4,5,6,7,8,9,10,11,12,13,14,15,16,17,18,19,20,21,22,23,24,25,26,27,28,29,30,31]},\"id\":\"3399\",\"type\":\"DaysTicker\"},{\"attributes\":{\"text\":\"Thuringia_R\"},\"id\":\"3350\",\"type\":\"Title\"},{\"attributes\":{\"label\":{\"value\":\"Fit_R_LK Greiz\"},\"renderers\":[{\"id\":\"3414\"}]},\"id\":\"3437\",\"type\":\"LegendItem\"},{\"attributes\":{\"overlay\":{\"id\":\"3375\"}},\"id\":\"3370\",\"type\":\"BoxZoomTool\"},{\"attributes\":{\"days\":[1,4,7,10,13,16,19,22,25,28]},\"id\":\"3400\",\"type\":\"DaysTicker\"},{\"attributes\":{},\"id\":\"3371\",\"type\":\"ResetTool\"},{\"attributes\":{\"data\":{\"x\":{\"__ndarray__\":\"AACA6w8Ed0IAAEBRYgR3QgAAALe0BHdCAADAHAcFd0IAAICCWQV3QgAAQOirBXdCAAAATv4Fd0IAAMCzUAZ3QgAAgBmjBndCAABAf/UGd0IAAADlRwd3QgAAwEqaB3dCAACAsOwHd0IAAEAWPwh3QgAAAHyRCHdCAADA4eMId0IAAIBHNgl3QgAAQK2ICXdCAAAAE9sJd0IAAMB4LQp3QgAAgN5/CndCAABARNIKd0IAAACqJAt3QgAAwA93C3dCAACAdckLd0IAAEDbGwx3QgAAAEFuDHdCAADApsAMd0IAAIAMEw13QgAAQHJlDXdCAAAA2LcNd0IAAMA9Cg53QgAAgKNcDndCAABACa8Od0IAAABvAQ93QgAAwNRTD3dCAACAOqYPd0IAAECg+A93QgAAAAZLEHdCAADAa50Qd0IAAIDR7xB3QgAAQDdCEXdCAAAAnZQRd0IAAMAC5xF3QgAAgGg5EndCAABAzosSd0IAAAA03hJ3QgAAwJkwE3dCAACA/4ITd0IAAEBl1RN3QgAAAMsnFHdCAADAMHoUd0IAAICWzBR3QgAAQPweFXdCAAAAYnEVd0IAAMDHwxV3QgAAgC0WFndCAABAk2gWd0IAAAD5uhZ3QgAAwF4NF3dCAACAxF8Xd0IAAEAqshd3QgAAAJAEGHdCAADA9VYYd0IAAIBbqRh3QgAAQMH7GHdCAAAAJ04Zd0IAAMCMoBl3QgAAgPLyGXdCAABAWEUad0IAAAC+lxp3QgAAwCPqGndCAACAiTwbd0IAAEDvjht3QgAAAFXhG3dCAADAujMcd0IAAIAghhx3QgAAQIbYHHdCAAAA7Codd0IAAMBRfR13QgAAgLfPHXdCAABAHSIed0IAAACDdB53QgAAwOjGHndCAACAThkfd0IAAEC0ax93QgAAABq+H3dCAADAfxAgd0IAAIDlYiB3QgAAQEu1IHdC\",\"dtype\":\"float64\",\"shape\":[90]},\"y\":{\"__ndarray__\":\"ZmamP2Zmpj9mZqY/ZmamP2Zmpj9mZqY/ZmamP2Zmpj9mZqY/ZmamP2Zmpj9mZqY/ZmamP2Zmpj9mZqY/ZmamP2Zmpj9mZqY/ZmamP2Zmpj9mZqY/ZmamP2Zmpj9mZqY/ZmamP2Zmpj9mZqY/ZmamP2Zmpj9mZqY/ZmamP2Zmpj9mZqY/ZmamP2Zmpj9mZqY/ZmamP2Zmpj9mZqY/ZmamP2Zmpj9mZqY/ZmamP2Zmpj9mZqY/ZmamP2Zmpj9mZqY/ZmamP2Zmpj9mZqY/ZmamP2Zmpj9mZqY/ZmamP2Zmpj9mZqY/ZmamP2Zmpj9mZqY/ZmamP2Zmpj9mZqY/ZmamP2Zmpj9mZqY/ZmamP2Zmpj9mZqY/ZmamP2Zmpj9mZqY/ZmamP2Zmpj9mZqY/ZmamP2Zmpj9mZqY/ZmamP2Zmpj9mZqY/ZmamP2Zmpj9mZqY/ZmamP2Zmpj9mZqY/ZmamP2Zmpj9mZqY/\",\"dtype\":\"float32\",\"shape\":[90]}},\"selected\":{\"id\":\"3615\"},\"selection_policy\":{\"id\":\"3616\"}},\"id\":\"3438\",\"type\":\"ColumnDataSource\"},{\"attributes\":{\"days\":[1,8,15,22]},\"id\":\"3401\",\"type\":\"DaysTicker\"},{\"attributes\":{},\"id\":\"3372\",\"type\":\"SaveTool\"},{\"attributes\":{\"days\":[1,15]},\"id\":\"3402\",\"type\":\"DaysTicker\"},{\"attributes\":{\"overlay\":{\"id\":\"3374\"}},\"id\":\"3373\",\"type\":\"BoxSelectTool\"},{\"attributes\":{\"axis_label\":\"time\",\"formatter\":{\"id\":\"3392\"},\"major_label_orientation\":0.7853981633974483,\"ticker\":{\"id\":\"3361\"}},\"id\":\"3360\",\"type\":\"DatetimeAxis\"},{\"attributes\":{},\"id\":\"3352\",\"type\":\"DataRange1d\"},{\"attributes\":{\"months\":[0,1,2,3,4,5,6,7,8,9,10,11]},\"id\":\"3403\",\"type\":\"MonthsTicker\"},{\"attributes\":{},\"id\":\"3453\",\"type\":\"Selection\"},{\"attributes\":{\"line_alpha\":0.8,\"line_color\":\"#7570b3\",\"line_dash\":[6],\"line_width\":1.5,\"x\":{\"field\":\"x\"},\"y\":{\"field\":\"y\"}},\"id\":\"3440\",\"type\":\"Line\"},{\"attributes\":{\"bottom_units\":\"screen\",\"fill_alpha\":0.5,\"fill_color\":\"lightgrey\",\"left_units\":\"screen\",\"level\":\"overlay\",\"line_alpha\":1.0,\"line_color\":\"black\",\"line_dash\":[4,4],\"line_width\":2,\"render_mode\":\"css\",\"right_units\":\"screen\",\"top_units\":\"screen\"},\"id\":\"3375\",\"type\":\"BoxAnnotation\"},{\"attributes\":{},\"id\":\"3454\",\"type\":\"UnionRenderers\"},{\"attributes\":{\"months\":[0,2,4,6,8,10]},\"id\":\"3404\",\"type\":\"MonthsTicker\"},{\"attributes\":{\"bottom_units\":\"screen\",\"fill_alpha\":0.5,\"fill_color\":\"lightgrey\",\"left_units\":\"screen\",\"level\":\"overlay\",\"line_alpha\":1.0,\"line_color\":\"black\",\"line_dash\":[4,4],\"line_width\":2,\"render_mode\":\"css\",\"right_units\":\"screen\",\"top_units\":\"screen\"},\"id\":\"3374\",\"type\":\"BoxAnnotation\"},{\"attributes\":{\"data_source\":{\"id\":\"3438\"},\"glyph\":{\"id\":\"3440\"},\"hover_glyph\":null,\"muted_glyph\":null,\"name\":\"_Fit_R_SK Gera\",\"nonselection_glyph\":{\"id\":\"3441\"},\"selection_glyph\":null,\"view\":{\"id\":\"3443\"}},\"id\":\"3442\",\"type\":\"GlyphRenderer\"},{\"attributes\":{\"months\":[0,4,8]},\"id\":\"3405\",\"type\":\"MonthsTicker\"},{\"attributes\":{\"source\":{\"id\":\"3438\"}},\"id\":\"3443\",\"type\":\"CDSView\"},{\"attributes\":{},\"id\":\"3358\",\"type\":\"LinearScale\"},{\"attributes\":{\"months\":[0,6]},\"id\":\"3406\",\"type\":\"MonthsTicker\"},{\"attributes\":{\"active_drag\":\"auto\",\"active_inspect\":\"auto\",\"active_multi\":null,\"active_scroll\":\"auto\",\"active_tap\":\"auto\",\"tools\":[{\"id\":\"3368\"},{\"id\":\"3369\"},{\"id\":\"3370\"},{\"id\":\"3371\"},{\"id\":\"3372\"},{\"id\":\"3373\"}]},\"id\":\"3376\",\"type\":\"Toolbar\"},{\"attributes\":{},\"id\":\"3354\",\"type\":\"DataRange1d\"},{\"attributes\":{},\"id\":\"3407\",\"type\":\"YearsTicker\"},{\"attributes\":{\"line_alpha\":0.1,\"line_color\":\"#7570b3\",\"line_dash\":[6],\"line_width\":1.5,\"x\":{\"field\":\"x\"},\"y\":{\"field\":\"y\"}},\"id\":\"3441\",\"type\":\"Line\"},{\"attributes\":{},\"id\":\"3356\",\"type\":\"LinearScale\"},{\"attributes\":{},\"id\":\"3390\",\"type\":\"BasicTickFormatter\"},{\"attributes\":{\"click_policy\":\"hide\",\"items\":[{\"id\":\"3409\"},{\"id\":\"3437\"},{\"id\":\"3467\"}]},\"id\":\"3408\",\"type\":\"Legend\"},{\"attributes\":{\"line_alpha\":0.8,\"line_color\":\"#1b9e77\",\"line_dash\":[6],\"line_width\":1.5,\"x\":{\"field\":\"x\"},\"y\":{\"field\":\"y\"}},\"id\":\"3385\",\"type\":\"Line\"}],\"root_ids\":[\"3349\"]},\"title\":\"Bokeh Application\",\"version\":\"2.0.2\"}};\n",
       "  var render_items = [{\"docid\":\"8343d44b-3734-4325-bf44-efb243282506\",\"notebook_comms_target\":\"3629\",\"root_ids\":[\"3349\"],\"roots\":{\"3349\":\"0c3dcc13-28a5-413c-b437-6f6a653ed329\"}}];\n",
       "  root.Bokeh.embed.embed_items_notebook(docs_json, render_items);\n",
       "\n",
       "  }\n",
       "  if (root.Bokeh !== undefined) {\n",
       "    embed_document(root);\n",
       "  } else {\n",
       "    var attempts = 0;\n",
       "    var timer = setInterval(function(root) {\n",
       "      if (root.Bokeh !== undefined) {\n",
       "        clearInterval(timer);\n",
       "        embed_document(root);\n",
       "      } else {\n",
       "        attempts++;\n",
       "        if (attempts > 100) {\n",
       "          clearInterval(timer);\n",
       "          console.log(\"Bokeh: ERROR: Unable to run BokehJS code because BokehJS library is missing\");\n",
       "        }\n",
       "      }\n",
       "    }, 10, root)\n",
       "  }\n",
       "})(window);"
      ],
      "application/vnd.bokehjs_exec.v0+json": ""
     },
     "metadata": {
      "application/vnd.bokehjs_exec.v0+json": {
       "id": "3349"
      }
     },
     "output_type": "display_data"
    },
    {
     "name": "stdout",
     "output_type": "stream",
     "text": [
      "Loss is: 1.69121\n",
      "\n",
      "Loss is: 1.6794741\n",
      "Loss is: 1.6794741\n",
      "Loss is: 0.5277502\n",
      "Loss is: 0.47167775\n",
      "Loss is: 0.41984183\n"
     ]
    }
   ],
   "source": [
    "M.DataDict={}\n",
    "g = M.getGUI(showResults=M.showSimRes, doFit=M.doFit, Dates = list(AllMeasured['Dates']))"
   ]
  },
  {
   "cell_type": "code",
   "execution_count": 10,
   "metadata": {
    "scrolled": false
   },
   "outputs": [
    {
     "data": {
      "text/plain": [
       "<tf.Tensor: shape=(), dtype=float32, numpy=0.010000009>"
      ]
     },
     "execution_count": 10,
     "metadata": {},
     "output_type": "execute_result"
    }
   ],
   "source": [
    "q=M.assignNewVar('lambdaTVR', 0.01)\n",
    "M.Var['lambdaTVR']()"
   ]
  },
  {
   "cell_type": "code",
   "execution_count": 7,
   "metadata": {},
   "outputs": [
    {
     "ename": "TypeError",
     "evalue": "buildModel() missing 2 required positional arguments: 'dictToFit' and 'Tmax'",
     "output_type": "error",
     "traceback": [
      "\u001b[1;31m---------------------------------------------------------------------------\u001b[0m",
      "\u001b[1;31mTypeError\u001b[0m                                 Traceback (most recent call last)",
      "\u001b[1;32m<ipython-input-7-5b00fe5bb299>\u001b[0m in \u001b[0;36m<module>\u001b[1;34m\u001b[0m\n\u001b[0;32m      1\u001b[0m \u001b[0mM\u001b[0m\u001b[1;33m.\u001b[0m\u001b[0mRegularizations\u001b[0m \u001b[1;33m=\u001b[0m \u001b[1;33m[\u001b[0m\u001b[1;33m(\u001b[0m\u001b[1;34m'TV'\u001b[0m\u001b[1;33m,\u001b[0m \u001b[1;36m10.0\u001b[0m\u001b[1;33m,\u001b[0m\u001b[1;34m'R'\u001b[0m\u001b[1;33m)\u001b[0m\u001b[1;33m]\u001b[0m\u001b[1;33m\u001b[0m\u001b[0m\n\u001b[1;32m----> 2\u001b[1;33m \u001b[0mM\u001b[0m\u001b[1;33m.\u001b[0m\u001b[0mbuildModel\u001b[0m\u001b[1;33m(\u001b[0m\u001b[1;33m)\u001b[0m\u001b[1;33m\u001b[0m\u001b[0m\n\u001b[0m",
      "\u001b[1;31mTypeError\u001b[0m: buildModel() missing 2 required positional arguments: 'dictToFit' and 'Tmax'"
     ]
    }
   ],
   "source": [
    "M.Regularizations = [('TV', 10.0,'R')]\n",
    "M.buildModel()"
   ]
  },
  {
   "cell_type": "code",
   "execution_count": 4,
   "metadata": {},
   "outputs": [],
   "source": [
    "# stm.Loss_FixedGaussian(np.squeeze(M.ResultVals()['deaths']), M.FitDict['deaths'])"
   ]
  },
  {
   "cell_type": "code",
   "execution_count": 5,
   "metadata": {},
   "outputs": [
    {
     "data": {
      "text/plain": [
       "[1, 2, 3]"
      ]
     },
     "execution_count": 5,
     "metadata": {},
     "output_type": "execute_result"
    }
   ],
   "source": [
    "a=[1,2,3,5]\n",
    "a[:-1]"
   ]
  },
  {
   "cell_type": "code",
   "execution_count": 6,
   "metadata": {},
   "outputs": [],
   "source": [
    "M.FitLossWidget.clear_output()\n",
    "with M.FitLossWidget:\n",
    "    print('Hi there. Whats up today?')"
   ]
  },
  {
   "cell_type": "code",
   "execution_count": 4,
   "metadata": {},
   "outputs": [
    {
     "name": "stdout",
     "output_type": "stream",
     "text": [
      "Sum of states deviates by: 0.015848577, from the starting state:[1. 1. 1. 1. 1. 1. 1. 1. 1. 1. 1. 1. 1. 1. 1. 1. 1. 1. 1. 1. 1. 1. 1. 1.\n",
      " 1. 1. 1. 1. 1. 1. 1. 1. 1. 1. 1.]. relative: [0.01584858 0.01584858 0.01584858 0.01584858 0.01584858 0.01584858\n",
      " 0.01584858 0.01584858 0.01584858 0.01584858 0.01584858 0.01584858\n",
      " 0.01584858 0.01584858 0.01584858 0.01584858 0.01584858 0.01584858\n",
      " 0.01584858 0.01584858 0.01584858 0.01584858 0.01584858 0.01584858\n",
      " 0.01584858 0.01584858 0.01584858 0.01584858 0.01584858 0.01584858\n",
      " 0.01584858 0.01584858 0.01584858 0.01584858 0.01584858]\n"
     ]
    },
    {
     "data": {
      "image/png": "[encoded data removed]",
      "text/plain": [
       "<Figure size 432x288 with 1 Axes>"
      ]
     },
     "metadata": {
      "needs_background": "light"
     },
     "output_type": "display_data"
    }
   ],
   "source": [
    "M.showStates(MinusOne=['S'])"
   ]
  },
  {
   "cell_type": "code",
   "execution_count": 5,
   "metadata": {},
   "outputs": [
    {
     "data": {
      "text/plain": [
       "[<matplotlib.lines.Line2D at 0x193afc27f60>]"
      ]
     },
     "execution_count": 5,
     "metadata": {},
     "output_type": "execute_result"
    },
    {
     "data": {
      "image/png": "[encoded data removed]",
      "text/plain": [
       "<Figure size 432x288 with 1 Axes>"
      ]
     },
     "metadata": {
      "needs_background": "light"
     },
     "output_type": "display_data"
    }
   ],
   "source": [
    "plt.plot(np.squeeze(M.Var['R']()))"
   ]
  },
  {
   "cell_type": "code",
   "execution_count": 17,
   "metadata": {},
   "outputs": [
    {
     "data": {
      "text/plain": [
       "TensorShape([125, 1, 1, 1])"
      ]
     },
     "execution_count": 17,
     "metadata": {},
     "output_type": "execute_result"
    }
   ],
   "source": [
    "M.Var['R']().shape"
   ]
  },
  {
   "cell_type": "code",
   "execution_count": 28,
   "metadata": {},
   "outputs": [
    {
     "name": "stdout",
     "output_type": "stream",
     "text": [
      "Simulation Control:\n"
     ]
    },
    {
     "data": {
      "application/vnd.jupyter.widget-view+json": {
       "model_id": "413200688e7540718c88b77e00ba8e05",
       "version_major": 2,
       "version_minor": 0
      },
      "text/plain": [
       "HBox(children=(FloatLogSlider(value=0.06, continuous_update=False, max=2.0, min=-10.0), FloatLogSlider(value=0…"
      ]
     },
     "metadata": {},
     "output_type": "display_data"
    },
    {
     "data": {
      "application/vnd.jupyter.widget-view+json": {
       "model_id": "07b6d7d7d3b243ba8754b3c47f9c9534",
       "version_major": 2,
       "version_minor": 0
      },
      "text/plain": [
       "Output(outputs=({'output_type': 'stream', 'text': 'd: 0.039810717055349734\\nLoss is: tf.Tensor(0.000104670384,…"
      ]
     },
     "metadata": {},
     "output_type": "display_data"
    },
    {
     "data": {
      "application/vnd.jupyter.widget-view+json": {
       "model_id": "92faa9ae4143462189b1a2cf5d500a29",
       "version_major": 2,
       "version_minor": 0
      },
      "text/plain": [
       "HBox(children=(FloatLogSlider(value=0.001, continuous_update=False, max=3.0, min=-10.0), FloatLogSlider(value=…"
      ]
     },
     "metadata": {},
     "output_type": "display_data"
    },
    {
     "data": {
      "application/vnd.jupyter.widget-view+json": {
       "model_id": "5f9b0d19a8784b5885120c7e106f101b",
       "version_major": 2,
       "version_minor": 0
      },
      "text/plain": [
       "Output()"
      ]
     },
     "metadata": {},
     "output_type": "display_data"
    },
    {
     "ename": "AttributeError",
     "evalue": "dtype",
     "output_type": "error",
     "traceback": [
      "\u001b[1;31m---------------------------------------------------------------------------\u001b[0m",
      "\u001b[1;31mKeyError\u001b[0m                                  Traceback (most recent call last)",
      "\u001b[1;32mC:\\Program Files (x86)\\Microsoft Visual Studio\\Shared\\Anaconda3_64\\envs\\StateModeling\\lib\\site-packages\\traitlets\\utils\\bunch.py\u001b[0m in \u001b[0;36m__getattr__\u001b[1;34m(self, key)\u001b[0m\n\u001b[0;32m     12\u001b[0m         \u001b[1;32mtry\u001b[0m\u001b[1;33m:\u001b[0m\u001b[1;33m\u001b[0m\u001b[0m\n\u001b[1;32m---> 13\u001b[1;33m             \u001b[1;32mreturn\u001b[0m \u001b[0mself\u001b[0m\u001b[1;33m.\u001b[0m\u001b[0m__getitem__\u001b[0m\u001b[1;33m(\u001b[0m\u001b[0mkey\u001b[0m\u001b[1;33m)\u001b[0m\u001b[1;33m\u001b[0m\u001b[0m\n\u001b[0m\u001b[0;32m     14\u001b[0m         \u001b[1;32mexcept\u001b[0m \u001b[0mKeyError\u001b[0m\u001b[1;33m:\u001b[0m\u001b[1;33m\u001b[0m\u001b[0m\n",
      "\u001b[1;31mKeyError\u001b[0m: 'dtype'",
      "\nDuring handling of the above exception, another exception occurred:\n",
      "\u001b[1;31mAttributeError\u001b[0m                            Traceback (most recent call last)",
      "\u001b[1;32mC:\\Program Files (x86)\\Microsoft Visual Studio\\Shared\\Anaconda3_64\\envs\\StateModeling\\lib\\site-packages\\ipywidgets\\widgets\\widget.py\u001b[0m in \u001b[0;36m_handle_msg\u001b[1;34m(self, msg)\u001b[0m\n\u001b[0;32m    674\u001b[0m                 \u001b[1;32mif\u001b[0m \u001b[1;34m'buffer_paths'\u001b[0m \u001b[1;32min\u001b[0m \u001b[0mdata\u001b[0m\u001b[1;33m:\u001b[0m\u001b[1;33m\u001b[0m\u001b[0m\n\u001b[0;32m    675\u001b[0m                     \u001b[0m_put_buffers\u001b[0m\u001b[1;33m(\u001b[0m\u001b[0mstate\u001b[0m\u001b[1;33m,\u001b[0m \u001b[0mdata\u001b[0m\u001b[1;33m[\u001b[0m\u001b[1;34m'buffer_paths'\u001b[0m\u001b[1;33m]\u001b[0m\u001b[1;33m,\u001b[0m \u001b[0mmsg\u001b[0m\u001b[1;33m[\u001b[0m\u001b[1;34m'buffers'\u001b[0m\u001b[1;33m]\u001b[0m\u001b[1;33m)\u001b[0m\u001b[1;33m\u001b[0m\u001b[0m\n\u001b[1;32m--> 676\u001b[1;33m                 \u001b[0mself\u001b[0m\u001b[1;33m.\u001b[0m\u001b[0mset_state\u001b[0m\u001b[1;33m(\u001b[0m\u001b[0mstate\u001b[0m\u001b[1;33m)\u001b[0m\u001b[1;33m\u001b[0m\u001b[0m\n\u001b[0m\u001b[0;32m    677\u001b[0m \u001b[1;33m\u001b[0m\u001b[0m\n\u001b[0;32m    678\u001b[0m         \u001b[1;31m# Handle a state request.\u001b[0m\u001b[1;33m\u001b[0m\u001b[1;33m\u001b[0m\u001b[0m\n",
      "\u001b[1;32mC:\\Program Files (x86)\\Microsoft Visual Studio\\Shared\\Anaconda3_64\\envs\\StateModeling\\lib\\site-packages\\ipywidgets\\widgets\\widget.py\u001b[0m in \u001b[0;36mset_state\u001b[1;34m(self, sync_data)\u001b[0m\n\u001b[0;32m    543\u001b[0m                     from_json = self.trait_metadata(name, 'from_json',\n\u001b[0;32m    544\u001b[0m                                                     self._trait_from_json)\n\u001b[1;32m--> 545\u001b[1;33m                     \u001b[0mself\u001b[0m\u001b[1;33m.\u001b[0m\u001b[0mset_trait\u001b[0m\u001b[1;33m(\u001b[0m\u001b[0mname\u001b[0m\u001b[1;33m,\u001b[0m \u001b[0mfrom_json\u001b[0m\u001b[1;33m(\u001b[0m\u001b[0msync_data\u001b[0m\u001b[1;33m[\u001b[0m\u001b[0mname\u001b[0m\u001b[1;33m]\u001b[0m\u001b[1;33m,\u001b[0m \u001b[0mself\u001b[0m\u001b[1;33m)\u001b[0m\u001b[1;33m)\u001b[0m\u001b[1;33m\u001b[0m\u001b[0m\n\u001b[0m\u001b[0;32m    546\u001b[0m \u001b[1;33m\u001b[0m\u001b[0m\n\u001b[0;32m    547\u001b[0m     \u001b[1;32mdef\u001b[0m \u001b[0msend\u001b[0m\u001b[1;33m(\u001b[0m\u001b[0mself\u001b[0m\u001b[1;33m,\u001b[0m \u001b[0mcontent\u001b[0m\u001b[1;33m,\u001b[0m \u001b[0mbuffers\u001b[0m\u001b[1;33m=\u001b[0m\u001b[1;32mNone\u001b[0m\u001b[1;33m)\u001b[0m\u001b[1;33m:\u001b[0m\u001b[1;33m\u001b[0m\u001b[0m\n",
      "\u001b[1;32mC:\\Program Files (x86)\\Microsoft Visual Studio\\Shared\\Anaconda3_64\\envs\\StateModeling\\lib\\contextlib.py\u001b[0m in \u001b[0;36m__exit__\u001b[1;34m(self, type, value, traceback)\u001b[0m\n\u001b[0;32m    117\u001b[0m         \u001b[1;32mif\u001b[0m \u001b[0mtype\u001b[0m \u001b[1;32mis\u001b[0m \u001b[1;32mNone\u001b[0m\u001b[1;33m:\u001b[0m\u001b[1;33m\u001b[0m\u001b[0m\n\u001b[0;32m    118\u001b[0m             \u001b[1;32mtry\u001b[0m\u001b[1;33m:\u001b[0m\u001b[1;33m\u001b[0m\u001b[0m\n\u001b[1;32m--> 119\u001b[1;33m                 \u001b[0mnext\u001b[0m\u001b[1;33m(\u001b[0m\u001b[0mself\u001b[0m\u001b[1;33m.\u001b[0m\u001b[0mgen\u001b[0m\u001b[1;33m)\u001b[0m\u001b[1;33m\u001b[0m\u001b[0m\n\u001b[0m\u001b[0;32m    120\u001b[0m             \u001b[1;32mexcept\u001b[0m \u001b[0mStopIteration\u001b[0m\u001b[1;33m:\u001b[0m\u001b[1;33m\u001b[0m\u001b[0m\n\u001b[0;32m    121\u001b[0m                 \u001b[1;32mreturn\u001b[0m \u001b[1;32mFalse\u001b[0m\u001b[1;33m\u001b[0m\u001b[0m\n",
      "\u001b[1;32mC:\\Program Files (x86)\\Microsoft Visual Studio\\Shared\\Anaconda3_64\\envs\\StateModeling\\lib\\site-packages\\traitlets\\traitlets.py\u001b[0m in \u001b[0;36mhold_trait_notifications\u001b[1;34m(self)\u001b[0m\n\u001b[0;32m   1129\u001b[0m                 \u001b[1;32mfor\u001b[0m \u001b[0mchanges\u001b[0m \u001b[1;32min\u001b[0m \u001b[0mcache\u001b[0m\u001b[1;33m.\u001b[0m\u001b[0mvalues\u001b[0m\u001b[1;33m(\u001b[0m\u001b[1;33m)\u001b[0m\u001b[1;33m:\u001b[0m\u001b[1;33m\u001b[0m\u001b[0m\n\u001b[0;32m   1130\u001b[0m                     \u001b[1;32mfor\u001b[0m \u001b[0mchange\u001b[0m \u001b[1;32min\u001b[0m \u001b[0mchanges\u001b[0m\u001b[1;33m:\u001b[0m\u001b[1;33m\u001b[0m\u001b[0m\n\u001b[1;32m-> 1131\u001b[1;33m                         \u001b[0mself\u001b[0m\u001b[1;33m.\u001b[0m\u001b[0mnotify_change\u001b[0m\u001b[1;33m(\u001b[0m\u001b[0mchange\u001b[0m\u001b[1;33m)\u001b[0m\u001b[1;33m\u001b[0m\u001b[0m\n\u001b[0m\u001b[0;32m   1132\u001b[0m \u001b[1;33m\u001b[0m\u001b[0m\n\u001b[0;32m   1133\u001b[0m     \u001b[1;32mdef\u001b[0m \u001b[0m_notify_trait\u001b[0m\u001b[1;33m(\u001b[0m\u001b[0mself\u001b[0m\u001b[1;33m,\u001b[0m \u001b[0mname\u001b[0m\u001b[1;33m,\u001b[0m \u001b[0mold_value\u001b[0m\u001b[1;33m,\u001b[0m \u001b[0mnew_value\u001b[0m\u001b[1;33m)\u001b[0m\u001b[1;33m:\u001b[0m\u001b[1;33m\u001b[0m\u001b[0m\n",
      "\u001b[1;32mC:\\Program Files (x86)\\Microsoft Visual Studio\\Shared\\Anaconda3_64\\envs\\StateModeling\\lib\\site-packages\\ipywidgets\\widgets\\widget.py\u001b[0m in \u001b[0;36mnotify_change\u001b[1;34m(self, change)\u001b[0m\n\u001b[0;32m    604\u001b[0m                 \u001b[1;31m# Send new state to front-end\u001b[0m\u001b[1;33m\u001b[0m\u001b[1;33m\u001b[0m\u001b[0m\n\u001b[0;32m    605\u001b[0m                 \u001b[0mself\u001b[0m\u001b[1;33m.\u001b[0m\u001b[0msend_state\u001b[0m\u001b[1;33m(\u001b[0m\u001b[0mkey\u001b[0m\u001b[1;33m=\u001b[0m\u001b[0mname\u001b[0m\u001b[1;33m)\u001b[0m\u001b[1;33m\u001b[0m\u001b[0m\n\u001b[1;32m--> 606\u001b[1;33m         \u001b[0msuper\u001b[0m\u001b[1;33m(\u001b[0m\u001b[0mWidget\u001b[0m\u001b[1;33m,\u001b[0m \u001b[0mself\u001b[0m\u001b[1;33m)\u001b[0m\u001b[1;33m.\u001b[0m\u001b[0mnotify_change\u001b[0m\u001b[1;33m(\u001b[0m\u001b[0mchange\u001b[0m\u001b[1;33m)\u001b[0m\u001b[1;33m\u001b[0m\u001b[0m\n\u001b[0m\u001b[0;32m    607\u001b[0m \u001b[1;33m\u001b[0m\u001b[0m\n\u001b[0;32m    608\u001b[0m     \u001b[1;32mdef\u001b[0m \u001b[0m__repr__\u001b[0m\u001b[1;33m(\u001b[0m\u001b[0mself\u001b[0m\u001b[1;33m)\u001b[0m\u001b[1;33m:\u001b[0m\u001b[1;33m\u001b[0m\u001b[0m\n",
      "\u001b[1;32mC:\\Program Files (x86)\\Microsoft Visual Studio\\Shared\\Anaconda3_64\\envs\\StateModeling\\lib\\site-packages\\traitlets\\traitlets.py\u001b[0m in \u001b[0;36mnotify_change\u001b[1;34m(self, change)\u001b[0m\n\u001b[0;32m   1174\u001b[0m                 \u001b[0mc\u001b[0m \u001b[1;33m=\u001b[0m \u001b[0mgetattr\u001b[0m\u001b[1;33m(\u001b[0m\u001b[0mself\u001b[0m\u001b[1;33m,\u001b[0m \u001b[0mc\u001b[0m\u001b[1;33m.\u001b[0m\u001b[0mname\u001b[0m\u001b[1;33m)\u001b[0m\u001b[1;33m\u001b[0m\u001b[0m\n\u001b[0;32m   1175\u001b[0m \u001b[1;33m\u001b[0m\u001b[0m\n\u001b[1;32m-> 1176\u001b[1;33m             \u001b[0mc\u001b[0m\u001b[1;33m(\u001b[0m\u001b[0mchange\u001b[0m\u001b[1;33m)\u001b[0m\u001b[1;33m\u001b[0m\u001b[0m\n\u001b[0m\u001b[0;32m   1177\u001b[0m \u001b[1;33m\u001b[0m\u001b[0m\n\u001b[0;32m   1178\u001b[0m     \u001b[1;32mdef\u001b[0m \u001b[0m_add_notifiers\u001b[0m\u001b[1;33m(\u001b[0m\u001b[0mself\u001b[0m\u001b[1;33m,\u001b[0m \u001b[0mhandler\u001b[0m\u001b[1;33m,\u001b[0m \u001b[0mname\u001b[0m\u001b[1;33m,\u001b[0m \u001b[0mtype\u001b[0m\u001b[1;33m)\u001b[0m\u001b[1;33m:\u001b[0m\u001b[1;33m\u001b[0m\u001b[0m\n",
      "\u001b[1;32m<ipython-input-13-086a03f4522b>\u001b[0m in \u001b[0;36massignParam\u001b[1;34m(d)\u001b[0m\n\u001b[0;32m     91\u001b[0m     \u001b[0maDict\u001b[0m \u001b[1;33m=\u001b[0m \u001b[1;33m{\u001b[0m\u001b[1;34m'd'\u001b[0m\u001b[1;33m:\u001b[0m\u001b[0md\u001b[0m\u001b[1;33m}\u001b[0m\u001b[1;33m\u001b[0m\u001b[0m\n\u001b[0;32m     92\u001b[0m     \u001b[1;32mfor\u001b[0m \u001b[0mvarN\u001b[0m\u001b[1;33m,\u001b[0m \u001b[0mnewval\u001b[0m \u001b[1;32min\u001b[0m \u001b[0maDict\u001b[0m\u001b[1;33m.\u001b[0m\u001b[0mitems\u001b[0m\u001b[1;33m(\u001b[0m\u001b[1;33m)\u001b[0m\u001b[1;33m:\u001b[0m\u001b[1;33m\u001b[0m\u001b[0m\n\u001b[1;32m---> 93\u001b[1;33m         \u001b[0mM\u001b[0m\u001b[1;33m.\u001b[0m\u001b[0massignNewVar\u001b[0m\u001b[1;33m(\u001b[0m\u001b[0mvarN\u001b[0m\u001b[1;33m,\u001b[0m \u001b[0mnewval\u001b[0m\u001b[1;33m)\u001b[0m\u001b[1;33m\u001b[0m\u001b[0m\n\u001b[0m\u001b[0;32m     94\u001b[0m         \u001b[0mprint\u001b[0m\u001b[1;33m(\u001b[0m\u001b[0mvarN\u001b[0m\u001b[1;33m+\u001b[0m\u001b[1;34m\": \"\u001b[0m\u001b[1;33m+\u001b[0m\u001b[0mstr\u001b[0m\u001b[1;33m(\u001b[0m\u001b[0mnewval\u001b[0m\u001b[1;33m)\u001b[0m\u001b[1;33m)\u001b[0m\u001b[1;33m\u001b[0m\u001b[0m\n\u001b[0;32m     95\u001b[0m     \u001b[0mdoFit\u001b[0m\u001b[1;33m(\u001b[0m\u001b[1;33m)\u001b[0m\u001b[1;33m\u001b[0m\u001b[0m\n",
      "\u001b[1;32m~\\Documents\\Programming\\PythonScripts\\StateModeling\\StateModeling.py\u001b[0m in \u001b[0;36massignNewVar\u001b[1;34m(self, varname, newval, relval)\u001b[0m\n\u001b[0;32m   1086\u001b[0m     \u001b[1;32mdef\u001b[0m \u001b[0massignNewVar\u001b[0m\u001b[1;33m(\u001b[0m\u001b[0mself\u001b[0m\u001b[1;33m,\u001b[0m \u001b[0mvarname\u001b[0m\u001b[1;33m,\u001b[0m \u001b[0mnewval\u001b[0m\u001b[1;33m=\u001b[0m\u001b[1;32mNone\u001b[0m\u001b[1;33m,\u001b[0m \u001b[0mrelval\u001b[0m\u001b[1;33m=\u001b[0m\u001b[1;32mNone\u001b[0m\u001b[1;33m)\u001b[0m\u001b[1;33m:\u001b[0m\u001b[1;33m\u001b[0m\u001b[0m\n\u001b[0;32m   1087\u001b[0m         \u001b[1;32mif\u001b[0m \u001b[0mnewval\u001b[0m \u001b[1;32mis\u001b[0m \u001b[1;32mnot\u001b[0m \u001b[1;32mNone\u001b[0m\u001b[1;33m:\u001b[0m\u001b[1;33m\u001b[0m\u001b[0m\n\u001b[1;32m-> 1088\u001b[1;33m             \u001b[0mself\u001b[0m\u001b[1;33m.\u001b[0m\u001b[0mrawVar\u001b[0m\u001b[1;33m[\u001b[0m\u001b[0mvarname\u001b[0m\u001b[1;33m]\u001b[0m\u001b[1;33m.\u001b[0m\u001b[0massign\u001b[0m\u001b[1;33m(\u001b[0m\u001b[0mself\u001b[0m\u001b[1;33m.\u001b[0m\u001b[0mtoRawVar\u001b[0m\u001b[1;33m[\u001b[0m\u001b[0mvarname\u001b[0m\u001b[1;33m]\u001b[0m\u001b[1;33m(\u001b[0m\u001b[0mnewval\u001b[0m\u001b[1;33m)\u001b[0m\u001b[1;33m)\u001b[0m\u001b[1;33m\u001b[0m\u001b[0m\n\u001b[0m\u001b[0;32m   1089\u001b[0m         \u001b[1;32melse\u001b[0m\u001b[1;33m:\u001b[0m\u001b[1;33m\u001b[0m\u001b[0m\n\u001b[0;32m   1090\u001b[0m             \u001b[0mself\u001b[0m\u001b[1;33m.\u001b[0m\u001b[0mrawVar\u001b[0m\u001b[1;33m[\u001b[0m\u001b[0mvarname\u001b[0m\u001b[1;33m]\u001b[0m\u001b[1;33m.\u001b[0m\u001b[0massign\u001b[0m\u001b[1;33m(\u001b[0m\u001b[0mself\u001b[0m\u001b[1;33m.\u001b[0m\u001b[0mtoRawVar\u001b[0m\u001b[1;33m[\u001b[0m\u001b[0mvarname\u001b[0m\u001b[1;33m]\u001b[0m\u001b[1;33m(\u001b[0m\u001b[0mself\u001b[0m\u001b[1;33m.\u001b[0m\u001b[0mVar\u001b[0m\u001b[1;33m[\u001b[0m\u001b[0mvarname\u001b[0m\u001b[1;33m]\u001b[0m\u001b[1;33m(\u001b[0m\u001b[1;33m)\u001b[0m \u001b[1;33m*\u001b[0m \u001b[0mrelval\u001b[0m\u001b[1;33m)\u001b[0m\u001b[1;33m)\u001b[0m\u001b[1;33m\u001b[0m\u001b[0m\n",
      "\u001b[1;32m~\\Documents\\Programming\\PythonScripts\\StateModeling\\StateModeling.py\u001b[0m in \u001b[0;36m<lambda>\u001b[1;34m(avar)\u001b[0m\n\u001b[0;32m   1065\u001b[0m                     \u001b[0mtoVarFkt2\u001b[0m \u001b[1;33m=\u001b[0m \u001b[0mtoVarFkt\u001b[0m\u001b[1;33m\u001b[0m\u001b[0m\n\u001b[0;32m   1066\u001b[0m                 \u001b[1;32mif\u001b[0m \u001b[0mforcePos\u001b[0m\u001b[1;33m:\u001b[0m\u001b[1;33m\u001b[0m\u001b[0m\n\u001b[1;32m-> 1067\u001b[1;33m                     \u001b[0mtoRawFkt3\u001b[0m \u001b[1;33m=\u001b[0m \u001b[1;32mlambda\u001b[0m \u001b[0mavar\u001b[0m\u001b[1;33m:\u001b[0m \u001b[0minvMonotonicPos\u001b[0m\u001b[1;33m(\u001b[0m\u001b[0mtoRawFkt2\u001b[0m\u001b[1;33m(\u001b[0m\u001b[0mavar\u001b[0m\u001b[1;33m)\u001b[0m\u001b[1;33m,\u001b[0m \u001b[0mb2\u001b[0m\u001b[1;33m)\u001b[0m\u001b[1;33m;\u001b[0m\u001b[1;33m\u001b[0m\u001b[0m\n\u001b[0m\u001b[0;32m   1068\u001b[0m                     \u001b[0mtoVarFkt3\u001b[0m \u001b[1;33m=\u001b[0m \u001b[1;32mlambda\u001b[0m \u001b[0mavar\u001b[0m\u001b[1;33m:\u001b[0m \u001b[0mtoVarFkt2\u001b[0m\u001b[1;33m(\u001b[0m\u001b[0mmonotonicPos\u001b[0m\u001b[1;33m(\u001b[0m\u001b[0mavar\u001b[0m\u001b[1;33m,\u001b[0m \u001b[0mb2\u001b[0m\u001b[1;33m)\u001b[0m\u001b[1;33m)\u001b[0m\u001b[1;33m\u001b[0m\u001b[0m\n\u001b[0;32m   1069\u001b[0m                 \u001b[1;32melse\u001b[0m\u001b[1;33m:\u001b[0m\u001b[1;33m\u001b[0m\u001b[0m\n",
      "\u001b[1;32m~\\Documents\\Programming\\PythonScripts\\StateModeling\\StateModeling.py\u001b[0m in \u001b[0;36m<lambda>\u001b[1;34m(avar)\u001b[0m\n\u001b[0;32m   1059\u001b[0m                 \u001b[0mtoRawFkt\u001b[0m \u001b[1;33m=\u001b[0m \u001b[1;32mlambda\u001b[0m \u001b[0mavar\u001b[0m\u001b[1;33m:\u001b[0m \u001b[0mtotensor\u001b[0m\u001b[1;33m(\u001b[0m\u001b[0mavar\u001b[0m\u001b[1;33m)\u001b[0m\u001b[1;33m\u001b[0m\u001b[0m\n\u001b[0;32m   1060\u001b[0m                 \u001b[1;32mif\u001b[0m \u001b[0mnormalize\u001b[0m \u001b[1;32mis\u001b[0m \u001b[1;32mnot\u001b[0m \u001b[1;32mNone\u001b[0m\u001b[1;33m:\u001b[0m\u001b[1;33m\u001b[0m\u001b[0m\n\u001b[1;32m-> 1061\u001b[1;33m                     \u001b[0mtoRawFkt2\u001b[0m \u001b[1;33m=\u001b[0m \u001b[1;32mlambda\u001b[0m \u001b[0mavar\u001b[0m\u001b[1;33m:\u001b[0m \u001b[0minvNormalize\u001b[0m\u001b[1;33m(\u001b[0m\u001b[0mtoRawFkt\u001b[0m\u001b[1;33m(\u001b[0m\u001b[0mavar\u001b[0m\u001b[1;33m)\u001b[0m\u001b[1;33m,\u001b[0m \u001b[0mnormalize\u001b[0m\u001b[1;33m,\u001b[0m \u001b[0minitVal\u001b[0m\u001b[1;33m)\u001b[0m\u001b[1;33m;\u001b[0m\u001b[1;33m\u001b[0m\u001b[0m\n\u001b[0m\u001b[0;32m   1062\u001b[0m                     \u001b[0mtoVarFkt2\u001b[0m \u001b[1;33m=\u001b[0m \u001b[1;32mlambda\u001b[0m \u001b[0mavar\u001b[0m\u001b[1;33m:\u001b[0m \u001b[0mtoVarFkt\u001b[0m\u001b[1;33m(\u001b[0m\u001b[0mdoNormalize\u001b[0m\u001b[1;33m(\u001b[0m\u001b[0mavar\u001b[0m\u001b[1;33m,\u001b[0m \u001b[0mnormalize\u001b[0m\u001b[1;33m,\u001b[0m \u001b[0minitVal\u001b[0m\u001b[1;33m)\u001b[0m\u001b[1;33m)\u001b[0m\u001b[1;33m\u001b[0m\u001b[0m\n\u001b[0;32m   1063\u001b[0m                 \u001b[1;32melse\u001b[0m\u001b[1;33m:\u001b[0m\u001b[1;33m\u001b[0m\u001b[0m\n",
      "\u001b[1;32m~\\Documents\\Programming\\PythonScripts\\StateModeling\\StateModeling.py\u001b[0m in \u001b[0;36m<lambda>\u001b[1;34m(avar)\u001b[0m\n\u001b[0;32m   1057\u001b[0m \u001b[1;33m\u001b[0m\u001b[0m\n\u001b[0;32m   1058\u001b[0m                 \u001b[0mtoVarFkt\u001b[0m \u001b[1;33m=\u001b[0m \u001b[1;32mlambda\u001b[0m \u001b[0mavar\u001b[0m\u001b[1;33m:\u001b[0m \u001b[0mtotensor\u001b[0m\u001b[1;33m(\u001b[0m\u001b[0mavar\u001b[0m\u001b[1;33m)\u001b[0m\u001b[1;33m\u001b[0m\u001b[0m\n\u001b[1;32m-> 1059\u001b[1;33m                 \u001b[0mtoRawFkt\u001b[0m \u001b[1;33m=\u001b[0m \u001b[1;32mlambda\u001b[0m \u001b[0mavar\u001b[0m\u001b[1;33m:\u001b[0m \u001b[0mtotensor\u001b[0m\u001b[1;33m(\u001b[0m\u001b[0mavar\u001b[0m\u001b[1;33m)\u001b[0m\u001b[1;33m\u001b[0m\u001b[0m\n\u001b[0m\u001b[0;32m   1060\u001b[0m                 \u001b[1;32mif\u001b[0m \u001b[0mnormalize\u001b[0m \u001b[1;32mis\u001b[0m \u001b[1;32mnot\u001b[0m \u001b[1;32mNone\u001b[0m\u001b[1;33m:\u001b[0m\u001b[1;33m\u001b[0m\u001b[0m\n\u001b[0;32m   1061\u001b[0m                     \u001b[0mtoRawFkt2\u001b[0m \u001b[1;33m=\u001b[0m \u001b[1;32mlambda\u001b[0m \u001b[0mavar\u001b[0m\u001b[1;33m:\u001b[0m \u001b[0minvNormalize\u001b[0m\u001b[1;33m(\u001b[0m\u001b[0mtoRawFkt\u001b[0m\u001b[1;33m(\u001b[0m\u001b[0mavar\u001b[0m\u001b[1;33m)\u001b[0m\u001b[1;33m,\u001b[0m \u001b[0mnormalize\u001b[0m\u001b[1;33m,\u001b[0m \u001b[0minitVal\u001b[0m\u001b[1;33m)\u001b[0m\u001b[1;33m;\u001b[0m\u001b[1;33m\u001b[0m\u001b[0m\n",
      "\u001b[1;32m~\\Documents\\Programming\\PythonScripts\\StateModeling\\StateModeling.py\u001b[0m in \u001b[0;36mtotensor\u001b[1;34m(img)\u001b[0m\n\u001b[0;32m    407\u001b[0m         \u001b[0mimg\u001b[0m \u001b[1;33m=\u001b[0m \u001b[0mnp\u001b[0m\u001b[1;33m.\u001b[0m\u001b[0marray\u001b[0m\u001b[1;33m(\u001b[0m\u001b[0mimg\u001b[0m\u001b[1;33m,\u001b[0m \u001b[0mCalcFloatStr\u001b[0m\u001b[1;33m)\u001b[0m\u001b[1;33m\u001b[0m\u001b[0m\n\u001b[0;32m    408\u001b[0m \u001b[1;33m\u001b[0m\u001b[0m\n\u001b[1;32m--> 409\u001b[1;33m     \u001b[1;32mif\u001b[0m \u001b[1;32mnot\u001b[0m \u001b[0misNumber\u001b[0m\u001b[1;33m(\u001b[0m\u001b[0mimg\u001b[0m\u001b[1;33m)\u001b[0m \u001b[1;32mand\u001b[0m \u001b[1;33m(\u001b[0m\u001b[1;33m(\u001b[0m\u001b[0mimg\u001b[0m\u001b[1;33m.\u001b[0m\u001b[0mdtype\u001b[0m \u001b[1;33m==\u001b[0m \u001b[0mdefaultTFDataType\u001b[0m\u001b[1;33m)\u001b[0m \u001b[1;32mor\u001b[0m \u001b[1;33m(\u001b[0m\u001b[0mimg\u001b[0m\u001b[1;33m.\u001b[0m\u001b[0mdtype\u001b[0m \u001b[1;33m==\u001b[0m \u001b[0mdefaultTFCpxDataType\u001b[0m\u001b[1;33m)\u001b[0m\u001b[1;33m)\u001b[0m\u001b[1;33m:\u001b[0m\u001b[1;33m\u001b[0m\u001b[0m\n\u001b[0m\u001b[0;32m    410\u001b[0m         \u001b[0mimg\u001b[0m \u001b[1;33m=\u001b[0m \u001b[0mtf\u001b[0m\u001b[1;33m.\u001b[0m\u001b[0mconstant\u001b[0m\u001b[1;33m(\u001b[0m\u001b[0mimg\u001b[0m\u001b[1;33m)\u001b[0m\u001b[1;33m\u001b[0m\u001b[0m\n\u001b[0;32m    411\u001b[0m     \u001b[1;32melse\u001b[0m\u001b[1;33m:\u001b[0m\u001b[1;33m\u001b[0m\u001b[0m\n",
      "\u001b[1;32mC:\\Program Files (x86)\\Microsoft Visual Studio\\Shared\\Anaconda3_64\\envs\\StateModeling\\lib\\site-packages\\traitlets\\utils\\bunch.py\u001b[0m in \u001b[0;36m__getattr__\u001b[1;34m(self, key)\u001b[0m\n\u001b[0;32m     13\u001b[0m             \u001b[1;32mreturn\u001b[0m \u001b[0mself\u001b[0m\u001b[1;33m.\u001b[0m\u001b[0m__getitem__\u001b[0m\u001b[1;33m(\u001b[0m\u001b[0mkey\u001b[0m\u001b[1;33m)\u001b[0m\u001b[1;33m\u001b[0m\u001b[0m\n\u001b[0;32m     14\u001b[0m         \u001b[1;32mexcept\u001b[0m \u001b[0mKeyError\u001b[0m\u001b[1;33m:\u001b[0m\u001b[1;33m\u001b[0m\u001b[0m\n\u001b[1;32m---> 15\u001b[1;33m             \u001b[1;32mraise\u001b[0m \u001b[0mAttributeError\u001b[0m\u001b[1;33m(\u001b[0m\u001b[0mkey\u001b[0m\u001b[1;33m)\u001b[0m\u001b[1;33m\u001b[0m\u001b[0m\n\u001b[0m\u001b[0;32m     16\u001b[0m \u001b[1;33m\u001b[0m\u001b[0m\n\u001b[0;32m     17\u001b[0m     \u001b[1;32mdef\u001b[0m \u001b[0m__setattr__\u001b[0m\u001b[1;33m(\u001b[0m\u001b[0mself\u001b[0m\u001b[1;33m,\u001b[0m \u001b[0mkey\u001b[0m\u001b[1;33m,\u001b[0m \u001b[0mvalue\u001b[0m\u001b[1;33m)\u001b[0m\u001b[1;33m:\u001b[0m\u001b[1;33m\u001b[0m\u001b[0m\n",
      "\u001b[1;31mAttributeError\u001b[0m: dtype"
     ]
    }
   ],
   "source": [
    "#interact_manual(showSim,\n",
    "#        ymin=ymin,\n",
    "#        ymax=ymax)\n",
    "\n",
    "d = widgets.FloatLogSlider(0.06,min=-10,max=2.0,continuous_update=False)\n",
    "r = widgets.FloatLogSlider(0.01,min=-10,max=2.0,continuous_update=False)\n",
    "uiS = widgets.HBox((d,r))\n",
    "allSimWidgets = {'d':d}\n",
    "print('Simulation Control:')\n",
    "    \n",
    "d.observe(assignParam, names='value')\n",
    "# d.observe(showSimRes, names='value')\n",
    "# outS = widgets.interactive_output(assignParam, allSimWidgets)\n",
    "display(uiS, outS)\n",
    "\n",
    "ymin = widgets.FloatLogSlider(0.001,min=-10,max=3,continuous_update=False)\n",
    "ymax = widgets.FloatLogSlider(30.0,min=-10,max=3,continuous_update=False)\n",
    "ui = widgets.HBox((ymin,ymax))\n",
    "allWidgets = {'ymin': ymin, 'ymax': ymax}\n",
    "out = widgets.interactive_output(showSimRes, allWidgets)\n",
    "\n",
    "# out.layout.width = '700px';out.layout.height = '350px'\n",
    "display(ui, out)\n",
    "\n",
    "ymin = widgets.FloatLogSlider(0.0001,min=-10,max=6.0,continuous_update=False)\n",
    "ymax = widgets.FloatLogSlider(0.01,min=-10,max=2.0,continuous_update=False)\n",
    "ui = widgets.HBox((ymin,ymax))\n",
    "allWidgets = {'ymin': ymin, 'ymax': ymax}\n",
    "out2 = widgets.interactive_output(showSimStates, allWidgets)\n",
    "#out2.layout.width = '700px';out2.layout.height = '350px'\n",
    "#display(ui, out2)\n"
   ]
  },
  {
   "cell_type": "code",
   "execution_count": 5,
   "metadata": {},
   "outputs": [
    {
     "data": {
      "text/plain": [
       "'C:\\\\Users\\\\pi96doc\\\\Documents\\\\Programming\\\\PythonScripts\\\\StateModeling'"
      ]
     },
     "execution_count": 5,
     "metadata": {},
     "output_type": "execute_result"
    }
   ],
   "source": [
    "import os\n",
    "os.getcwd()"
   ]
  },
  {
   "cell_type": "code",
   "execution_count": 8,
   "metadata": {},
   "outputs": [
    {
     "data": {
      "application/vnd.jupyter.widget-view+json": {
       "model_id": "b30ffeb43c3f4ab9ac3be09cea847353",
       "version_major": 2,
       "version_minor": 0
      },
      "text/plain": [
       "HBox(children=(Box(children=(HBox(children=(Checkbox(value=True, description='Country', indent=False, layout=L…"
      ]
     },
     "metadata": {},
     "output_type": "display_data"
    }
   ],
   "source": [
    "from ipywidgets import widgets, Layout\n",
    "from IPython.display import display\n",
    "item_layout = Layout(\n",
    "    display='flex',flex_flow='row',\n",
    "    justify_content='space-between'\n",
    ")\n",
    "box_layout=Layout(\n",
    "    display='flex',flex_flow='column',\n",
    "    border='solid 2px',align_items='stretch',width='50%')\n",
    "tickLayout = Layout(display='flex', width='30%')\n",
    "inFitWidget = widgets.Checkbox(value=True, indent=False, layout=tickLayout, description='Country')\n",
    "drop = widgets.Dropdown(options=['a','b'], indent=False, value='a')\n",
    "dropWidget = widgets.HBox((inFitWidget, drop), display='flex', layout = item_layout)\n",
    "valueWidget = widgets.FloatLogSlider(value=1.0,base=10,min=-7,max=1)\n",
    "boxWidget = widgets.HBox((Label('Hi'),valueWidget),layout=item_layout)\n",
    "# valueWidget = widgets.HBox((inFitWidget,valueWidget))\n",
    "widget = widgets.Box((dropWidget, boxWidget), layout=box_layout)\n",
    "display(widgets.HBox((widget,widget,widget, widget)))"
   ]
  },
  {
   "cell_type": "code",
   "execution_count": 15,
   "metadata": {},
   "outputs": [
    {
     "data": {
      "text/plain": [
       "''"
      ]
     },
     "execution_count": 15,
     "metadata": {},
     "output_type": "execute_result"
    }
   ],
   "source": [
    "valueWidget.description"
   ]
  },
  {
   "cell_type": "code",
   "execution_count": 10,
   "metadata": {},
   "outputs": [],
   "source": [
    "def showSimRes(ymin=0.0001,ymax=1.0):\n",
    "    doFit()\n",
    "    p=M.showResultsBokeh(title=AllMeasured['Region'], Scale=PopSum, ylabel='fraction', \n",
    "                  xlim=xlim, dims=(\"District\"), subPlot='cases',\n",
    "                  legendPlacement='upper right',figsize=[10,5], Dates=AllMeasured['Dates'])\n",
    "    p=M.showResultsBokeh(title=AllMeasured['Region'], Scale=PopSum, ylabel='fraction', \n",
    "                  xlim=xlim, dims=(\"District\"), subPlot='hospitalization',\n",
    "                  legendPlacement='upper right',figsize=[10,5], Dates=AllMeasured['Dates'])\n",
    "    p=M.showResultsBokeh(title=AllMeasured['Region'], Scale=PopSum, ylabel='fraction', \n",
    "                  xlim=xlim, dims=(\"District\"), subPlot='deaths', \n",
    "                  legendPlacement='upper right',figsize=[10,5], Dates=AllMeasured['Dates'])\n",
    "    return p\n"
   ]
  },
  {
   "cell_type": "code",
   "execution_count": 5,
   "metadata": {},
   "outputs": [
    {
     "data": {
      "text/plain": [
       "0"
      ]
     },
     "execution_count": 5,
     "metadata": {},
     "output_type": "execute_result"
    }
   ],
   "source": [
    "g['T0'].children[1].value"
   ]
  },
  {
   "cell_type": "code",
   "execution_count": 18,
   "metadata": {},
   "outputs": [
    {
     "data": {
      "text/plain": [
       "<tf.Tensor: shape=(1, 2, 1, 1), dtype=float32, numpy=\n",
       "array([[[[2.5118864e-06]],\n",
       "\n",
       "        [[7.1999998e+00]]]], dtype=float32)>"
      ]
     },
     "execution_count": 18,
     "metadata": {},
     "output_type": "execute_result"
    }
   ],
   "source": [
    "M.Var['T0']()"
   ]
  },
  {
   "cell_type": "code",
   "execution_count": 4,
   "metadata": {},
   "outputs": [
    {
     "data": {
      "text/html": [
       "\n",
       "\n",
       "\n",
       "\n",
       "\n",
       "\n",
       "  <div class=\"bk-root\" id=\"e5c03549-85b1-4023-a1a9-7d2edae9ef35\" data-root-id=\"2149\"></div>\n"
      ]
     },
     "metadata": {},
     "output_type": "display_data"
    },
    {
     "data": {
      "application/javascript": [
       "(function(root) {\n",
       "  function embed_document(root) {\n",
       "    \n",
       "  var docs_json = {\"f277e6f4-a4d0-457a-9459-d965b9208292\":{\"roots\":{\"references\":[{\"attributes\":{\"background_fill_color\":\"#efefef\",\"below\":[{\"id\":\"2160\"}],\"center\":[{\"id\":\"2163\"},{\"id\":\"2167\"}],\"left\":[{\"id\":\"2164\"}],\"name\":\"Blubb\",\"plot_height\":300,\"renderers\":[{\"id\":\"2185\"}],\"title\":{\"id\":\"2150\"},\"toolbar\":{\"id\":\"2175\"},\"x_range\":{\"id\":\"2152\"},\"x_scale\":{\"id\":\"2156\"},\"y_range\":{\"id\":\"2154\"},\"y_scale\":{\"id\":\"2158\"}},\"id\":\"2149\",\"subtype\":\"Figure\",\"type\":\"Plot\"},{\"attributes\":{\"fill_alpha\":{\"value\":0.1},\"fill_color\":{\"value\":\"#cc8800\"},\"line_alpha\":{\"value\":0.1},\"line_color\":{\"value\":\"#cc8800\"},\"top\":{\"field\":\"y\"},\"x\":{\"field\":\"x\"}},\"id\":\"2184\",\"type\":\"VBar\"},{\"attributes\":{},\"id\":\"2168\",\"type\":\"PanTool\"},{\"attributes\":{\"text\":\"simple line example\"},\"id\":\"2150\",\"type\":\"Title\"},{\"attributes\":{},\"id\":\"2169\",\"type\":\"WheelZoomTool\"},{\"attributes\":{\"overlay\":{\"id\":\"2174\"}},\"id\":\"2170\",\"type\":\"BoxZoomTool\"},{\"attributes\":{},\"id\":\"2171\",\"type\":\"SaveTool\"},{\"attributes\":{},\"id\":\"2172\",\"type\":\"ResetTool\"},{\"attributes\":{},\"id\":\"2173\",\"type\":\"HelpTool\"},{\"attributes\":{},\"id\":\"2152\",\"type\":\"DataRange1d\"},{\"attributes\":{\"data_source\":{\"id\":\"2148\"},\"glyph\":{\"id\":\"2183\"},\"hover_glyph\":null,\"muted_glyph\":null,\"name\":\"Hi there\",\"nonselection_glyph\":{\"id\":\"2184\"},\"selection_glyph\":null,\"view\":{\"id\":\"2186\"}},\"id\":\"2185\",\"type\":\"GlyphRenderer\"},{\"attributes\":{\"end\":5,\"start\":-5},\"id\":\"2154\",\"type\":\"Range1d\"},{\"attributes\":{\"active_drag\":\"auto\",\"active_inspect\":\"auto\",\"active_multi\":null,\"active_scroll\":\"auto\",\"active_tap\":\"auto\",\"tools\":[{\"id\":\"2168\"},{\"id\":\"2169\"},{\"id\":\"2170\"},{\"id\":\"2171\"},{\"id\":\"2172\"},{\"id\":\"2173\"}]},\"id\":\"2175\",\"type\":\"Toolbar\"},{\"attributes\":{\"bottom_units\":\"screen\",\"fill_alpha\":0.5,\"fill_color\":\"lightgrey\",\"left_units\":\"screen\",\"level\":\"overlay\",\"line_alpha\":1.0,\"line_color\":\"black\",\"line_dash\":[4,4],\"line_width\":2,\"render_mode\":\"css\",\"right_units\":\"screen\",\"top_units\":\"screen\"},\"id\":\"2174\",\"type\":\"BoxAnnotation\"},{\"attributes\":{},\"id\":\"2156\",\"type\":\"LinearScale\"},{\"attributes\":{},\"id\":\"2158\",\"type\":\"LinearScale\"},{\"attributes\":{\"axis_label\":\"Hi\",\"formatter\":{\"id\":\"2269\"},\"ticker\":{\"id\":\"2161\"}},\"id\":\"2160\",\"type\":\"LinearAxis\"},{\"attributes\":{\"fill_alpha\":{\"value\":0.4},\"fill_color\":{\"value\":\"#cc8800\"},\"line_alpha\":{\"value\":0.4},\"line_color\":{\"value\":\"#cc8800\"},\"top\":{\"field\":\"y\"},\"x\":{\"field\":\"x\"}},\"id\":\"2183\",\"type\":\"VBar\"},{\"attributes\":{},\"id\":\"2161\",\"type\":\"BasicTicker\"},{\"attributes\":{\"axis\":{\"id\":\"2160\"},\"ticker\":null},\"id\":\"2163\",\"type\":\"Grid\"},{\"attributes\":{},\"id\":\"2269\",\"type\":\"BasicTickFormatter\"},{\"attributes\":{\"formatter\":{\"id\":\"2271\"},\"ticker\":{\"id\":\"2165\"}},\"id\":\"2164\",\"type\":\"LinearAxis\"},{\"attributes\":{},\"id\":\"2271\",\"type\":\"BasicTickFormatter\"},{\"attributes\":{},\"id\":\"2165\",\"type\":\"BasicTicker\"},{\"attributes\":{},\"id\":\"2273\",\"type\":\"Selection\"},{\"attributes\":{\"axis\":{\"id\":\"2164\"},\"dimension\":1,\"ticker\":null},\"id\":\"2167\",\"type\":\"Grid\"},{\"attributes\":{\"data\":{\"x\":{\"__ndarray__\":\"AAAAAAAAAAAvupcDFyrVPy+6lwMXKuU/RpdjhSK/7z8vupcDFyr1P7uofcScdPo/RpdjhSK//z/pwiQj1IQCQC+6lwMXKgVAdbEK5FnPB0C7qH3EnHQKQAGg8KTfGQ1ARpdjhSK/D0BGR+uyMjIRQOnCJCPUhBJAjD5ek3XXE0AvupcDFyoVQNI10XO4fBZAdbEK5FnPF0AYLURU+yEZQA==\",\"dtype\":\"float64\",\"shape\":[20]},\"y\":{\"__ndarray__\":\"AAAAAAAAAACpz1BI4MfUPyNEOWuhp+M/5D2uWhHK6j8YLt60UwXvP6pCpSkF5O8/CQsR3QNO7T8QPufeDIvnP/B77Q3sdd4/ylgtf28RxT/BWC1/bxHFv+x77Q3sdd6/DD7n3gyL578HCxHdA07tv6pCpSkF5O+/GS7etFMF77/mPa5aEcrqvyVEOWuhp+O/rs9QSODH1L8HXBQzJqaxvA==\",\"dtype\":\"float64\",\"shape\":[20]}},\"selected\":{\"id\":\"2273\"},\"selection_policy\":{\"id\":\"2274\"}},\"id\":\"2148\",\"type\":\"ColumnDataSource\"},{\"attributes\":{},\"id\":\"2274\",\"type\":\"UnionRenderers\"},{\"attributes\":{\"source\":{\"id\":\"2148\"}},\"id\":\"2186\",\"type\":\"CDSView\"}],\"root_ids\":[\"2149\"]},\"title\":\"Bokeh Application\",\"version\":\"2.0.2\"}};\n",
       "  var render_items = [{\"docid\":\"f277e6f4-a4d0-457a-9459-d965b9208292\",\"notebook_comms_target\":\"2276\",\"root_ids\":[\"2149\"],\"roots\":{\"2149\":\"e5c03549-85b1-4023-a1a9-7d2edae9ef35\"}}];\n",
       "  root.Bokeh.embed.embed_items_notebook(docs_json, render_items);\n",
       "\n",
       "  }\n",
       "  if (root.Bokeh !== undefined) {\n",
       "    embed_document(root);\n",
       "  } else {\n",
       "    var attempts = 0;\n",
       "    var timer = setInterval(function(root) {\n",
       "      if (root.Bokeh !== undefined) {\n",
       "        clearInterval(timer);\n",
       "        embed_document(root);\n",
       "      } else {\n",
       "        attempts++;\n",
       "        if (attempts > 100) {\n",
       "          clearInterval(timer);\n",
       "          console.log(\"Bokeh: ERROR: Unable to run BokehJS code because BokehJS library is missing\");\n",
       "        }\n",
       "      }\n",
       "    }, 10, root)\n",
       "  }\n",
       "})(window);"
      ],
      "application/vnd.bokehjs_exec.v0+json": ""
     },
     "metadata": {
      "application/vnd.bokehjs_exec.v0+json": {
       "id": "2149"
      }
     },
     "output_type": "display_data"
    }
   ],
   "source": [
    "from ipywidgets import interact\n",
    "import numpy as np\n",
    "import pandas as pd\n",
    "\n",
    "from bokeh.io import push_notebook, show, output_notebook\n",
    "from bokeh.plotting import figure\n",
    "from bokeh.models import ColumnDataSource\n",
    "\n",
    "x = np.linspace(0, 2*np.pi, 20)\n",
    "y = np.sin(x)\n",
    "Dates = M.getDates(AllMeasured['Dates'],y)\n",
    "Dates = pd.to_datetime(Dates, dayfirst=True)\n",
    "\n",
    "source = ColumnDataSource(data=dict(x=x, y=y))\n",
    "\n",
    "p = figure(title=\"simple line example\", plot_height=300, plot_width=600, y_range=(-5,5),\n",
    "           background_fill_color='#efefef', name='Blubb') # , x_axis_type='datetime'\n",
    "# r = p.line(pd.to_datetime(Dates), y, color=\"#8888cc\", line_width=1.5, alpha=0.8)\n",
    "# r = p.vbar_stack([x], y=[y-0.5], color=\"#8888cc\")\n",
    "r = p.vbar('x', top='y',color=\"#cc8800\", alpha=0.4, source=source, name='Hi there')\n",
    "# r = p.vbar(x, top=y+1, width=0.15, color=\"#8888cc\", alpha=0.6)\n",
    "p.xaxis.axis_label = 'Hi'\n",
    "q=show(p, notebook_handle=True)\n",
    "# pd.date_range(start=Dates[0], periods=toPlot.shape[0]).map(lambda x: x.strftime('%d.%m.%Y'))\n"
   ]
  },
  {
   "cell_type": "code",
   "execution_count": 48,
   "metadata": {},
   "outputs": [],
   "source": [
    "# pd.to_datetime(Dates)\n",
    "Dates = pd.date_range(start='14.02.2020', periods=x.shape[0]).map(lambda x: x.strftime('%d.%m.%Y'))"
   ]
  },
  {
   "cell_type": "code",
   "execution_count": 6,
   "metadata": {},
   "outputs": [
    {
     "data": {
      "text/plain": [
       "bokeh.plotting.figure.Figure"
      ]
     },
     "execution_count": 6,
     "metadata": {},
     "output_type": "execute_result"
    }
   ],
   "source": [
    "type(p)"
   ]
  },
  {
   "cell_type": "code",
   "execution_count": 14,
   "metadata": {},
   "outputs": [
    {
     "data": {
      "text/plain": [
       "True"
      ]
     },
     "execution_count": 14,
     "metadata": {},
     "output_type": "execute_result"
    }
   ],
   "source": [
    "from bokeh.io.notebook import CommsHandle\n",
    "isinstance(q,CommsHandle)"
   ]
  },
  {
   "cell_type": "code",
   "execution_count": 44,
   "metadata": {},
   "outputs": [
    {
     "data": {
      "text/plain": [
       "bokeh.plotting.figure.Figure"
      ]
     },
     "execution_count": 44,
     "metadata": {},
     "output_type": "execute_result"
    }
   ],
   "source": [
    "type(p)"
   ]
  },
  {
   "cell_type": "code",
   "execution_count": null,
   "metadata": {},
   "outputs": [],
   "source": []
  }
 ],
 "metadata": {
  "kernelspec": {
   "display_name": "Python 3",
   "language": "python",
   "name": "python3"
  },
  "language_info": {
   "codemirror_mode": {
    "name": "ipython",
    "version": 3
   },
   "file_extension": ".py",
   "mimetype": "text/x-python",
   "name": "python",
   "nbconvert_exporter": "python",
   "pygments_lexer": "ipython3",
   "version": "3.7.0"
  }
 },
 "nbformat": 4,
 "nbformat_minor": 4
}
